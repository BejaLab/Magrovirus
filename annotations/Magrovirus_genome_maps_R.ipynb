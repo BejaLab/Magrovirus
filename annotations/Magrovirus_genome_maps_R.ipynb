{
 "cells": [
  {
   "cell_type": "code",
   "execution_count": 1,
   "metadata": {
    "collapsed": false
   },
   "outputs": [
    {
     "name": "stderr",
     "output_type": "stream",
     "text": [
      "\n",
      "Attaching package: ‘dplyr’\n",
      "\n",
      "The following object is masked from ‘package:gridExtra’:\n",
      "\n",
      "    combine\n",
      "\n",
      "The following objects are masked from ‘package:stats’:\n",
      "\n",
      "    filter, lag\n",
      "\n",
      "The following objects are masked from ‘package:base’:\n",
      "\n",
      "    intersect, setdiff, setequal, union\n",
      "\n"
     ]
    }
   ],
   "source": [
    "###Load Packages\n",
    "library(viridis)\n",
    "library(ggplot2)\n",
    "library(gridExtra)\n",
    "library(grid)\n",
    "library(RColorBrewer)\n",
    "library(dplyr)\n",
    "\n",
    "\n",
    "\n",
    "\n"
   ]
  },
  {
   "cell_type": "code",
   "execution_count": 2,
   "metadata": {
    "collapsed": false
   },
   "outputs": [],
   "source": [
    "library(grDevices)\n"
   ]
  },
  {
   "cell_type": "code",
   "execution_count": 3,
   "metadata": {
    "collapsed": true
   },
   "outputs": [],
   "source": [
    "library(\"IRdisplay\")"
   ]
  },
  {
   "cell_type": "code",
   "execution_count": 4,
   "metadata": {
    "collapsed": true
   },
   "outputs": [],
   "source": [
    "library(\"circlize\")"
   ]
  },
  {
   "cell_type": "code",
   "execution_count": 5,
   "metadata": {
    "collapsed": true
   },
   "outputs": [],
   "source": [
    "#library(\"ggfortify\")"
   ]
  },
  {
   "cell_type": "code",
   "execution_count": 6,
   "metadata": {
    "collapsed": false
   },
   "outputs": [
    {
     "name": "stderr",
     "output_type": "stream",
     "text": [
      "Loading required package: GenomicRanges\n",
      "Loading required package: BiocGenerics\n",
      "Loading required package: parallel\n",
      "\n",
      "Attaching package: ‘BiocGenerics’\n",
      "\n",
      "The following objects are masked from ‘package:parallel’:\n",
      "\n",
      "    clusterApply, clusterApplyLB, clusterCall, clusterEvalQ,\n",
      "    clusterExport, clusterMap, parApply, parCapply, parLapply,\n",
      "    parLapplyLB, parRapply, parSapply, parSapplyLB\n",
      "\n",
      "The following objects are masked from ‘package:dplyr’:\n",
      "\n",
      "    combine, intersect, setdiff, union\n",
      "\n",
      "The following object is masked from ‘package:gridExtra’:\n",
      "\n",
      "    combine\n",
      "\n",
      "The following objects are masked from ‘package:stats’:\n",
      "\n",
      "    IQR, mad, xtabs\n",
      "\n",
      "The following objects are masked from ‘package:base’:\n",
      "\n",
      "    anyDuplicated, append, as.data.frame, cbind, colnames, do.call,\n",
      "    duplicated, eval, evalq, Filter, Find, get, grep, grepl, intersect,\n",
      "    is.unsorted, lapply, lengths, Map, mapply, match, mget, order,\n",
      "    paste, pmax, pmax.int, pmin, pmin.int, Position, rank, rbind,\n",
      "    Reduce, rownames, sapply, setdiff, sort, table, tapply, union,\n",
      "    unique, unsplit\n",
      "\n",
      "Loading required package: S4Vectors\n",
      "Warning message:\n",
      "“package ‘S4Vectors’ was built under R version 3.3.1”Loading required package: stats4\n",
      "\n",
      "Attaching package: ‘S4Vectors’\n",
      "\n",
      "The following objects are masked from ‘package:dplyr’:\n",
      "\n",
      "    first, rename\n",
      "\n",
      "The following objects are masked from ‘package:base’:\n",
      "\n",
      "    colMeans, colSums, expand.grid, rowMeans, rowSums\n",
      "\n",
      "Loading required package: IRanges\n",
      "\n",
      "Attaching package: ‘IRanges’\n",
      "\n",
      "The following objects are masked from ‘package:dplyr’:\n",
      "\n",
      "    collapse, desc, regroup, slice\n",
      "\n",
      "Loading required package: GenomeInfoDb\n",
      "Warning message:\n",
      "“package ‘GenomeInfoDb’ was built under R version 3.3.1”"
     ]
    }
   ],
   "source": [
    "library(OmicCircos)"
   ]
  },
  {
   "cell_type": "code",
   "execution_count": 7,
   "metadata": {
    "collapsed": false
   },
   "outputs": [],
   "source": [
    "#library(\"genoPlotR\")"
   ]
  },
  {
   "cell_type": "code",
   "execution_count": 8,
   "metadata": {
    "collapsed": false
   },
   "outputs": [],
   "source": [
    "#library(\"dplyr\")"
   ]
  },
  {
   "cell_type": "code",
   "execution_count": 9,
   "metadata": {
    "collapsed": false
   },
   "outputs": [],
   "source": [
    "#library(\"ggbio\")"
   ]
  },
  {
   "cell_type": "markdown",
   "metadata": {},
   "source": [
    "## Set working dir path"
   ]
  },
  {
   "cell_type": "code",
   "execution_count": 10,
   "metadata": {
    "collapsed": true
   },
   "outputs": [],
   "source": [
    "path <-\".\"\n"
   ]
  },
  {
   "cell_type": "markdown",
   "metadata": {},
   "source": [
    "### define a function for multiple plots with a single legend"
   ]
  },
  {
   "cell_type": "code",
   "execution_count": 11,
   "metadata": {
    "collapsed": true
   },
   "outputs": [],
   "source": [
    "##A function to enable multiple plots that share a single legend\n",
    "##See https://github.com/hadley/ggplot2/wiki/Share-a-legend-between-two-ggplot2-graphs\n",
    "\n",
    "    grid_arrange_shared_legend <- function(..., position = c(\"bottom\", \"right\")) {\n",
    "\n",
    "  plots <- list(...)\n",
    "  position <- match.arg(position)\n",
    "  g <- ggplotGrob(plots[[1]] + theme(legend.position=position))$grobs\n",
    "  legend <- g[[which(sapply(g, function(x) x$name) == \"guide-box\")]]\n",
    "  lheight <- sum(legend$height)\n",
    "  lwidth <- sum(legend$width)\n",
    "  gl <- lapply(plots, function(x) x + theme(legend.position=\"none\"))\n",
    "\n",
    "  combined <- switch(position,\n",
    "                     \"bottom\" = arrangeGrob(do.call(arrangeGrob, gl),\n",
    "                                            legend,\n",
    "                                            ncol = 1,\n",
    "                                            heights = unit.c(unit(1, \"npc\") - lheight, lheight)),\n",
    "                     \"right\" = arrangeGrob(do.call(arrangeGrob, gl),\n",
    "                                           legend,\n",
    "                                           ncol = 2,\n",
    "                                           widths = unit.c(unit(1, \"npc\") - lwidth, lwidth)))\n",
    "  grid.newpage()\n",
    "  grid.draw(combined)\n",
    "}"
   ]
  },
  {
   "cell_type": "markdown",
   "metadata": {},
   "source": [
    "### specific color pallete for regions"
   ]
  },
  {
   "cell_type": "code",
   "execution_count": 12,
   "metadata": {
    "collapsed": true
   },
   "outputs": [],
   "source": [
    "\n",
    "color <- c(\"#ffcc00\", \"#ff0000\", \"#00ffbf\", \"#0000ff\", \"#000066\", \"#660066\", \"#006600\", \"#66ff66\")\n",
    "Region <- c(\"IO\", \"RS\", \"MS\", \"NPO\", \"SPO\", \"SO\", \"SAO\", \"NAO\")\n",
    "color_region <- data.frame(color, Region)\n"
   ]
  },
  {
   "cell_type": "markdown",
   "metadata": {},
   "source": [
    "### set contigs groups, lengths"
   ]
  },
  {
   "cell_type": "code",
   "execution_count": 96,
   "metadata": {
    "collapsed": false
   },
   "outputs": [],
   "source": [
    "genome_name <- c(\"contig_155688\", \"contig_154566\", \"contig_156409\",  \"contig__154592\", \"contig__154680\",\n",
    "             \"contig__154676\", \"contig__155773\", \"contig__172037\", \"contig_154940\", \"contig__155057\",\n",
    "            \"SAMEA2621151_40\", \"SAMEA2621061_122\", \"SAMEA2621085_65\", \"SAMEA2619923_17\", \"SAMEA2621151_104\",\n",
    "            \"SAMEA2620879_23\", \"SAMEA2620078_38\")\n",
    "\n",
    "#contig__154680!! contig__154676!! SAMEA2621061_122!! SAMEA2621151_40!! SAMEA2621085_65!!! contig__154566!! SAMEA2619923_17!! contig__154592!!\n",
    "#contig__155688!! contig__155057!! NA contig__156409!! contig__155773!! SAMEA2620879_23!! SAMEA2621151_104!!! contig__17203!!7\n",
    "\n",
    "length  <- c(\"104484\",\"105801\",\"118409\",\"96096\",\"96282\",\"53712\",\"84959\",\"61133\",\"60318\",\"63765\",\"92290\",\n",
    "            \"106637\",\"102641\",\"102641\",\"92290\",\"93879\",\"94102\")\n",
    "\n",
    "magrovirus_group <- c(\"A\",\"A\",\"A\",\"B1\",\"B1\",\"B1\",\"B2\",\"C\",\"C\",\"C\",\"B2\",\"B2\",\"B2\",\"B2\",\"A\",\"A\",\"A\")\n",
    "\n",
    "contig_lengths <- data.frame(genome_name, length, magrovirus_group)\n",
    "\n",
    "\n",
    "\n"
   ]
  },
  {
   "cell_type": "code",
   "execution_count": 14,
   "metadata": {
    "collapsed": false
   },
   "outputs": [],
   "source": [
    "#contig_lengths"
   ]
  },
  {
   "cell_type": "markdown",
   "metadata": {
    "collapsed": true
   },
   "source": [
    "# Genome Maps "
   ]
  },
  {
   "cell_type": "code",
   "execution_count": 18,
   "metadata": {
    "collapsed": false
   },
   "outputs": [],
   "source": [
    "path_maps <- paste(path,'/', sep = '')\n",
    "group_A_map_path<- paste(path,'/group_A_annotations_for_circle.txt', sep = '')\n",
    "group_A_map_df <- read.csv(group_A_map_path, sep='\\t', stringsAsFactors=FALSE)\n",
    "\n",
    "#get just the eilat contigsw\n",
    "group_A_map_df_eilat <- group_A_map_df[grep(\"contig\", group_A_map_df$chr),  ]\n",
    "\n",
    "#load orf annotation \n",
    "orf_annotations_groups_path <- paste(path, '/orf_annotations_groups.txt', sep='')\n",
    "orf_annotations_groups <- read.csv(orf_annotations_groups_path, sep='\\t')\n"
   ]
  },
  {
   "cell_type": "markdown",
   "metadata": {},
   "source": [
    "### load groupA eilat contigs blastP results"
   ]
  },
  {
   "cell_type": "code",
   "execution_count": 62,
   "metadata": {
    "collapsed": true
   },
   "outputs": [],
   "source": [
    "all_vs_all_blastp_genes_start_end_path <- paste(path,'/all_vs_all_blastp_genes_start_end.tsv', sep='')\n",
    "all_v_all_blastp_results_groupA_blast_start_end_path <- paste(path,'/all_v_all_blastp_results_groupA_blast_start_end.tsv', sep='')\n",
    "all_v_all_blastp_results_groupA_blast_start_end <- read.csv(all_v_all_blastp_results_groupA_blast_start_end_path, sep='\\t', stringsAsFactors=FALSE)\n",
    "\n"
   ]
  },
  {
   "cell_type": "markdown",
   "metadata": {},
   "source": [
    "### load groupA all contigs blastP results\n"
   ]
  },
  {
   "cell_type": "code",
   "execution_count": 61,
   "metadata": {
    "collapsed": true
   },
   "outputs": [],
   "source": [
    "all_vs_all_blastp_genes_start_end_eilat_path <- paste(path,'/all_v_all_plus_annotation_start_end.tsv', sep='')\n",
    "all_v_all_blastp_results_groupA_blast_start_end_path <- paste(path,'/all_v_all_blastp_results_groupA_blast.tsv', sep='')\n",
    "all_v_all_blastp_results_groupA_blast_start_end <- read.csv(all_v_all_blastp_results_groupA_blast_start_end_path, sep='\\t', stringsAsFactors=FALSE)\n",
    "\n"
   ]
  },
  {
   "cell_type": "markdown",
   "metadata": {
    "collapsed": true
   },
   "source": [
    "# genome maps with Circlize\n"
   ]
  },
  {
   "cell_type": "markdown",
   "metadata": {},
   "source": [
    "#### first create a color pallete for the genes"
   ]
  },
  {
   "cell_type": "code",
   "execution_count": 44,
   "metadata": {
    "collapsed": false
   },
   "outputs": [],
   "source": [
    "#get unique values of orf_annotations\n",
    "annotations <- unique(orf_annotations_groups$group)"
   ]
  },
  {
   "cell_type": "code",
   "execution_count": 45,
   "metadata": {
    "collapsed": false
   },
   "outputs": [],
   "source": [
    "total <- merge(group_A_map_df,orf_annotations_groups,by=\"orf_annotation\", )"
   ]
  },
  {
   "cell_type": "code",
   "execution_count": 46,
   "metadata": {
    "collapsed": false
   },
   "outputs": [
    {
     "data": {
      "text/html": [
       "<ol class=list-inline>\n",
       "\t<li>Hypothetical protein</li>\n",
       "\t<li>Structural protein</li>\n",
       "\t<li>Chaperonin</li>\n",
       "\t<li>Transcription, Replication, recombination and repair</li>\n",
       "\t<li>CRISPR/Cas system-associated protein</li>\n",
       "\t<li>DNA-binding protein</li>\n",
       "\t<li>General function prediction</li>\n",
       "\t<li>DUF</li>\n",
       "\t<li>DNA packaging</li>\n",
       "\t<li>Amino acid degradation</li>\n",
       "\t<li>host recognition</li>\n",
       "\t<li>DNA ejection</li>\n",
       "\t<li></li>\n",
       "</ol>\n"
      ],
      "text/latex": [
       "\\begin{enumerate*}\n",
       "\\item Hypothetical protein\n",
       "\\item Structural protein\n",
       "\\item Chaperonin\n",
       "\\item Transcription, Replication, recombination and repair\n",
       "\\item CRISPR/Cas system-associated protein\n",
       "\\item DNA-binding protein\n",
       "\\item General function prediction\n",
       "\\item DUF\n",
       "\\item DNA packaging\n",
       "\\item Amino acid degradation\n",
       "\\item host recognition\n",
       "\\item DNA ejection\n",
       "\\item \n",
       "\\end{enumerate*}\n"
      ],
      "text/markdown": [
       "1. Hypothetical protein\n",
       "2. Structural protein\n",
       "3. Chaperonin\n",
       "4. Transcription, Replication, recombination and repair\n",
       "5. CRISPR/Cas system-associated protein\n",
       "6. DNA-binding protein\n",
       "7. General function prediction\n",
       "8. DUF\n",
       "9. DNA packaging\n",
       "10. Amino acid degradation\n",
       "11. host recognition\n",
       "12. DNA ejection\n",
       "13. \n",
       "\n",
       "\n"
      ],
      "text/plain": [
       " [1] Hypothetical protein                                \n",
       " [2] Structural protein                                  \n",
       " [3] Chaperonin                                          \n",
       " [4] Transcription, Replication, recombination and repair\n",
       " [5] CRISPR/Cas system-associated protein                \n",
       " [6] DNA-binding protein                                 \n",
       " [7] General function prediction                         \n",
       " [8] DUF                                                 \n",
       " [9] DNA packaging                                       \n",
       "[10] Amino acid degradation                              \n",
       "[11] host recognition                                    \n",
       "[12] DNA ejection                                        \n",
       "[13]                                                     \n",
       "13 Levels:  Amino acid degradation ... Transcription, Replication, recombination and repair"
      ]
     },
     "metadata": {},
     "output_type": "display_data"
    }
   ],
   "source": [
    "annotations"
   ]
  },
  {
   "cell_type": "code",
   "execution_count": 47,
   "metadata": {
    "collapsed": false
   },
   "outputs": [],
   "source": [
    "annotations <- as.character(annotations)"
   ]
  },
  {
   "cell_type": "code",
   "execution_count": 48,
   "metadata": {
    "collapsed": false
   },
   "outputs": [
    {
     "data": {
      "text/html": [
       "<ol class=list-inline>\n",
       "\t<li>'Hypothetical protein'</li>\n",
       "\t<li>'Structural protein'</li>\n",
       "\t<li>'Chaperonin'</li>\n",
       "\t<li>'Transcription, Replication, recombination and repair'</li>\n",
       "\t<li>'CRISPR/Cas system-associated protein'</li>\n",
       "\t<li>'DNA-binding protein'</li>\n",
       "\t<li>'General function prediction'</li>\n",
       "\t<li>'DUF'</li>\n",
       "\t<li>'DNA packaging'</li>\n",
       "\t<li>'Amino acid degradation'</li>\n",
       "\t<li>'host recognition'</li>\n",
       "\t<li>'DNA ejection'</li>\n",
       "</ol>\n"
      ],
      "text/latex": [
       "\\begin{enumerate*}\n",
       "\\item 'Hypothetical protein'\n",
       "\\item 'Structural protein'\n",
       "\\item 'Chaperonin'\n",
       "\\item 'Transcription, Replication, recombination and repair'\n",
       "\\item 'CRISPR/Cas system-associated protein'\n",
       "\\item 'DNA-binding protein'\n",
       "\\item 'General function prediction'\n",
       "\\item 'DUF'\n",
       "\\item 'DNA packaging'\n",
       "\\item 'Amino acid degradation'\n",
       "\\item 'host recognition'\n",
       "\\item 'DNA ejection'\n",
       "\\end{enumerate*}\n"
      ],
      "text/markdown": [
       "1. 'Hypothetical protein'\n",
       "2. 'Structural protein'\n",
       "3. 'Chaperonin'\n",
       "4. 'Transcription, Replication, recombination and repair'\n",
       "5. 'CRISPR/Cas system-associated protein'\n",
       "6. 'DNA-binding protein'\n",
       "7. 'General function prediction'\n",
       "8. 'DUF'\n",
       "9. 'DNA packaging'\n",
       "10. 'Amino acid degradation'\n",
       "11. 'host recognition'\n",
       "12. 'DNA ejection'\n",
       "\n",
       "\n"
      ],
      "text/plain": [
       " [1] \"Hypothetical protein\"                                \n",
       " [2] \"Structural protein\"                                  \n",
       " [3] \"Chaperonin\"                                          \n",
       " [4] \"Transcription, Replication, recombination and repair\"\n",
       " [5] \"CRISPR/Cas system-associated protein\"                \n",
       " [6] \"DNA-binding protein\"                                 \n",
       " [7] \"General function prediction\"                         \n",
       " [8] \"DUF\"                                                 \n",
       " [9] \"DNA packaging\"                                       \n",
       "[10] \"Amino acid degradation\"                              \n",
       "[11] \"host recognition\"                                    \n",
       "[12] \"DNA ejection\"                                        "
      ]
     },
     "metadata": {},
     "output_type": "display_data"
    }
   ],
   "source": [
    "#from some reasong there's a 13th null element. remove it.\n",
    "annotations <- annotations[-13]\n",
    "annotations"
   ]
  },
  {
   "cell_type": "code",
   "execution_count": 49,
   "metadata": {
    "collapsed": false
   },
   "outputs": [],
   "source": [
    "#create a custom color palette\n",
    "annotation_color <- brewer.pal(length(annotations), \"Paired\")\n"
   ]
  },
  {
   "cell_type": "code",
   "execution_count": 50,
   "metadata": {
    "collapsed": false
   },
   "outputs": [],
   "source": [
    "#add group names to colors\n",
    "names(annotation_color) <- annotations\n",
    "contig_col <- brewer.pal(8, \"Set1\")"
   ]
  },
  {
   "cell_type": "code",
   "execution_count": 51,
   "metadata": {
    "collapsed": false
   },
   "outputs": [
    {
     "data": {
      "text/html": [
       "<dl class=dl-horizontal>\n",
       "\t<dt>Hypothetical protein</dt>\n",
       "\t\t<dd>'#A6CEE3'</dd>\n",
       "\t<dt>Structural protein</dt>\n",
       "\t\t<dd>'#1F78B4'</dd>\n",
       "\t<dt>Chaperonin</dt>\n",
       "\t\t<dd>'#B2DF8A'</dd>\n",
       "\t<dt>Transcription, Replication, recombination and repair</dt>\n",
       "\t\t<dd>'#33A02C'</dd>\n",
       "\t<dt>CRISPR/Cas system-associated protein</dt>\n",
       "\t\t<dd>'#FB9A99'</dd>\n",
       "\t<dt>DNA-binding protein</dt>\n",
       "\t\t<dd>'#E31A1C'</dd>\n",
       "\t<dt>General function prediction</dt>\n",
       "\t\t<dd>'#FDBF6F'</dd>\n",
       "\t<dt>DUF</dt>\n",
       "\t\t<dd>'#FF7F00'</dd>\n",
       "\t<dt>DNA packaging</dt>\n",
       "\t\t<dd>'#CAB2D6'</dd>\n",
       "\t<dt>Amino acid degradation</dt>\n",
       "\t\t<dd>'#6A3D9A'</dd>\n",
       "\t<dt>host recognition</dt>\n",
       "\t\t<dd>'#FFFF99'</dd>\n",
       "\t<dt>DNA ejection</dt>\n",
       "\t\t<dd>'#B15928'</dd>\n",
       "</dl>\n"
      ],
      "text/latex": [
       "\\begin{description*}\n",
       "\\item[Hypothetical protein] '\\#A6CEE3'\n",
       "\\item[Structural protein] '\\#1F78B4'\n",
       "\\item[Chaperonin] '\\#B2DF8A'\n",
       "\\item[Transcription, Replication, recombination and repair] '\\#33A02C'\n",
       "\\item[CRISPR/Cas system-associated protein] '\\#FB9A99'\n",
       "\\item[DNA-binding protein] '\\#E31A1C'\n",
       "\\item[General function prediction] '\\#FDBF6F'\n",
       "\\item[DUF] '\\#FF7F00'\n",
       "\\item[DNA packaging] '\\#CAB2D6'\n",
       "\\item[Amino acid degradation] '\\#6A3D9A'\n",
       "\\item[host recognition] '\\#FFFF99'\n",
       "\\item[DNA ejection] '\\#B15928'\n",
       "\\end{description*}\n"
      ],
      "text/markdown": [
       "Hypothetical protein\n",
       ":   '#A6CEE3'Structural protein\n",
       ":   '#1F78B4'Chaperonin\n",
       ":   '#B2DF8A'Transcription, Replication, recombination and repair\n",
       ":   '#33A02C'CRISPR/Cas system-associated protein\n",
       ":   '#FB9A99'DNA-binding protein\n",
       ":   '#E31A1C'General function prediction\n",
       ":   '#FDBF6F'DUF\n",
       ":   '#FF7F00'DNA packaging\n",
       ":   '#CAB2D6'Amino acid degradation\n",
       ":   '#6A3D9A'host recognition\n",
       ":   '#FFFF99'DNA ejection\n",
       ":   '#B15928'\n",
       "\n"
      ],
      "text/plain": [
       "                                Hypothetical protein \n",
       "                                           \"#A6CEE3\" \n",
       "                                  Structural protein \n",
       "                                           \"#1F78B4\" \n",
       "                                          Chaperonin \n",
       "                                           \"#B2DF8A\" \n",
       "Transcription, Replication, recombination and repair \n",
       "                                           \"#33A02C\" \n",
       "                CRISPR/Cas system-associated protein \n",
       "                                           \"#FB9A99\" \n",
       "                                 DNA-binding protein \n",
       "                                           \"#E31A1C\" \n",
       "                         General function prediction \n",
       "                                           \"#FDBF6F\" \n",
       "                                                 DUF \n",
       "                                           \"#FF7F00\" \n",
       "                                       DNA packaging \n",
       "                                           \"#CAB2D6\" \n",
       "                              Amino acid degradation \n",
       "                                           \"#6A3D9A\" \n",
       "                                    host recognition \n",
       "                                           \"#FFFF99\" \n",
       "                                        DNA ejection \n",
       "                                           \"#B15928\" "
      ]
     },
     "metadata": {},
     "output_type": "display_data"
    }
   ],
   "source": [
    "annotation_color"
   ]
  },
  {
   "cell_type": "code",
   "execution_count": 65,
   "metadata": {
    "collapsed": false
   },
   "outputs": [],
   "source": [
    "#typeof(\n",
    "annotation_col <- data.frame(annotations,annotation_color, stringsAsFactors = FALSE)\n",
    "colnames(annotation_col) <- c(\"group\",\"col\")\n",
    "rownames(annotation_col) <- annotation_col[,1]\n",
    "#annotation_col[,1] <- NULL\n"
   ]
  },
  {
   "cell_type": "code",
   "execution_count": 86,
   "metadata": {
    "collapsed": false
   },
   "outputs": [],
   "source": [
    "#group_A_map_df"
   ]
  },
  {
   "cell_type": "code",
   "execution_count": 87,
   "metadata": {
    "collapsed": false
   },
   "outputs": [],
   "source": [
    "#create a sector list ()\n",
    "sector <- unique(group_A_map_df$name)\n",
    "sector <- as.character(sector)\n"
   ]
  },
  {
   "cell_type": "code",
   "execution_count": 97,
   "metadata": {
    "collapsed": false
   },
   "outputs": [
    {
     "name": "stdout",
     "output_type": "stream",
     "text": [
      "[1] \"contig_156409\"\n",
      "[1] \"SAMEA2621061_122\"\n",
      "[1] \"contig_154566\"\n",
      "[1] \"contig_155688\"\n",
      "[1] \"SAMEA2619923_17\"\n",
      "[1] \"SAMEA2621085_65\"\n",
      "[1] \"SAMEA2621151_40\"\n"
     ]
    }
   ],
   "source": [
    "#defien the xlim - the size of each secotr\n",
    "sector_xlim = NULL\n",
    "for (t in unique(group_A_map_df[[1]])) {\n",
    "    print(t)\n",
    "    sector_xlim = rbind(sector_xlim, c(0, as.double(contig_lengths[contig_lengths[1]==t][2])))\n",
    "}"
   ]
  },
  {
   "cell_type": "code",
   "execution_count": 98,
   "metadata": {
    "collapsed": false
   },
   "outputs": [
    {
     "data": {
      "text/html": [
       "<table>\n",
       "<tbody>\n",
       "\t<tr><td>0     </td><td>118409</td></tr>\n",
       "\t<tr><td>0     </td><td>106637</td></tr>\n",
       "\t<tr><td>0     </td><td>105801</td></tr>\n",
       "\t<tr><td>0     </td><td>104484</td></tr>\n",
       "\t<tr><td>0     </td><td>102641</td></tr>\n",
       "\t<tr><td>0     </td><td>102641</td></tr>\n",
       "\t<tr><td>0     </td><td> 92290</td></tr>\n",
       "</tbody>\n",
       "</table>\n"
      ],
      "text/latex": [
       "\\begin{tabular}{ll}\n",
       "\t 0      & 118409\\\\\n",
       "\t 0      & 106637\\\\\n",
       "\t 0      & 105801\\\\\n",
       "\t 0      & 104484\\\\\n",
       "\t 0      & 102641\\\\\n",
       "\t 0      & 102641\\\\\n",
       "\t 0      &  92290\\\\\n",
       "\\end{tabular}\n"
      ],
      "text/markdown": [
       "1. 0\n",
       "2. 0\n",
       "3. 0\n",
       "4. 0\n",
       "5. 0\n",
       "6. 0\n",
       "7. 0\n",
       "8. 118409\n",
       "9. 106637\n",
       "10. 105801\n",
       "11. 104484\n",
       "12. 102641\n",
       "13. 102641\n",
       "14. 92290\n",
       "\n",
       "\n"
      ],
      "text/plain": [
       "     [,1] [,2]  \n",
       "[1,] 0    118409\n",
       "[2,] 0    106637\n",
       "[3,] 0    105801\n",
       "[4,] 0    104484\n",
       "[5,] 0    102641\n",
       "[6,] 0    102641\n",
       "[7,] 0     92290"
      ]
     },
     "metadata": {},
     "output_type": "display_data"
    }
   ],
   "source": [
    "sector_xlim"
   ]
  },
  {
   "cell_type": "code",
   "execution_count": 99,
   "metadata": {
    "collapsed": false
   },
   "outputs": [],
   "source": [
    "#make colnames readable for circlize\n",
    "\n",
    "colnames(group_A_map_df) <- c(\"name\",\"gene_name\",\"start\",\"end\",\"length\",\"strand\",\"orf_annotation\",\"conserved_proteins\")\n",
    "\n",
    "group_A_map_df_circ <- total[,c(2,4,5,6,3,7,1,8,9)]\n",
    "#head(group_A_map_df_circ)"
   ]
  },
  {
   "cell_type": "code",
   "execution_count": 100,
   "metadata": {
    "collapsed": false
   },
   "outputs": [],
   "source": [
    "\n",
    "#\"bending.outside\"\n",
    "\n",
    "face <- as.character(c(\"bending.inside\", \"bending.inside\", \"bending.outside\", \"bending.inside\", \"bending.inside\",\n",
    "                       \"bending.outside\", \"bending.inside\"))\n",
    "adj <- c(-3,-3,3,3,-3,3, 3)\n",
    "sector_face <- data.frame(sector, face,adj)\n"
   ]
  },
  {
   "cell_type": "code",
   "execution_count": 101,
   "metadata": {
    "collapsed": false
   },
   "outputs": [
    {
     "data": {
      "text/html": [
       "<table>\n",
       "<thead><tr><th></th><th scope=col>group</th><th scope=col>col</th></tr></thead>\n",
       "<tbody>\n",
       "\t<tr><th scope=row>Hypothetical protein</th><td>Hypothetical protein                                </td><td>#A6CEE3                                             </td></tr>\n",
       "\t<tr><th scope=row>Structural protein</th><td>Structural protein                                  </td><td>#1F78B4                                             </td></tr>\n",
       "\t<tr><th scope=row>Chaperonin</th><td>Chaperonin                                          </td><td>#B2DF8A                                             </td></tr>\n",
       "\t<tr><th scope=row>Transcription, Replication, recombination and repair</th><td>Transcription, Replication, recombination and repair</td><td>#33A02C                                             </td></tr>\n",
       "\t<tr><th scope=row>CRISPR/Cas system-associated protein</th><td>CRISPR/Cas system-associated protein                </td><td>#FB9A99                                             </td></tr>\n",
       "\t<tr><th scope=row>DNA-binding protein</th><td>DNA-binding protein                                 </td><td>#E31A1C                                             </td></tr>\n",
       "\t<tr><th scope=row>General function prediction</th><td>General function prediction                         </td><td>#FDBF6F                                             </td></tr>\n",
       "\t<tr><th scope=row>DUF</th><td>DUF                                                 </td><td>#FF7F00                                             </td></tr>\n",
       "\t<tr><th scope=row>DNA packaging</th><td>DNA packaging                                       </td><td>#CAB2D6                                             </td></tr>\n",
       "\t<tr><th scope=row>Amino acid degradation</th><td>Amino acid degradation                              </td><td>#6A3D9A                                             </td></tr>\n",
       "\t<tr><th scope=row>host recognition</th><td>host recognition                                    </td><td>#FFFF99                                             </td></tr>\n",
       "\t<tr><th scope=row>DNA ejection</th><td>DNA ejection                                        </td><td>#B15928                                             </td></tr>\n",
       "</tbody>\n",
       "</table>\n"
      ],
      "text/latex": [
       "\\begin{tabular}{r|ll}\n",
       "  & group & col\\\\\n",
       "\\hline\n",
       "\tHypothetical protein & Hypothetical protein                                 & \\#A6CEE3                                           \\\\\n",
       "\tStructural protein & Structural protein                                   & \\#1F78B4                                           \\\\\n",
       "\tChaperonin & Chaperonin                                           & \\#B2DF8A                                           \\\\\n",
       "\tTranscription, Replication, recombination and repair & Transcription, Replication, recombination and repair & \\#33A02C                                           \\\\\n",
       "\tCRISPR/Cas system-associated protein & CRISPR/Cas system-associated protein                 & \\#FB9A99                                           \\\\\n",
       "\tDNA-binding protein & DNA-binding protein                                  & \\#E31A1C                                           \\\\\n",
       "\tGeneral function prediction & General function prediction                          & \\#FDBF6F                                           \\\\\n",
       "\tDUF & DUF                                                  & \\#FF7F00                                           \\\\\n",
       "\tDNA packaging & DNA packaging                                        & \\#CAB2D6                                           \\\\\n",
       "\tAmino acid degradation & Amino acid degradation                               & \\#6A3D9A                                           \\\\\n",
       "\thost recognition & host recognition                                     & \\#FFFF99                                           \\\\\n",
       "\tDNA ejection & DNA ejection                                         & \\#B15928                                           \\\\\n",
       "\\end{tabular}\n"
      ],
      "text/plain": [
       "                                                     group                                               \n",
       "Hypothetical protein                                 Hypothetical protein                                \n",
       "Structural protein                                   Structural protein                                  \n",
       "Chaperonin                                           Chaperonin                                          \n",
       "Transcription, Replication, recombination and repair Transcription, Replication, recombination and repair\n",
       "CRISPR/Cas system-associated protein                 CRISPR/Cas system-associated protein                \n",
       "DNA-binding protein                                  DNA-binding protein                                 \n",
       "General function prediction                          General function prediction                         \n",
       "DUF                                                  DUF                                                 \n",
       "DNA packaging                                        DNA packaging                                       \n",
       "Amino acid degradation                               Amino acid degradation                              \n",
       "host recognition                                     host recognition                                    \n",
       "DNA ejection                                         DNA ejection                                        \n",
       "                                                     col    \n",
       "Hypothetical protein                                 #A6CEE3\n",
       "Structural protein                                   #1F78B4\n",
       "Chaperonin                                           #B2DF8A\n",
       "Transcription, Replication, recombination and repair #33A02C\n",
       "CRISPR/Cas system-associated protein                 #FB9A99\n",
       "DNA-binding protein                                  #E31A1C\n",
       "General function prediction                          #FDBF6F\n",
       "DUF                                                  #FF7F00\n",
       "DNA packaging                                        #CAB2D6\n",
       "Amino acid degradation                               #6A3D9A\n",
       "host recognition                                     #FFFF99\n",
       "DNA ejection                                         #B15928"
      ]
     },
     "metadata": {},
     "output_type": "display_data"
    }
   ],
   "source": [
    "annotation_col\n"
   ]
  },
  {
   "cell_type": "code",
   "execution_count": null,
   "metadata": {
    "collapsed": false
   },
   "outputs": [],
   "source": [
    "par(family = 'sans')\n",
    "all_v_all_blastp_results_groupA_blast_start_end$qseqid <- as.character(all_v_all_blastp_results_groupA_blast_start_end$qseqid)\n",
    "group_A_map_df_circ$group <- as.character(group_A_map_df_circ$group)\n",
    "#circos.par(cell.padding = c(0, 0, 0, 0), start.degree = 270, gap.degree = c(2, 2, 2))\n",
    "circos.par(cell.padding=c(0,0,0,0), track.margin=c(0,0.15), start.degree = 90, gap.degree =4)\n",
    "circos.initialize(factors = factor(sector, levels = sector), xlim = sector_xlim, )\n",
    "\n",
    "##create outer tracks - genome color\n",
    "circos.trackPlotRegion(ylim = c(0, 1), panel.fun = function(x, y) {\n",
    "    sector.index = get.cell.meta.data(\"sector.index\")\n",
    "    xlim <- get.cell.meta.data(\"xlim\")\n",
    "    ylim <- get.cell.meta.data(\"ylim\")\n",
    "    #print (xlim)\n",
    "    sub <- subset(group_A_map_df_circ,  name ==sector.index)\n",
    "    for(i in seq_len(nrow(sub))) {\n",
    "        circos.rect(sub[i,2], 0, sub[i,3], 1,\n",
    "                sector.index = sub[i,1], col = annotation_col$col[annotation_col$group == sub[i,9]])\n",
    "    \n",
    "    }\n",
    "    #get the index of the colums in the mauve backbone df\n",
    "    \n",
    "circos.par(track.margin=c(0,3)) \n",
    "    \n",
    "    face = sector_face[sector_face[1]== sector.index][2]\n",
    "    adj = as.numeric(sector_face[sector_face[1]== sector.index][3])\n",
    "    circos.text(mean(xlim), mean(ylim+3), sector.index, cex = 0.7, facing = face, niceFacing = TRUE)#, adj = adj)\n",
    "    circos.axis(h = \"top\", labels.cex = 0.4, major.tick.percentage = 0.3)\n",
    "}, track.height = 0.08, bg.col = '#f2f2f2', track.margin = c(0.4, 0.2))\n",
    "\n",
    "    \n",
    "\n",
    "#}}\n",
    "\n",
    "    \n",
    "    \n",
    "for(i in seq_len(nrow(all_v_all_blastp_results_groupA_blast_start_end))) {\n",
    "\n",
    "    \n",
    "        circos.par(track.margin=c(0,0))\n",
    "\n",
    "        query_name = all_v_all_blastp_results_groupA_blast_start_end$query_contig[i]\n",
    "        #print(all_v_all_blastp_results_groupA_blast_start_end$query_end[i])\n",
    "        subject_name = all_v_all_blastp_results_groupA_blast_start_end$subject_contig[i]\n",
    " \n",
    "            circos.link(query_name, c(all_v_all_blastp_results_groupA_blast_start_end$query_start[i], all_v_all_blastp_results_groupA_blast_start_end$query_end[i]),\n",
    "        subject_name,\n",
    "        c(all_v_all_blastp_results_groupA_blast_start_end$subject_start[i], all_v_all_blastp_results_groupA_blast_start_end$subject_end[i]),\n",
    "        #col = annotation_col$col[annotation_col$group == group_A_map_df_circ$group[group_A_map_df_circ$name == all_v_all_blastp_results_groupA_blast_start_end$qseqid[i]]],\n",
    "        border = NA)\n",
    "\n",
    "\n",
    "\n",
    "\n",
    "#}\n",
    "}\n",
    "circos.clear()\n"
   ]
  },
  {
   "cell_type": "code",
   "execution_count": null,
   "metadata": {
    "collapsed": true
   },
   "outputs": [],
   "source": []
  },
  {
   "cell_type": "code",
   "execution_count": 104,
   "metadata": {
    "collapsed": false
   },
   "outputs": [
    {
     "data": {
      "text/html": [
       "<table>\n",
       "<thead><tr><th scope=col>qseqid</th><th scope=col>sseqid</th><th scope=col>pident</th><th scope=col>length</th><th scope=col>mismatch</th><th scope=col>gapopen</th><th scope=col>qstart</th><th scope=col>qend</th><th scope=col>sstart</th><th scope=col>send</th><th scope=col>evalue</th><th scope=col>bitscore</th><th scope=col>query_contig</th><th scope=col>subject_contig</th><th scope=col>query_start</th><th scope=col>query_end</th><th scope=col>subject_start</th><th scope=col>subject_end</th></tr></thead>\n",
       "<tbody>\n",
       "\t<tr><td>gene_103_contig_154566</td><td>gene_4_contig_156409  </td><td>54.688                </td><td>128                   </td><td> 50                   </td><td> 3                    </td><td> 174                  </td><td> 294                  </td><td> 131                  </td><td> 257                  </td><td> 1.34e-27             </td><td>112.0                 </td><td>contig_154566         </td><td>contig_156409         </td><td> 96497                </td><td> 97951                </td><td> 4487                 </td><td> 7084                 </td></tr>\n",
       "\t<tr><td>gene_106_contig_154566</td><td>gene_63_contig_155688 </td><td>53.846                </td><td>104                   </td><td> 48                   </td><td> 0                    </td><td>  10                  </td><td> 113                  </td><td>   1                  </td><td> 104                  </td><td> 4.76e-43             </td><td>133.0                 </td><td>contig_154566         </td><td>contig_155688         </td><td>100796                </td><td>101140                </td><td>41810                 </td><td>42127                 </td></tr>\n",
       "\t<tr><td>gene_11_contig_154566 </td><td>gene_76_contig_155688 </td><td>58.172                </td><td>569                   </td><td>187                   </td><td>12                    </td><td>   1                  </td><td> 559                  </td><td>   1                  </td><td> 528                  </td><td> 0.00e+00             </td><td>633.0                 </td><td>contig_154566         </td><td>contig_155688         </td><td> 19880                </td><td> 21562                </td><td>67560                 </td><td>69149                 </td></tr>\n",
       "\t<tr><td>gene_12_contig_154566 </td><td>gene_78_contig_155688 </td><td>65.079                </td><td> 63                   </td><td> 22                   </td><td> 0                    </td><td>  36                  </td><td>  98                  </td><td>  21                  </td><td>  83                  </td><td> 3.01e-30             </td><td> 99.4                 </td><td>contig_154566         </td><td>contig_155688         </td><td> 21562                </td><td> 21861                </td><td>69776                 </td><td>70030                 </td></tr>\n",
       "\t<tr><td>gene_13_contig_156409 </td><td>gene_91_contig_155688 </td><td>80.435                </td><td> 92                   </td><td> 18                   </td><td> 0                    </td><td>   3                  </td><td>  94                  </td><td>  10                  </td><td> 101                  </td><td> 3.06e-50             </td><td>151.0                 </td><td>contig_156409         </td><td>contig_155688         </td><td> 17274                </td><td> 17573                </td><td>84268                 </td><td>84672                 </td></tr>\n",
       "\t<tr><td>gene_14_contig_156409 </td><td>gene_93_contig_155688 </td><td>95.652                </td><td> 46                   </td><td>  2                   </td><td> 0                    </td><td>   1                  </td><td>  46                  </td><td>   7                  </td><td>  52                  </td><td> 2.56e-26             </td><td> 86.3                 </td><td>contig_156409         </td><td>contig_155688         </td><td> 17785                </td><td> 17925                </td><td>84872                 </td><td>85030                 </td></tr>\n",
       "\t<tr><td>gene_15_contig_156409 </td><td>gene_40_contig_154566 </td><td>82.692                </td><td>104                   </td><td> 18                   </td><td> 0                    </td><td>   3                  </td><td> 106                  </td><td> 156                  </td><td> 259                  </td><td> 2.73e-56             </td><td>171.0                 </td><td>contig_156409         </td><td>contig_154566         </td><td> 17973                </td><td> 18293                </td><td>48586                 </td><td>49365                 </td></tr>\n",
       "\t<tr><td>gene_15_contig_156409 </td><td>gene_66_contig_155688 </td><td>80.952                </td><td>105                   </td><td> 15                   </td><td> 1                    </td><td>   2                  </td><td> 106                  </td><td>  13                  </td><td> 112                  </td><td> 7.02e-54             </td><td>160.0                 </td><td>contig_156409         </td><td>contig_155688         </td><td> 17973                </td><td> 18293                </td><td>44124                 </td><td>44462                 </td></tr>\n",
       "\t<tr><td>gene_17_contig_154566 </td><td>gene_83_contig_155688 </td><td>80.637                </td><td>377                   </td><td> 62                   </td><td> 3                    </td><td>   1                  </td><td> 377                  </td><td>   1                  </td><td> 366                  </td><td> 0.00e+00             </td><td>613.0                 </td><td>contig_154566         </td><td>contig_155688         </td><td> 23323                </td><td> 24456                </td><td>71407                 </td><td>72507                 </td></tr>\n",
       "\t<tr><td>gene_17_contig_154566 </td><td>gene_88_contig_156409 </td><td>69.531                </td><td>384                   </td><td>107                   </td><td> 6                    </td><td>   1                  </td><td> 377                  </td><td>   1                  </td><td> 381                  </td><td> 0.00e+00             </td><td>555.0                 </td><td>contig_154566         </td><td>contig_156409         </td><td> 23323                </td><td> 24456                </td><td>91376                 </td><td>92521                 </td></tr>\n",
       "\t<tr><td>gene_18_contig_154566 </td><td>gene_84_contig_155688 </td><td>59.170                </td><td>458                   </td><td>160                   </td><td>11                    </td><td>  13                  </td><td> 460                  </td><td>  17                  </td><td> 457                  </td><td>3.73e-173             </td><td>490.0                 </td><td>contig_154566         </td><td>contig_155688         </td><td> 24459                </td><td> 25847                </td><td>72525                 </td><td>73904                 </td></tr>\n",
       "\t<tr><td>gene_18_contig_154566 </td><td>gene_87_contig_156409 </td><td>51.163                </td><td>473                   </td><td>188                   </td><td>11                    </td><td>  12                  </td><td> 460                  </td><td>  17                  </td><td> 470                  </td><td>4.68e-146             </td><td>422.0                 </td><td>contig_154566         </td><td>contig_156409         </td><td> 24459                </td><td> 25847                </td><td>89952                 </td><td>91373                 </td></tr>\n",
       "\t<tr><td>gene_18_contig_156409 </td><td>gene_60_contig_155688 </td><td>51.244                </td><td>201                   </td><td> 93                   </td><td> 2                    </td><td>   1                  </td><td> 197                  </td><td>  21                  </td><td> 220                  </td><td> 3.22e-76             </td><td>224.0                 </td><td>contig_156409         </td><td>contig_155688         </td><td> 20273                </td><td> 20866                </td><td>36584                 </td><td>37249                 </td></tr>\n",
       "\t<tr><td>gene_1_contig_154566  </td><td>gene_67_contig_155688 </td><td>51.472                </td><td>781                   </td><td>341                   </td><td>18                    </td><td>4434                  </td><td>5206                  </td><td>4822                  </td><td>5572                  </td><td> 0.00e+00             </td><td>743.0                 </td><td>contig_154566         </td><td>contig_155688         </td><td>     1                </td><td>102800                </td><td>44459                 </td><td>61177                 </td></tr>\n",
       "\t<tr><td>gene_1_contig_154566  </td><td>gene_67_contig_155688 </td><td>52.316                </td><td>367                   </td><td>165                   </td><td> 6                    </td><td>   1                  </td><td> 364                  </td><td> 370                  </td><td> 729                  </td><td>2.33e-102             </td><td>368.0                 </td><td>contig_154566         </td><td>contig_155688         </td><td>     1                </td><td>102800                </td><td>44459                 </td><td>61177                 </td></tr>\n",
       "\t<tr><td>gene_23_contig_154566 </td><td>gene_89_contig_155688 </td><td>65.541                </td><td>592                   </td><td>191                   </td><td> 5                    </td><td>   1                  </td><td> 579                  </td><td>   1                  </td><td> 592                  </td><td> 0.00e+00             </td><td>800.0                 </td><td>contig_154566         </td><td>contig_155688         </td><td> 32577                </td><td> 34319                </td><td>81163                 </td><td>82944                 </td></tr>\n",
       "\t<tr><td>gene_23_contig_154566 </td><td>gene_82_contig_156409 </td><td>56.457                </td><td>604                   </td><td>223                   </td><td> 9                    </td><td>   1                  </td><td> 574                  </td><td>   1                  </td><td> 594                  </td><td> 0.00e+00             </td><td>685.0                 </td><td>contig_154566         </td><td>contig_156409         </td><td> 32577                </td><td> 34319                </td><td>80284                 </td><td>82125                 </td></tr>\n",
       "\t<tr><td>gene_25_contig_154566 </td><td>gene_94_contig_155688 </td><td>73.482                </td><td>494                   </td><td>124                   </td><td> 2                    </td><td>   4                  </td><td> 493                  </td><td>   3                  </td><td> 493                  </td><td> 0.00e+00             </td><td>779.0                 </td><td>contig_154566         </td><td>contig_155688         </td><td> 35538                </td><td> 37019                </td><td>85221                 </td><td>86702                 </td></tr>\n",
       "\t<tr><td>gene_30_contig_154566 </td><td>gene_98_contig_155688 </td><td>60.274                </td><td>219                   </td><td> 86                   </td><td> 1                    </td><td>   1                  </td><td> 218                  </td><td>   6                  </td><td> 224                  </td><td> 3.37e-99             </td><td>284.0                 </td><td>contig_154566         </td><td>contig_155688         </td><td> 41835                </td><td> 42494                </td><td>91770                 </td><td>92450                 </td></tr>\n",
       "\t<tr><td>gene_33_contig_154566 </td><td>gene_100_contig_155688</td><td>55.326                </td><td>291                   </td><td>127                   </td><td> 3                    </td><td>   5                  </td><td> 294                  </td><td>   9                  </td><td> 297                  </td><td>1.87e-123             </td><td>352.0                 </td><td>contig_154566         </td><td>contig_155688         </td><td> 43450                </td><td> 44412                </td><td>93618                 </td><td>94547                 </td></tr>\n",
       "\t<tr><td>gene_34_contig_154566 </td><td>gene_102_contig_155688</td><td>70.085                </td><td>234                   </td><td> 70                   </td><td> 0                    </td><td>   4                  </td><td> 237                  </td><td>   5                  </td><td> 238                  </td><td>3.36e-131             </td><td>366.0                 </td><td>contig_154566         </td><td>contig_155688         </td><td> 44693                </td><td> 45406                </td><td>94723                 </td><td>95439                 </td></tr>\n",
       "\t<tr><td>gene_34_contig_154566 </td><td>gene_71_contig_156409 </td><td>56.250                </td><td>240                   </td><td> 99                   </td><td> 4                    </td><td>   1                  </td><td> 236                  </td><td>   1                  </td><td> 238                  </td><td> 1.81e-99             </td><td>286.0                 </td><td>contig_154566         </td><td>contig_156409         </td><td> 44693                </td><td> 45406                </td><td>67550                 </td><td>68269                 </td></tr>\n",
       "\t<tr><td>gene_35_contig_154566 </td><td>gene_103_contig_155688</td><td>56.250                </td><td> 80                   </td><td> 35                   </td><td> 0                    </td><td>   1                  </td><td>  80                  </td><td>   1                  </td><td>  80                  </td><td> 2.09e-26             </td><td> 89.0                 </td><td>contig_154566         </td><td>contig_155688         </td><td> 45416                </td><td> 45673                </td><td>95439                 </td><td>95693                 </td></tr>\n",
       "\t<tr><td>gene_36_contig_154566 </td><td>gene_104_contig_155688</td><td>54.601                </td><td>163                   </td><td> 68                   </td><td> 3                    </td><td>  28                  </td><td> 188                  </td><td>  10                  </td><td> 168                  </td><td> 8.68e-55             </td><td>169.0                 </td><td>contig_154566         </td><td>contig_155688         </td><td> 45673                </td><td> 46365                </td><td>95705                 </td><td>96232                 </td></tr>\n",
       "\t<tr><td>gene_37_contig_154566 </td><td>gene_105_contig_155688</td><td>78.495                </td><td> 93                   </td><td> 20                   </td><td> 0                    </td><td> 178                  </td><td> 270                  </td><td> 910                  </td><td>1002                  </td><td> 5.68e-32             </td><td>124.0                 </td><td>contig_154566         </td><td>contig_155688         </td><td> 46349                </td><td> 47575                </td><td>96549                 </td><td>99557                 </td></tr>\n",
       "\t<tr><td>gene_39_contig_154566 </td><td>gene_86_contig_155688 </td><td>59.701                </td><td> 67                   </td><td> 25                   </td><td> 1                    </td><td>   8                  </td><td>  72                  </td><td>  24                  </td><td>  90                  </td><td> 1.12e-23             </td><td> 85.5                 </td><td>contig_154566         </td><td>contig_155688         </td><td> 48368                </td><td> 48586                </td><td>79701                 </td><td>80420                 </td></tr>\n",
       "\t<tr><td>gene_40_contig_154566 </td><td>gene_15_contig_156409 </td><td>82.692                </td><td>104                   </td><td> 18                   </td><td> 0                    </td><td> 156                  </td><td> 259                  </td><td>   3                  </td><td> 106                  </td><td> 7.76e-56             </td><td>171.0                 </td><td>contig_154566         </td><td>contig_156409         </td><td> 48586                </td><td> 49365                </td><td>17973                 </td><td>18293                 </td></tr>\n",
       "\t<tr><td>gene_40_contig_154566 </td><td>gene_66_contig_155688 </td><td>76.786                </td><td>112                   </td><td> 20                   </td><td> 1                    </td><td> 148                  </td><td> 259                  </td><td>   7                  </td><td> 112                  </td><td> 9.41e-55             </td><td>168.0                 </td><td>contig_154566         </td><td>contig_155688         </td><td> 48586                </td><td> 49365                </td><td>44124                 </td><td>44462                 </td></tr>\n",
       "\t<tr><td>gene_41_contig_156409 </td><td>gene_63_contig_154566 </td><td>58.470                </td><td>183                   </td><td> 58                   </td><td> 3                    </td><td>   1                  </td><td> 183                  </td><td>   1                  </td><td> 165                  </td><td> 2.88e-72             </td><td>212.0                 </td><td>contig_156409         </td><td>contig_154566         </td><td> 41468                </td><td> 42034                </td><td>66279                 </td><td>66779                 </td></tr>\n",
       "\t<tr><td>gene_41_contig_156409 </td><td>gene_24_contig_155688 </td><td>55.975                </td><td>159                   </td><td> 52                   </td><td> 3                    </td><td>  25                  </td><td> 183                  </td><td>   1                  </td><td> 141                  </td><td> 9.37e-55             </td><td>167.0                 </td><td>contig_156409         </td><td>contig_155688         </td><td> 41468                </td><td> 42034                </td><td>14875                 </td><td>15309                 </td></tr>\n",
       "\t<tr><td>gene_4_contig_156409  </td><td>gene_103_contig_154566</td><td>57.273                </td><td>110                   </td><td> 40                   </td><td> 2                    </td><td> 131                  </td><td> 240                  </td><td> 174                  </td><td> 276                  </td><td> 7.03e-25             </td><td>105.0                 </td><td>contig_156409         </td><td>contig_154566         </td><td>  4487                </td><td>  7084                </td><td>96497                 </td><td>97951                 </td></tr>\n",
       "\t<tr><td>gene_63_contig_154566 </td><td>gene_24_contig_155688 </td><td>75.000                </td><td>140                   </td><td> 35                   </td><td> 0                    </td><td>  25                  </td><td> 164                  </td><td>   1                  </td><td> 140                  </td><td> 1.14e-76             </td><td>221.0                 </td><td>contig_154566         </td><td>contig_155688         </td><td> 66279                </td><td> 66779                </td><td>14875                 </td><td>15309                 </td></tr>\n",
       "\t<tr><td>gene_63_contig_154566 </td><td>gene_41_contig_156409 </td><td>58.470                </td><td>183                   </td><td> 58                   </td><td> 3                    </td><td>   1                  </td><td> 165                  </td><td>   1                  </td><td> 183                  </td><td> 2.55e-72             </td><td>212.0                 </td><td>contig_154566         </td><td>contig_156409         </td><td> 66279                </td><td> 66779                </td><td>41468                 </td><td>42034                 </td></tr>\n",
       "\t<tr><td>gene_70_contig_156409 </td><td>gene_103_contig_155688</td><td>61.538                </td><td> 78                   </td><td> 30                   </td><td> 0                    </td><td>   1                  </td><td>  78                  </td><td>   1                  </td><td>  78                  </td><td> 1.59e-31             </td><td>102.0                 </td><td>contig_156409         </td><td>contig_155688         </td><td> 67296                </td><td> 67541                </td><td>95439                 </td><td>95693                 </td></tr>\n",
       "\t<tr><td>gene_71_contig_156409 </td><td>gene_102_contig_155688</td><td>53.750                </td><td>240                   </td><td>106                   </td><td> 3                    </td><td>   1                  </td><td> 238                  </td><td>   1                  </td><td> 237                  </td><td> 1.88e-95             </td><td>275.0                 </td><td>contig_156409         </td><td>contig_155688         </td><td> 67550                </td><td> 68269                </td><td>94723                 </td><td>95439                 </td></tr>\n",
       "\t<tr><td>gene_71_contig_156409 </td><td>gene_34_contig_154566 </td><td>55.702                </td><td>228                   </td><td> 96                   </td><td> 3                    </td><td>  13                  </td><td> 238                  </td><td>  12                  </td><td> 236                  </td><td> 3.74e-95             </td><td>275.0                 </td><td>contig_156409         </td><td>contig_154566         </td><td> 67550                </td><td> 68269                </td><td>44693                 </td><td>45406                 </td></tr>\n",
       "\t<tr><td>gene_7_contig_154566  </td><td>gene_72_contig_155688 </td><td>50.515                </td><td> 97                   </td><td> 41                   </td><td> 3                    </td><td>  97                  </td><td> 190                  </td><td>  51                  </td><td> 143                  </td><td> 1.31e-24             </td><td> 90.9                 </td><td>contig_154566         </td><td>contig_155688         </td><td> 16246                </td><td> 16836                </td><td>64235                 </td><td>64702                 </td></tr>\n",
       "\t<tr><td>gene_80_contig_156409 </td><td>gene_94_contig_155688 </td><td>51.992                </td><td>477                   </td><td>217                   </td><td> 4                    </td><td>   1                  </td><td> 466                  </td><td>   1                  </td><td> 476                  </td><td> 0.00e+00             </td><td>513.0                 </td><td>contig_156409         </td><td>contig_155688         </td><td> 77201                </td><td> 78601                </td><td>85221                 </td><td>86702                 </td></tr>\n",
       "\t<tr><td>gene_82_contig_156409 </td><td>gene_23_contig_154566 </td><td>56.616                </td><td>597                   </td><td>233                   </td><td> 9                    </td><td>   1                  </td><td> 594                  </td><td>   1                  </td><td> 574                  </td><td> 0.00e+00             </td><td>683.0                 </td><td>contig_156409         </td><td>contig_154566         </td><td> 80284                </td><td> 82125                </td><td>32577                 </td><td>34319                 </td></tr>\n",
       "\t<tr><td>gene_82_contig_156409 </td><td>gene_89_contig_155688 </td><td>55.519                </td><td>607                   </td><td>246                   </td><td> 8                    </td><td>   4                  </td><td> 603                  </td><td>   3                  </td><td> 592                  </td><td> 0.00e+00             </td><td>672.0                 </td><td>contig_156409         </td><td>contig_155688         </td><td> 80284                </td><td> 82125                </td><td>81163                 </td><td>82944                 </td></tr>\n",
       "\t<tr><td>gene_85_contig_154566 </td><td>gene_51_contig_155688 </td><td>51.995                </td><td>752                   </td><td>318                   </td><td>10                    </td><td>  58                  </td><td> 785                  </td><td>   1                  </td><td> 733                  </td><td> 0.00e+00             </td><td>778.0                 </td><td>contig_154566         </td><td>contig_155688         </td><td> 78466                </td><td> 80844                </td><td>28759                 </td><td>30990                 </td></tr>\n",
       "\t<tr><td>gene_87_contig_156409 </td><td>gene_84_contig_155688 </td><td>50.763                </td><td>459                   </td><td>204                   </td><td> 7                    </td><td>  18                  </td><td> 471                  </td><td>  17                  </td><td> 458                  </td><td>1.67e-145             </td><td>420.0                 </td><td>contig_156409         </td><td>contig_155688         </td><td> 89952                </td><td> 91373                </td><td>72525                 </td><td>73904                 </td></tr>\n",
       "\t<tr><td>gene_87_contig_156409 </td><td>gene_18_contig_154566 </td><td>50.753                </td><td>465                   </td><td>202                   </td><td> 8                    </td><td>  17                  </td><td> 470                  </td><td>  12                  </td><td> 460                  </td><td>1.13e-139             </td><td>405.0                 </td><td>contig_156409         </td><td>contig_154566         </td><td> 89952                </td><td> 91373                </td><td>24459                 </td><td>25847                 </td></tr>\n",
       "\t<tr><td>gene_88_contig_156409 </td><td>gene_83_contig_155688 </td><td>71.916                </td><td>381                   </td><td> 92                   </td><td> 4                    </td><td>   1                  </td><td> 381                  </td><td>   1                  </td><td> 366                  </td><td> 0.00e+00             </td><td>551.0                 </td><td>contig_156409         </td><td>contig_155688         </td><td> 91376                </td><td> 92521                </td><td>71407                 </td><td>72507                 </td></tr>\n",
       "\t<tr><td>gene_88_contig_156409 </td><td>gene_17_contig_154566 </td><td>69.531                </td><td>384                   </td><td>107                   </td><td> 6                    </td><td>   1                  </td><td> 381                  </td><td>   1                  </td><td> 377                  </td><td> 0.00e+00             </td><td>535.0                 </td><td>contig_156409         </td><td>contig_154566         </td><td> 91376                </td><td> 92521                </td><td>23323                 </td><td>24456                 </td></tr>\n",
       "\t<tr><td>gene_91_contig_154566 </td><td>gene_57_contig_155688 </td><td>60.909                </td><td>110                   </td><td> 43                   </td><td> 0                    </td><td>   1                  </td><td> 110                  </td><td>   1                  </td><td> 110                  </td><td> 5.77e-48             </td><td>153.0                 </td><td>contig_154566         </td><td>contig_155688         </td><td> 82857                </td><td> 83192                </td><td>33030                 </td><td>34118                 </td></tr>\n",
       "\t<tr><td>gene_93_contig_154566 </td><td>gene_58_contig_155688 </td><td>66.228                </td><td>228                   </td><td> 76                   </td><td> 1                    </td><td>   1                  </td><td> 227                  </td><td>   6                  </td><td> 233                  </td><td>8.73e-119             </td><td>334.0                 </td><td>contig_154566         </td><td>contig_155688         </td><td> 84211                </td><td> 84900                </td><td>34354                 </td><td>35055                 </td></tr>\n",
       "\t<tr><td>gene_94_contig_154566 </td><td>gene_59_contig_155688 </td><td>50.128                </td><td>391                   </td><td>183                   </td><td> 3                    </td><td>   1                  </td><td> 384                  </td><td>  77                  </td><td> 462                  </td><td>2.51e-133             </td><td>386.0                 </td><td>contig_154566         </td><td>contig_155688         </td><td> 85189                </td><td> 86361                </td><td>35092                 </td><td>36489                 </td></tr>\n",
       "\t<tr><td>gene_95_contig_154566 </td><td>gene_60_contig_155688 </td><td>50.490                </td><td>204                   </td><td> 97                   </td><td> 3                    </td><td>   1                  </td><td> 204                  </td><td>  21                  </td><td> 220                  </td><td> 2.79e-72             </td><td>214.0                 </td><td>contig_154566         </td><td>contig_155688         </td><td> 86354                </td><td> 86971                </td><td>36584                 </td><td>37249                 </td></tr>\n",
       "\t<tr><td>gene_96_contig_154566 </td><td>gene_61_contig_155688 </td><td>60.835                </td><td>503                   </td><td>191                   </td><td> 5                    </td><td>   2                  </td><td> 499                  </td><td>   5                  </td><td> 506                  </td><td> 0.00e+00             </td><td>619.0                 </td><td>contig_154566         </td><td>contig_155688         </td><td> 86968                </td><td> 88467                </td><td>37246                 </td><td>38766                 </td></tr>\n",
       "\t<tr><td>gene_96_contig_156409 </td><td>gene_9_contig_154566  </td><td>55.634                </td><td>142                   </td><td> 63                   </td><td> 0                    </td><td>   4                  </td><td> 145                  </td><td>   7                  </td><td> 148                  </td><td> 6.76e-61             </td><td>181.0                 </td><td>contig_156409         </td><td>contig_154566         </td><td> 96622                </td><td> 97062                </td><td>19096                 </td><td>19545                 </td></tr>\n",
       "\t<tr><td>gene_96_contig_156409 </td><td>gene_74_contig_155688 </td><td>56.643                </td><td>143                   </td><td> 62                   </td><td> 0                    </td><td>   3                  </td><td> 145                  </td><td>   6                  </td><td> 148                  </td><td> 7.37e-58             </td><td>173.0                 </td><td>contig_156409         </td><td>contig_155688         </td><td> 96622                </td><td> 97062                </td><td>66687                 </td><td>67136                 </td></tr>\n",
       "\t<tr><td>gene_9_contig_154566  </td><td>gene_74_contig_155688 </td><td>65.101                </td><td>149                   </td><td> 52                   </td><td> 0                    </td><td>   1                  </td><td> 149                  </td><td>   1                  </td><td> 149                  </td><td> 2.39e-71             </td><td>207.0                 </td><td>contig_154566         </td><td>contig_155688         </td><td> 19096                </td><td> 19545                </td><td>66687                 </td><td>67136                 </td></tr>\n",
       "\t<tr><td>gene_9_contig_154566  </td><td>gene_96_contig_156409 </td><td>55.634                </td><td>142                   </td><td> 63                   </td><td> 0                    </td><td>   7                  </td><td> 148                  </td><td>   4                  </td><td> 145                  </td><td> 6.90e-61             </td><td>181.0                 </td><td>contig_154566         </td><td>contig_156409         </td><td> 19096                </td><td> 19545                </td><td>96622                 </td><td>97062                 </td></tr>\n",
       "</tbody>\n",
       "</table>\n"
      ],
      "text/latex": [
       "\\begin{tabular}{r|llllllllllllllllll}\n",
       " qseqid & sseqid & pident & length & mismatch & gapopen & qstart & qend & sstart & send & evalue & bitscore & query\\_contig & subject\\_contig & query\\_start & query\\_end & subject\\_start & subject\\_end\\\\\n",
       "\\hline\n",
       "\t gene\\_103\\_contig\\_154566 & gene\\_4\\_contig\\_156409   & 54.688                       & 128                          &  50                          &  3                           &  174                         &  294                         &  131                         &  257                         &  1.34e-27                    & 112.0                        & contig\\_154566              & contig\\_156409              &  96497                       &  97951                       &  4487                        &  7084                       \\\\\n",
       "\t gene\\_106\\_contig\\_154566 & gene\\_63\\_contig\\_155688  & 53.846                       & 104                          &  48                          &  0                           &   10                         &  113                         &    1                         &  104                         &  4.76e-43                    & 133.0                        & contig\\_154566              & contig\\_155688              & 100796                       & 101140                       & 41810                        & 42127                       \\\\\n",
       "\t gene\\_11\\_contig\\_154566  & gene\\_76\\_contig\\_155688  & 58.172                       & 569                          & 187                          & 12                           &    1                         &  559                         &    1                         &  528                         &  0.00e+00                    & 633.0                        & contig\\_154566              & contig\\_155688              &  19880                       &  21562                       & 67560                        & 69149                       \\\\\n",
       "\t gene\\_12\\_contig\\_154566  & gene\\_78\\_contig\\_155688  & 65.079                       &  63                          &  22                          &  0                           &   36                         &   98                         &   21                         &   83                         &  3.01e-30                    &  99.4                        & contig\\_154566              & contig\\_155688              &  21562                       &  21861                       & 69776                        & 70030                       \\\\\n",
       "\t gene\\_13\\_contig\\_156409  & gene\\_91\\_contig\\_155688  & 80.435                       &  92                          &  18                          &  0                           &    3                         &   94                         &   10                         &  101                         &  3.06e-50                    & 151.0                        & contig\\_156409              & contig\\_155688              &  17274                       &  17573                       & 84268                        & 84672                       \\\\\n",
       "\t gene\\_14\\_contig\\_156409  & gene\\_93\\_contig\\_155688  & 95.652                       &  46                          &   2                          &  0                           &    1                         &   46                         &    7                         &   52                         &  2.56e-26                    &  86.3                        & contig\\_156409              & contig\\_155688              &  17785                       &  17925                       & 84872                        & 85030                       \\\\\n",
       "\t gene\\_15\\_contig\\_156409  & gene\\_40\\_contig\\_154566  & 82.692                       & 104                          &  18                          &  0                           &    3                         &  106                         &  156                         &  259                         &  2.73e-56                    & 171.0                        & contig\\_156409              & contig\\_154566              &  17973                       &  18293                       & 48586                        & 49365                       \\\\\n",
       "\t gene\\_15\\_contig\\_156409  & gene\\_66\\_contig\\_155688  & 80.952                       & 105                          &  15                          &  1                           &    2                         &  106                         &   13                         &  112                         &  7.02e-54                    & 160.0                        & contig\\_156409              & contig\\_155688              &  17973                       &  18293                       & 44124                        & 44462                       \\\\\n",
       "\t gene\\_17\\_contig\\_154566  & gene\\_83\\_contig\\_155688  & 80.637                       & 377                          &  62                          &  3                           &    1                         &  377                         &    1                         &  366                         &  0.00e+00                    & 613.0                        & contig\\_154566              & contig\\_155688              &  23323                       &  24456                       & 71407                        & 72507                       \\\\\n",
       "\t gene\\_17\\_contig\\_154566  & gene\\_88\\_contig\\_156409  & 69.531                       & 384                          & 107                          &  6                           &    1                         &  377                         &    1                         &  381                         &  0.00e+00                    & 555.0                        & contig\\_154566              & contig\\_156409              &  23323                       &  24456                       & 91376                        & 92521                       \\\\\n",
       "\t gene\\_18\\_contig\\_154566  & gene\\_84\\_contig\\_155688  & 59.170                       & 458                          & 160                          & 11                           &   13                         &  460                         &   17                         &  457                         & 3.73e-173                    & 490.0                        & contig\\_154566              & contig\\_155688              &  24459                       &  25847                       & 72525                        & 73904                       \\\\\n",
       "\t gene\\_18\\_contig\\_154566  & gene\\_87\\_contig\\_156409  & 51.163                       & 473                          & 188                          & 11                           &   12                         &  460                         &   17                         &  470                         & 4.68e-146                    & 422.0                        & contig\\_154566              & contig\\_156409              &  24459                       &  25847                       & 89952                        & 91373                       \\\\\n",
       "\t gene\\_18\\_contig\\_156409  & gene\\_60\\_contig\\_155688  & 51.244                       & 201                          &  93                          &  2                           &    1                         &  197                         &   21                         &  220                         &  3.22e-76                    & 224.0                        & contig\\_156409              & contig\\_155688              &  20273                       &  20866                       & 36584                        & 37249                       \\\\\n",
       "\t gene\\_1\\_contig\\_154566   & gene\\_67\\_contig\\_155688  & 51.472                       & 781                          & 341                          & 18                           & 4434                         & 5206                         & 4822                         & 5572                         &  0.00e+00                    & 743.0                        & contig\\_154566              & contig\\_155688              &      1                       & 102800                       & 44459                        & 61177                       \\\\\n",
       "\t gene\\_1\\_contig\\_154566   & gene\\_67\\_contig\\_155688  & 52.316                       & 367                          & 165                          &  6                           &    1                         &  364                         &  370                         &  729                         & 2.33e-102                    & 368.0                        & contig\\_154566              & contig\\_155688              &      1                       & 102800                       & 44459                        & 61177                       \\\\\n",
       "\t gene\\_23\\_contig\\_154566  & gene\\_89\\_contig\\_155688  & 65.541                       & 592                          & 191                          &  5                           &    1                         &  579                         &    1                         &  592                         &  0.00e+00                    & 800.0                        & contig\\_154566              & contig\\_155688              &  32577                       &  34319                       & 81163                        & 82944                       \\\\\n",
       "\t gene\\_23\\_contig\\_154566  & gene\\_82\\_contig\\_156409  & 56.457                       & 604                          & 223                          &  9                           &    1                         &  574                         &    1                         &  594                         &  0.00e+00                    & 685.0                        & contig\\_154566              & contig\\_156409              &  32577                       &  34319                       & 80284                        & 82125                       \\\\\n",
       "\t gene\\_25\\_contig\\_154566  & gene\\_94\\_contig\\_155688  & 73.482                       & 494                          & 124                          &  2                           &    4                         &  493                         &    3                         &  493                         &  0.00e+00                    & 779.0                        & contig\\_154566              & contig\\_155688              &  35538                       &  37019                       & 85221                        & 86702                       \\\\\n",
       "\t gene\\_30\\_contig\\_154566  & gene\\_98\\_contig\\_155688  & 60.274                       & 219                          &  86                          &  1                           &    1                         &  218                         &    6                         &  224                         &  3.37e-99                    & 284.0                        & contig\\_154566              & contig\\_155688              &  41835                       &  42494                       & 91770                        & 92450                       \\\\\n",
       "\t gene\\_33\\_contig\\_154566  & gene\\_100\\_contig\\_155688 & 55.326                       & 291                          & 127                          &  3                           &    5                         &  294                         &    9                         &  297                         & 1.87e-123                    & 352.0                        & contig\\_154566              & contig\\_155688              &  43450                       &  44412                       & 93618                        & 94547                       \\\\\n",
       "\t gene\\_34\\_contig\\_154566  & gene\\_102\\_contig\\_155688 & 70.085                       & 234                          &  70                          &  0                           &    4                         &  237                         &    5                         &  238                         & 3.36e-131                    & 366.0                        & contig\\_154566              & contig\\_155688              &  44693                       &  45406                       & 94723                        & 95439                       \\\\\n",
       "\t gene\\_34\\_contig\\_154566  & gene\\_71\\_contig\\_156409  & 56.250                       & 240                          &  99                          &  4                           &    1                         &  236                         &    1                         &  238                         &  1.81e-99                    & 286.0                        & contig\\_154566              & contig\\_156409              &  44693                       &  45406                       & 67550                        & 68269                       \\\\\n",
       "\t gene\\_35\\_contig\\_154566  & gene\\_103\\_contig\\_155688 & 56.250                       &  80                          &  35                          &  0                           &    1                         &   80                         &    1                         &   80                         &  2.09e-26                    &  89.0                        & contig\\_154566              & contig\\_155688              &  45416                       &  45673                       & 95439                        & 95693                       \\\\\n",
       "\t gene\\_36\\_contig\\_154566  & gene\\_104\\_contig\\_155688 & 54.601                       & 163                          &  68                          &  3                           &   28                         &  188                         &   10                         &  168                         &  8.68e-55                    & 169.0                        & contig\\_154566              & contig\\_155688              &  45673                       &  46365                       & 95705                        & 96232                       \\\\\n",
       "\t gene\\_37\\_contig\\_154566  & gene\\_105\\_contig\\_155688 & 78.495                       &  93                          &  20                          &  0                           &  178                         &  270                         &  910                         & 1002                         &  5.68e-32                    & 124.0                        & contig\\_154566              & contig\\_155688              &  46349                       &  47575                       & 96549                        & 99557                       \\\\\n",
       "\t gene\\_39\\_contig\\_154566  & gene\\_86\\_contig\\_155688  & 59.701                       &  67                          &  25                          &  1                           &    8                         &   72                         &   24                         &   90                         &  1.12e-23                    &  85.5                        & contig\\_154566              & contig\\_155688              &  48368                       &  48586                       & 79701                        & 80420                       \\\\\n",
       "\t gene\\_40\\_contig\\_154566  & gene\\_15\\_contig\\_156409  & 82.692                       & 104                          &  18                          &  0                           &  156                         &  259                         &    3                         &  106                         &  7.76e-56                    & 171.0                        & contig\\_154566              & contig\\_156409              &  48586                       &  49365                       & 17973                        & 18293                       \\\\\n",
       "\t gene\\_40\\_contig\\_154566  & gene\\_66\\_contig\\_155688  & 76.786                       & 112                          &  20                          &  1                           &  148                         &  259                         &    7                         &  112                         &  9.41e-55                    & 168.0                        & contig\\_154566              & contig\\_155688              &  48586                       &  49365                       & 44124                        & 44462                       \\\\\n",
       "\t gene\\_41\\_contig\\_156409  & gene\\_63\\_contig\\_154566  & 58.470                       & 183                          &  58                          &  3                           &    1                         &  183                         &    1                         &  165                         &  2.88e-72                    & 212.0                        & contig\\_156409              & contig\\_154566              &  41468                       &  42034                       & 66279                        & 66779                       \\\\\n",
       "\t gene\\_41\\_contig\\_156409  & gene\\_24\\_contig\\_155688  & 55.975                       & 159                          &  52                          &  3                           &   25                         &  183                         &    1                         &  141                         &  9.37e-55                    & 167.0                        & contig\\_156409              & contig\\_155688              &  41468                       &  42034                       & 14875                        & 15309                       \\\\\n",
       "\t gene\\_4\\_contig\\_156409   & gene\\_103\\_contig\\_154566 & 57.273                       & 110                          &  40                          &  2                           &  131                         &  240                         &  174                         &  276                         &  7.03e-25                    & 105.0                        & contig\\_156409              & contig\\_154566              &   4487                       &   7084                       & 96497                        & 97951                       \\\\\n",
       "\t gene\\_63\\_contig\\_154566  & gene\\_24\\_contig\\_155688  & 75.000                       & 140                          &  35                          &  0                           &   25                         &  164                         &    1                         &  140                         &  1.14e-76                    & 221.0                        & contig\\_154566              & contig\\_155688              &  66279                       &  66779                       & 14875                        & 15309                       \\\\\n",
       "\t gene\\_63\\_contig\\_154566  & gene\\_41\\_contig\\_156409  & 58.470                       & 183                          &  58                          &  3                           &    1                         &  165                         &    1                         &  183                         &  2.55e-72                    & 212.0                        & contig\\_154566              & contig\\_156409              &  66279                       &  66779                       & 41468                        & 42034                       \\\\\n",
       "\t gene\\_70\\_contig\\_156409  & gene\\_103\\_contig\\_155688 & 61.538                       &  78                          &  30                          &  0                           &    1                         &   78                         &    1                         &   78                         &  1.59e-31                    & 102.0                        & contig\\_156409              & contig\\_155688              &  67296                       &  67541                       & 95439                        & 95693                       \\\\\n",
       "\t gene\\_71\\_contig\\_156409  & gene\\_102\\_contig\\_155688 & 53.750                       & 240                          & 106                          &  3                           &    1                         &  238                         &    1                         &  237                         &  1.88e-95                    & 275.0                        & contig\\_156409              & contig\\_155688              &  67550                       &  68269                       & 94723                        & 95439                       \\\\\n",
       "\t gene\\_71\\_contig\\_156409  & gene\\_34\\_contig\\_154566  & 55.702                       & 228                          &  96                          &  3                           &   13                         &  238                         &   12                         &  236                         &  3.74e-95                    & 275.0                        & contig\\_156409              & contig\\_154566              &  67550                       &  68269                       & 44693                        & 45406                       \\\\\n",
       "\t gene\\_7\\_contig\\_154566   & gene\\_72\\_contig\\_155688  & 50.515                       &  97                          &  41                          &  3                           &   97                         &  190                         &   51                         &  143                         &  1.31e-24                    &  90.9                        & contig\\_154566              & contig\\_155688              &  16246                       &  16836                       & 64235                        & 64702                       \\\\\n",
       "\t gene\\_80\\_contig\\_156409  & gene\\_94\\_contig\\_155688  & 51.992                       & 477                          & 217                          &  4                           &    1                         &  466                         &    1                         &  476                         &  0.00e+00                    & 513.0                        & contig\\_156409              & contig\\_155688              &  77201                       &  78601                       & 85221                        & 86702                       \\\\\n",
       "\t gene\\_82\\_contig\\_156409  & gene\\_23\\_contig\\_154566  & 56.616                       & 597                          & 233                          &  9                           &    1                         &  594                         &    1                         &  574                         &  0.00e+00                    & 683.0                        & contig\\_156409              & contig\\_154566              &  80284                       &  82125                       & 32577                        & 34319                       \\\\\n",
       "\t gene\\_82\\_contig\\_156409  & gene\\_89\\_contig\\_155688  & 55.519                       & 607                          & 246                          &  8                           &    4                         &  603                         &    3                         &  592                         &  0.00e+00                    & 672.0                        & contig\\_156409              & contig\\_155688              &  80284                       &  82125                       & 81163                        & 82944                       \\\\\n",
       "\t gene\\_85\\_contig\\_154566  & gene\\_51\\_contig\\_155688  & 51.995                       & 752                          & 318                          & 10                           &   58                         &  785                         &    1                         &  733                         &  0.00e+00                    & 778.0                        & contig\\_154566              & contig\\_155688              &  78466                       &  80844                       & 28759                        & 30990                       \\\\\n",
       "\t gene\\_87\\_contig\\_156409  & gene\\_84\\_contig\\_155688  & 50.763                       & 459                          & 204                          &  7                           &   18                         &  471                         &   17                         &  458                         & 1.67e-145                    & 420.0                        & contig\\_156409              & contig\\_155688              &  89952                       &  91373                       & 72525                        & 73904                       \\\\\n",
       "\t gene\\_87\\_contig\\_156409  & gene\\_18\\_contig\\_154566  & 50.753                       & 465                          & 202                          &  8                           &   17                         &  470                         &   12                         &  460                         & 1.13e-139                    & 405.0                        & contig\\_156409              & contig\\_154566              &  89952                       &  91373                       & 24459                        & 25847                       \\\\\n",
       "\t gene\\_88\\_contig\\_156409  & gene\\_83\\_contig\\_155688  & 71.916                       & 381                          &  92                          &  4                           &    1                         &  381                         &    1                         &  366                         &  0.00e+00                    & 551.0                        & contig\\_156409              & contig\\_155688              &  91376                       &  92521                       & 71407                        & 72507                       \\\\\n",
       "\t gene\\_88\\_contig\\_156409  & gene\\_17\\_contig\\_154566  & 69.531                       & 384                          & 107                          &  6                           &    1                         &  381                         &    1                         &  377                         &  0.00e+00                    & 535.0                        & contig\\_156409              & contig\\_154566              &  91376                       &  92521                       & 23323                        & 24456                       \\\\\n",
       "\t gene\\_91\\_contig\\_154566  & gene\\_57\\_contig\\_155688  & 60.909                       & 110                          &  43                          &  0                           &    1                         &  110                         &    1                         &  110                         &  5.77e-48                    & 153.0                        & contig\\_154566              & contig\\_155688              &  82857                       &  83192                       & 33030                        & 34118                       \\\\\n",
       "\t gene\\_93\\_contig\\_154566  & gene\\_58\\_contig\\_155688  & 66.228                       & 228                          &  76                          &  1                           &    1                         &  227                         &    6                         &  233                         & 8.73e-119                    & 334.0                        & contig\\_154566              & contig\\_155688              &  84211                       &  84900                       & 34354                        & 35055                       \\\\\n",
       "\t gene\\_94\\_contig\\_154566  & gene\\_59\\_contig\\_155688  & 50.128                       & 391                          & 183                          &  3                           &    1                         &  384                         &   77                         &  462                         & 2.51e-133                    & 386.0                        & contig\\_154566              & contig\\_155688              &  85189                       &  86361                       & 35092                        & 36489                       \\\\\n",
       "\t gene\\_95\\_contig\\_154566  & gene\\_60\\_contig\\_155688  & 50.490                       & 204                          &  97                          &  3                           &    1                         &  204                         &   21                         &  220                         &  2.79e-72                    & 214.0                        & contig\\_154566              & contig\\_155688              &  86354                       &  86971                       & 36584                        & 37249                       \\\\\n",
       "\t gene\\_96\\_contig\\_154566  & gene\\_61\\_contig\\_155688  & 60.835                       & 503                          & 191                          &  5                           &    2                         &  499                         &    5                         &  506                         &  0.00e+00                    & 619.0                        & contig\\_154566              & contig\\_155688              &  86968                       &  88467                       & 37246                        & 38766                       \\\\\n",
       "\t gene\\_96\\_contig\\_156409  & gene\\_9\\_contig\\_154566   & 55.634                       & 142                          &  63                          &  0                           &    4                         &  145                         &    7                         &  148                         &  6.76e-61                    & 181.0                        & contig\\_156409              & contig\\_154566              &  96622                       &  97062                       & 19096                        & 19545                       \\\\\n",
       "\t gene\\_96\\_contig\\_156409  & gene\\_74\\_contig\\_155688  & 56.643                       & 143                          &  62                          &  0                           &    3                         &  145                         &    6                         &  148                         &  7.37e-58                    & 173.0                        & contig\\_156409              & contig\\_155688              &  96622                       &  97062                       & 66687                        & 67136                       \\\\\n",
       "\t gene\\_9\\_contig\\_154566   & gene\\_74\\_contig\\_155688  & 65.101                       & 149                          &  52                          &  0                           &    1                         &  149                         &    1                         &  149                         &  2.39e-71                    & 207.0                        & contig\\_154566              & contig\\_155688              &  19096                       &  19545                       & 66687                        & 67136                       \\\\\n",
       "\t gene\\_9\\_contig\\_154566   & gene\\_96\\_contig\\_156409  & 55.634                       & 142                          &  63                          &  0                           &    7                         &  148                         &    4                         &  145                         &  6.90e-61                    & 181.0                        & contig\\_154566              & contig\\_156409              &  19096                       &  19545                       & 96622                        & 97062                       \\\\\n",
       "\\end{tabular}\n"
      ],
      "text/plain": [
       "   qseqid                 sseqid                 pident length mismatch gapopen\n",
       "1  gene_103_contig_154566 gene_4_contig_156409   54.688 128     50       3     \n",
       "2  gene_106_contig_154566 gene_63_contig_155688  53.846 104     48       0     \n",
       "3  gene_11_contig_154566  gene_76_contig_155688  58.172 569    187      12     \n",
       "4  gene_12_contig_154566  gene_78_contig_155688  65.079  63     22       0     \n",
       "5  gene_13_contig_156409  gene_91_contig_155688  80.435  92     18       0     \n",
       "6  gene_14_contig_156409  gene_93_contig_155688  95.652  46      2       0     \n",
       "7  gene_15_contig_156409  gene_40_contig_154566  82.692 104     18       0     \n",
       "8  gene_15_contig_156409  gene_66_contig_155688  80.952 105     15       1     \n",
       "9  gene_17_contig_154566  gene_83_contig_155688  80.637 377     62       3     \n",
       "10 gene_17_contig_154566  gene_88_contig_156409  69.531 384    107       6     \n",
       "11 gene_18_contig_154566  gene_84_contig_155688  59.170 458    160      11     \n",
       "12 gene_18_contig_154566  gene_87_contig_156409  51.163 473    188      11     \n",
       "13 gene_18_contig_156409  gene_60_contig_155688  51.244 201     93       2     \n",
       "14 gene_1_contig_154566   gene_67_contig_155688  51.472 781    341      18     \n",
       "15 gene_1_contig_154566   gene_67_contig_155688  52.316 367    165       6     \n",
       "16 gene_23_contig_154566  gene_89_contig_155688  65.541 592    191       5     \n",
       "17 gene_23_contig_154566  gene_82_contig_156409  56.457 604    223       9     \n",
       "18 gene_25_contig_154566  gene_94_contig_155688  73.482 494    124       2     \n",
       "19 gene_30_contig_154566  gene_98_contig_155688  60.274 219     86       1     \n",
       "20 gene_33_contig_154566  gene_100_contig_155688 55.326 291    127       3     \n",
       "21 gene_34_contig_154566  gene_102_contig_155688 70.085 234     70       0     \n",
       "22 gene_34_contig_154566  gene_71_contig_156409  56.250 240     99       4     \n",
       "23 gene_35_contig_154566  gene_103_contig_155688 56.250  80     35       0     \n",
       "24 gene_36_contig_154566  gene_104_contig_155688 54.601 163     68       3     \n",
       "25 gene_37_contig_154566  gene_105_contig_155688 78.495  93     20       0     \n",
       "26 gene_39_contig_154566  gene_86_contig_155688  59.701  67     25       1     \n",
       "27 gene_40_contig_154566  gene_15_contig_156409  82.692 104     18       0     \n",
       "28 gene_40_contig_154566  gene_66_contig_155688  76.786 112     20       1     \n",
       "29 gene_41_contig_156409  gene_63_contig_154566  58.470 183     58       3     \n",
       "30 gene_41_contig_156409  gene_24_contig_155688  55.975 159     52       3     \n",
       "31 gene_4_contig_156409   gene_103_contig_154566 57.273 110     40       2     \n",
       "32 gene_63_contig_154566  gene_24_contig_155688  75.000 140     35       0     \n",
       "33 gene_63_contig_154566  gene_41_contig_156409  58.470 183     58       3     \n",
       "34 gene_70_contig_156409  gene_103_contig_155688 61.538  78     30       0     \n",
       "35 gene_71_contig_156409  gene_102_contig_155688 53.750 240    106       3     \n",
       "36 gene_71_contig_156409  gene_34_contig_154566  55.702 228     96       3     \n",
       "37 gene_7_contig_154566   gene_72_contig_155688  50.515  97     41       3     \n",
       "38 gene_80_contig_156409  gene_94_contig_155688  51.992 477    217       4     \n",
       "39 gene_82_contig_156409  gene_23_contig_154566  56.616 597    233       9     \n",
       "40 gene_82_contig_156409  gene_89_contig_155688  55.519 607    246       8     \n",
       "41 gene_85_contig_154566  gene_51_contig_155688  51.995 752    318      10     \n",
       "42 gene_87_contig_156409  gene_84_contig_155688  50.763 459    204       7     \n",
       "43 gene_87_contig_156409  gene_18_contig_154566  50.753 465    202       8     \n",
       "44 gene_88_contig_156409  gene_83_contig_155688  71.916 381     92       4     \n",
       "45 gene_88_contig_156409  gene_17_contig_154566  69.531 384    107       6     \n",
       "46 gene_91_contig_154566  gene_57_contig_155688  60.909 110     43       0     \n",
       "47 gene_93_contig_154566  gene_58_contig_155688  66.228 228     76       1     \n",
       "48 gene_94_contig_154566  gene_59_contig_155688  50.128 391    183       3     \n",
       "49 gene_95_contig_154566  gene_60_contig_155688  50.490 204     97       3     \n",
       "50 gene_96_contig_154566  gene_61_contig_155688  60.835 503    191       5     \n",
       "51 gene_96_contig_156409  gene_9_contig_154566   55.634 142     63       0     \n",
       "52 gene_96_contig_156409  gene_74_contig_155688  56.643 143     62       0     \n",
       "53 gene_9_contig_154566   gene_74_contig_155688  65.101 149     52       0     \n",
       "54 gene_9_contig_154566   gene_96_contig_156409  55.634 142     63       0     \n",
       "   qstart qend sstart send evalue    bitscore query_contig  subject_contig\n",
       "1   174    294  131    257  1.34e-27 112.0    contig_154566 contig_156409 \n",
       "2    10    113    1    104  4.76e-43 133.0    contig_154566 contig_155688 \n",
       "3     1    559    1    528  0.00e+00 633.0    contig_154566 contig_155688 \n",
       "4    36     98   21     83  3.01e-30  99.4    contig_154566 contig_155688 \n",
       "5     3     94   10    101  3.06e-50 151.0    contig_156409 contig_155688 \n",
       "6     1     46    7     52  2.56e-26  86.3    contig_156409 contig_155688 \n",
       "7     3    106  156    259  2.73e-56 171.0    contig_156409 contig_154566 \n",
       "8     2    106   13    112  7.02e-54 160.0    contig_156409 contig_155688 \n",
       "9     1    377    1    366  0.00e+00 613.0    contig_154566 contig_155688 \n",
       "10    1    377    1    381  0.00e+00 555.0    contig_154566 contig_156409 \n",
       "11   13    460   17    457 3.73e-173 490.0    contig_154566 contig_155688 \n",
       "12   12    460   17    470 4.68e-146 422.0    contig_154566 contig_156409 \n",
       "13    1    197   21    220  3.22e-76 224.0    contig_156409 contig_155688 \n",
       "14 4434   5206 4822   5572  0.00e+00 743.0    contig_154566 contig_155688 \n",
       "15    1    364  370    729 2.33e-102 368.0    contig_154566 contig_155688 \n",
       "16    1    579    1    592  0.00e+00 800.0    contig_154566 contig_155688 \n",
       "17    1    574    1    594  0.00e+00 685.0    contig_154566 contig_156409 \n",
       "18    4    493    3    493  0.00e+00 779.0    contig_154566 contig_155688 \n",
       "19    1    218    6    224  3.37e-99 284.0    contig_154566 contig_155688 \n",
       "20    5    294    9    297 1.87e-123 352.0    contig_154566 contig_155688 \n",
       "21    4    237    5    238 3.36e-131 366.0    contig_154566 contig_155688 \n",
       "22    1    236    1    238  1.81e-99 286.0    contig_154566 contig_156409 \n",
       "23    1     80    1     80  2.09e-26  89.0    contig_154566 contig_155688 \n",
       "24   28    188   10    168  8.68e-55 169.0    contig_154566 contig_155688 \n",
       "25  178    270  910   1002  5.68e-32 124.0    contig_154566 contig_155688 \n",
       "26    8     72   24     90  1.12e-23  85.5    contig_154566 contig_155688 \n",
       "27  156    259    3    106  7.76e-56 171.0    contig_154566 contig_156409 \n",
       "28  148    259    7    112  9.41e-55 168.0    contig_154566 contig_155688 \n",
       "29    1    183    1    165  2.88e-72 212.0    contig_156409 contig_154566 \n",
       "30   25    183    1    141  9.37e-55 167.0    contig_156409 contig_155688 \n",
       "31  131    240  174    276  7.03e-25 105.0    contig_156409 contig_154566 \n",
       "32   25    164    1    140  1.14e-76 221.0    contig_154566 contig_155688 \n",
       "33    1    165    1    183  2.55e-72 212.0    contig_154566 contig_156409 \n",
       "34    1     78    1     78  1.59e-31 102.0    contig_156409 contig_155688 \n",
       "35    1    238    1    237  1.88e-95 275.0    contig_156409 contig_155688 \n",
       "36   13    238   12    236  3.74e-95 275.0    contig_156409 contig_154566 \n",
       "37   97    190   51    143  1.31e-24  90.9    contig_154566 contig_155688 \n",
       "38    1    466    1    476  0.00e+00 513.0    contig_156409 contig_155688 \n",
       "39    1    594    1    574  0.00e+00 683.0    contig_156409 contig_154566 \n",
       "40    4    603    3    592  0.00e+00 672.0    contig_156409 contig_155688 \n",
       "41   58    785    1    733  0.00e+00 778.0    contig_154566 contig_155688 \n",
       "42   18    471   17    458 1.67e-145 420.0    contig_156409 contig_155688 \n",
       "43   17    470   12    460 1.13e-139 405.0    contig_156409 contig_154566 \n",
       "44    1    381    1    366  0.00e+00 551.0    contig_156409 contig_155688 \n",
       "45    1    381    1    377  0.00e+00 535.0    contig_156409 contig_154566 \n",
       "46    1    110    1    110  5.77e-48 153.0    contig_154566 contig_155688 \n",
       "47    1    227    6    233 8.73e-119 334.0    contig_154566 contig_155688 \n",
       "48    1    384   77    462 2.51e-133 386.0    contig_154566 contig_155688 \n",
       "49    1    204   21    220  2.79e-72 214.0    contig_154566 contig_155688 \n",
       "50    2    499    5    506  0.00e+00 619.0    contig_154566 contig_155688 \n",
       "51    4    145    7    148  6.76e-61 181.0    contig_156409 contig_154566 \n",
       "52    3    145    6    148  7.37e-58 173.0    contig_156409 contig_155688 \n",
       "53    1    149    1    149  2.39e-71 207.0    contig_154566 contig_155688 \n",
       "54    7    148    4    145  6.90e-61 181.0    contig_154566 contig_156409 \n",
       "   query_start query_end subject_start subject_end\n",
       "1   96497       97951     4487          7084      \n",
       "2  100796      101140    41810         42127      \n",
       "3   19880       21562    67560         69149      \n",
       "4   21562       21861    69776         70030      \n",
       "5   17274       17573    84268         84672      \n",
       "6   17785       17925    84872         85030      \n",
       "7   17973       18293    48586         49365      \n",
       "8   17973       18293    44124         44462      \n",
       "9   23323       24456    71407         72507      \n",
       "10  23323       24456    91376         92521      \n",
       "11  24459       25847    72525         73904      \n",
       "12  24459       25847    89952         91373      \n",
       "13  20273       20866    36584         37249      \n",
       "14      1      102800    44459         61177      \n",
       "15      1      102800    44459         61177      \n",
       "16  32577       34319    81163         82944      \n",
       "17  32577       34319    80284         82125      \n",
       "18  35538       37019    85221         86702      \n",
       "19  41835       42494    91770         92450      \n",
       "20  43450       44412    93618         94547      \n",
       "21  44693       45406    94723         95439      \n",
       "22  44693       45406    67550         68269      \n",
       "23  45416       45673    95439         95693      \n",
       "24  45673       46365    95705         96232      \n",
       "25  46349       47575    96549         99557      \n",
       "26  48368       48586    79701         80420      \n",
       "27  48586       49365    17973         18293      \n",
       "28  48586       49365    44124         44462      \n",
       "29  41468       42034    66279         66779      \n",
       "30  41468       42034    14875         15309      \n",
       "31   4487        7084    96497         97951      \n",
       "32  66279       66779    14875         15309      \n",
       "33  66279       66779    41468         42034      \n",
       "34  67296       67541    95439         95693      \n",
       "35  67550       68269    94723         95439      \n",
       "36  67550       68269    44693         45406      \n",
       "37  16246       16836    64235         64702      \n",
       "38  77201       78601    85221         86702      \n",
       "39  80284       82125    32577         34319      \n",
       "40  80284       82125    81163         82944      \n",
       "41  78466       80844    28759         30990      \n",
       "42  89952       91373    72525         73904      \n",
       "43  89952       91373    24459         25847      \n",
       "44  91376       92521    71407         72507      \n",
       "45  91376       92521    23323         24456      \n",
       "46  82857       83192    33030         34118      \n",
       "47  84211       84900    34354         35055      \n",
       "48  85189       86361    35092         36489      \n",
       "49  86354       86971    36584         37249      \n",
       "50  86968       88467    37246         38766      \n",
       "51  96622       97062    19096         19545      \n",
       "52  96622       97062    66687         67136      \n",
       "53  19096       19545    66687         67136      \n",
       "54  19096       19545    96622         97062      "
      ]
     },
     "metadata": {},
     "output_type": "display_data"
    }
   ],
   "source": [
    "all_v_all_blastp_results_groupA_blast_start_end"
   ]
  },
  {
   "cell_type": "code",
   "execution_count": null,
   "metadata": {
    "collapsed": true
   },
   "outputs": [],
   "source": []
  }
 ],
 "metadata": {
  "kernelspec": {
   "display_name": "R 3.3",
   "language": "R",
   "name": "ir33"
  },
  "language_info": {
   "codemirror_mode": "r",
   "file_extension": ".r",
   "mimetype": "text/x-r-source",
   "name": "R",
   "pygments_lexer": "r",
   "version": "3.3.0"
  }
 },
 "nbformat": 4,
 "nbformat_minor": 0
}
