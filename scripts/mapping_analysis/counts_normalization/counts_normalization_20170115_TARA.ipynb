{
 "cells": [
  {
   "cell_type": "code",
   "execution_count": 1,
   "metadata": {
    "collapsed": true
   },
   "outputs": [],
   "source": [
    "import pandas as pd\n",
    "import os"
   ]
  },
  {
   "cell_type": "code",
   "execution_count": 2,
   "metadata": {
    "collapsed": true
   },
   "outputs": [],
   "source": [
    "counts_folder = './data/counts/TARA/'"
   ]
  },
  {
   "cell_type": "code",
   "execution_count": 3,
   "metadata": {
    "collapsed": false
   },
   "outputs": [],
   "source": [
    "# Load metadata dataframes and renames columns\n",
    "\n",
    "# TARA metadata\n",
    "metadata_file = \"./data/TARA_metadata.csv\"\n",
    "metadata_df = pd.read_csv(metadata_file)\n",
    "metadata_df = metadata_df.rename(columns = {'ENA-RUN':'dataset', \"ENA-SPOT-COUNT\":\"dataset_size\"})\n",
    "metadata_df_slim = metadata_df[[\"dataset\", \"Station\", \"Longitude Start\", \"Latitude Start\", \"Depth\", \"Protocol Label\", \"dataset_size\"]]\n",
    "\n",
    "# Info of the genomes used for mapping\n",
    "genome_info_tsv = './data/genomes_names.20170109.mgii_virus_size_corrected.tsv'\n",
    "genome_info_df = pd.read_csv(genome_info_tsv, sep = '\\t', index_col=0)"
   ]
  },
  {
   "cell_type": "code",
   "execution_count": 4,
   "metadata": {
    "collapsed": true
   },
   "outputs": [],
   "source": [
    "# Concatenates the different tsv files with the counts into a tidy dataframe\n",
    "counts_df = pd.DataFrame()\n",
    "for path, dirs, files in os.walk(counts_folder):\n",
    "    for filename in files:\n",
    "        dataset_name = filename.split('.')[0]\n",
    "        file_path = os.path.join(path, filename)\n",
    "        dataset_df = pd.read_csv(file_path, sep='\\t', names=['genome_hash','count'], dtype={'genome_hash':str,'count':pd.np.int})\n",
    "        dataset_df['dataset'] = dataset_name\n",
    "        \n",
    "        counts_df = pd.concat([counts_df, dataset_df])"
   ]
  },
  {
   "cell_type": "code",
   "execution_count": 5,
   "metadata": {
    "collapsed": true
   },
   "outputs": [],
   "source": [
    "# Add metadata columns\n",
    "counts_df = counts_df.merge(metadata_df_slim, on='dataset', how='left')\n",
    "counts_df = counts_df.merge(genome_info_df, on='genome_hash', how='left')"
   ]
  },
  {
   "cell_type": "code",
   "execution_count": 6,
   "metadata": {
    "collapsed": false
   },
   "outputs": [],
   "source": [
    "# Count normalization\n",
    "counts_df['n_count'] = counts_df['count']/((counts_df['genome_size']/1000) * (counts_df['dataset_size']/2/1000000))"
   ]
  },
  {
   "cell_type": "code",
   "execution_count": 7,
   "metadata": {
    "collapsed": true
   },
   "outputs": [],
   "source": [
    "# Tags viral datasets\n",
    "viral_criterion_fraction = counts_df['Protocol Label'].map(lambda x: x in {'GIRUS_NUC-dry_W0.1-0.22','VIRUS_NUC-DNA-Fe(20L)_W<-0.22','VIRUS_NUC-Fe_W<-0.22'})"
   ]
  },
  {
   "cell_type": "code",
   "execution_count": 8,
   "metadata": {
    "collapsed": true
   },
   "outputs": [],
   "source": [
    "# Name the Fraction of origin\n",
    "counts_df.loc[viral_criterion_fraction,'Fraction'] = 'VIRUS'\n",
    "counts_df.loc[viral_criterion_fraction == False,'Fraction'] = 'BACT'"
   ]
  },
  {
   "cell_type": "code",
   "execution_count": 9,
   "metadata": {
    "collapsed": false
   },
   "outputs": [],
   "source": [
    "# List to reorder dataframe\n",
    "column_order = [u'genome_group',u'genome_hash', u'count', u'n_count', u'Fraction', u'dataset', u'Station', u'Latitude Start',\n",
    "       u'Longitude Start', u'Depth', u'Protocol Label', u'dataset_size', u'genome_name',u'genome_size']"
   ]
  },
  {
   "cell_type": "code",
   "execution_count": 10,
   "metadata": {
    "collapsed": false
   },
   "outputs": [],
   "source": [
    "counts_df = counts_df[column_order]"
   ]
  },
  {
   "cell_type": "code",
   "execution_count": 11,
   "metadata": {
    "collapsed": false
   },
   "outputs": [
    {
     "data": {
      "text/html": [
       "<div>\n",
       "<table border=\"1\" class=\"dataframe\">\n",
       "  <thead>\n",
       "    <tr style=\"text-align: right;\">\n",
       "      <th></th>\n",
       "      <th>count</th>\n",
       "      <th>n_count</th>\n",
       "      <th>Latitude Start</th>\n",
       "      <th>Longitude Start</th>\n",
       "      <th>Depth</th>\n",
       "      <th>dataset_size</th>\n",
       "      <th>genome_size</th>\n",
       "    </tr>\n",
       "  </thead>\n",
       "  <tbody>\n",
       "    <tr>\n",
       "      <th>count</th>\n",
       "      <td>1.025430e+05</td>\n",
       "      <td>102543.000000</td>\n",
       "      <td>102543.000000</td>\n",
       "      <td>102543.000000</td>\n",
       "      <td>102543.000000</td>\n",
       "      <td>1.025430e+05</td>\n",
       "      <td>1.025430e+05</td>\n",
       "    </tr>\n",
       "    <tr>\n",
       "      <th>mean</th>\n",
       "      <td>3.004476e+04</td>\n",
       "      <td>0.884748</td>\n",
       "      <td>-3.038715</td>\n",
       "      <td>-31.783807</td>\n",
       "      <td>143.609023</td>\n",
       "      <td>9.305616e+07</td>\n",
       "      <td>3.200314e+05</td>\n",
       "    </tr>\n",
       "    <tr>\n",
       "      <th>std</th>\n",
       "      <td>4.267505e+05</td>\n",
       "      <td>6.843985</td>\n",
       "      <td>25.556760</td>\n",
       "      <td>73.070630</td>\n",
       "      <td>243.561214</td>\n",
       "      <td>6.574257e+07</td>\n",
       "      <td>6.639606e+05</td>\n",
       "    </tr>\n",
       "    <tr>\n",
       "      <th>min</th>\n",
       "      <td>0.000000e+00</td>\n",
       "      <td>0.000000</td>\n",
       "      <td>-62.223100</td>\n",
       "      <td>-159.046000</td>\n",
       "      <td>5.000000</td>\n",
       "      <td>2.527066e+06</td>\n",
       "      <td>5.030000e+02</td>\n",
       "    </tr>\n",
       "    <tr>\n",
       "      <th>25%</th>\n",
       "      <td>0.000000e+00</td>\n",
       "      <td>0.000000</td>\n",
       "      <td>-21.029200</td>\n",
       "      <td>-96.023200</td>\n",
       "      <td>5.000000</td>\n",
       "      <td>3.804226e+07</td>\n",
       "      <td>2.561100e+04</td>\n",
       "    </tr>\n",
       "    <tr>\n",
       "      <th>50%</th>\n",
       "      <td>3.600000e+01</td>\n",
       "      <td>0.016568</td>\n",
       "      <td>-8.910900</td>\n",
       "      <td>-17.909900</td>\n",
       "      <td>30.000000</td>\n",
       "      <td>5.255640e+07</td>\n",
       "      <td>7.028500e+04</td>\n",
       "    </tr>\n",
       "    <tr>\n",
       "      <th>75%</th>\n",
       "      <td>6.950000e+02</td>\n",
       "      <td>0.181444</td>\n",
       "      <td>18.734100</td>\n",
       "      <td>32.898000</td>\n",
       "      <td>120.000000</td>\n",
       "      <td>1.646200e+08</td>\n",
       "      <td>1.614400e+05</td>\n",
       "    </tr>\n",
       "    <tr>\n",
       "      <th>max</th>\n",
       "      <td>3.779579e+07</td>\n",
       "      <td>617.416016</td>\n",
       "      <td>43.768400</td>\n",
       "      <td>73.906700</td>\n",
       "      <td>1000.000000</td>\n",
       "      <td>2.695569e+08</td>\n",
       "      <td>3.148033e+06</td>\n",
       "    </tr>\n",
       "  </tbody>\n",
       "</table>\n",
       "</div>"
      ],
      "text/plain": [
       "              count        n_count  Latitude Start  Longitude Start  \\\n",
       "count  1.025430e+05  102543.000000   102543.000000    102543.000000   \n",
       "mean   3.004476e+04       0.884748       -3.038715       -31.783807   \n",
       "std    4.267505e+05       6.843985       25.556760        73.070630   \n",
       "min    0.000000e+00       0.000000      -62.223100      -159.046000   \n",
       "25%    0.000000e+00       0.000000      -21.029200       -96.023200   \n",
       "50%    3.600000e+01       0.016568       -8.910900       -17.909900   \n",
       "75%    6.950000e+02       0.181444       18.734100        32.898000   \n",
       "max    3.779579e+07     617.416016       43.768400        73.906700   \n",
       "\n",
       "               Depth  dataset_size   genome_size  \n",
       "count  102543.000000  1.025430e+05  1.025430e+05  \n",
       "mean      143.609023  9.305616e+07  3.200314e+05  \n",
       "std       243.561214  6.574257e+07  6.639606e+05  \n",
       "min         5.000000  2.527066e+06  5.030000e+02  \n",
       "25%         5.000000  3.804226e+07  2.561100e+04  \n",
       "50%        30.000000  5.255640e+07  7.028500e+04  \n",
       "75%       120.000000  1.646200e+08  1.614400e+05  \n",
       "max      1000.000000  2.695569e+08  3.148033e+06  "
      ]
     },
     "execution_count": 11,
     "metadata": {},
     "output_type": "execute_result"
    }
   ],
   "source": [
    "counts_df.describe()"
   ]
  },
  {
   "cell_type": "code",
   "execution_count": 12,
   "metadata": {
    "collapsed": true
   },
   "outputs": [],
   "source": [
    "counts_df.to_csv('normalized_reads.tara.20170115.tsv', sep='\\t')"
   ]
  },
  {
   "cell_type": "code",
   "execution_count": null,
   "metadata": {
    "collapsed": true
   },
   "outputs": [],
   "source": []
  }
 ],
 "metadata": {
  "kernelspec": {
   "display_name": "Python 2",
   "language": "python",
   "name": "python2"
  },
  "language_info": {
   "codemirror_mode": {
    "name": "ipython",
    "version": 2
   },
   "file_extension": ".py",
   "mimetype": "text/x-python",
   "name": "python",
   "nbconvert_exporter": "python",
   "pygments_lexer": "ipython2",
   "version": "2.7.11"
  }
 },
 "nbformat": 4,
 "nbformat_minor": 0
}
