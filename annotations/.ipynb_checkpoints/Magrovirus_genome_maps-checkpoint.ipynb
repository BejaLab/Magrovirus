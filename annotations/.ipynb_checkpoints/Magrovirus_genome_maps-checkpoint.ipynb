{
 "cells": [
  {
   "cell_type": "code",
   "execution_count": 1,
   "metadata": {
    "collapsed": false
   },
   "outputs": [],
   "source": [
    "import pandas as pd\n",
    "import os\n",
    "import numpy as np\n",
    "from collections import OrderedDict\n",
    "import matplotlib as mpl\n",
    "mpl.use('Agg')\n",
    "import matplotlib.ticker as ticker\n",
    "import matplotlib.pyplot as plt\n",
    "import seaborn as sns\n",
    "import csv\n",
    "import os\n",
    "from reportlab.lib import colors\n",
    "from reportlab.lib.units import cm\n",
    "from Bio.Graphics import GenomeDiagram\n",
    "from Bio.SeqFeature import SeqFeature, FeatureLocation\n",
    "import csv\n",
    "#sns.use('Agg')\n",
    "from numpy import outer\n",
    "#pd.set_option('display.max_columns', None)\n",
    "#pd.set_option('display.max_rows', 240 )\n",
    "\n",
    "%matplotlib inline\n",
    "\n"
   ]
  },
  {
   "cell_type": "code",
   "execution_count": 2,
   "metadata": {
    "collapsed": true
   },
   "outputs": [],
   "source": [
    "path = '.'\n"
   ]
  },
  {
   "cell_type": "markdown",
   "metadata": {},
   "source": [
    "# Annotation data\n",
    "prepare DFs for genome maps"
   ]
  },
  {
   "cell_type": "markdown",
   "metadata": {},
   "source": [
    "#### Load annotation data and blast results file"
   ]
  },
  {
   "cell_type": "code",
   "execution_count": 48,
   "metadata": {
    "collapsed": false
   },
   "outputs": [],
   "source": [
    "group_A_map_df  =  pd.read_csv(path + '/group_A_annotations_for_circle.txt',\n",
    "                               delimiter='\\t',low_memory=False)\n",
    "group_B1_map_df  =  pd.read_csv(path + '/group_B1_annotations_for_circle.txt',\n",
    "                               delimiter='\\t',low_memory=False)\n",
    "group_C_map_df  =  pd.read_csv(path + '/group_C_annotations_for_circle.txt',\n",
    "                               delimiter='\\t',low_memory=False)\n",
    "group_B2_map_df  =  pd.read_csv(path + '/group_B2_annotations_for_circle.txt',\n",
    "                               delimiter='\\t',low_memory=False)\n",
    "all_v_all_blastp_results  =  pd.read_csv(path + '/new_26_repr_all_v_all_blastp_results.tsv',\n",
    "                               delimiter='\\t',low_memory=False, header=None)\n",
    "\n",
    "all_v_all_blastp_results = all_v_all_blastp_results.rename(columns = {0:'qseqid', 1 : 'sseqid', 2 : 'pident', 3 : 'length',\n",
    "                            4 : 'mismatch', 5 : 'gapopen', 6 : 'qstart', 7 :  'qend', 8 : 'sstart', 9 : 'send',\n",
    "                            10 : 'evalue', 11 : 'bitscore'})      \n"
   ]
  },
  {
   "cell_type": "markdown",
   "metadata": {},
   "source": [
    "### assign colors to annotations"
   ]
  },
  {
   "cell_type": "code",
   "execution_count": 49,
   "metadata": {
    "collapsed": false
   },
   "outputs": [],
   "source": [
    "### Group A\n",
    "l = []\n",
    "for row, columns in group_A_map_df.iterrows():\n",
    "    #print(columns['orf_annotation'])\n",
    "    if columns['orf_annotation'] == 'hypothetical protein':\n",
    "        l.append('Gray')\n",
    "    elif 'thermosome' in str(columns['orf_annotation']):\n",
    "        l.append('Red')\n",
    "    elif 'DNA polymerase family B' in str(columns['orf_annotation']):\n",
    "        l.append('Blue')\n",
    "    elif 'DUF' in str(columns['orf_annotation']):\n",
    "        l.append('grey35')\n",
    "    else:\n",
    "        l.append('whitesmoke')\n",
    "        \n",
    "ll = pd.Series(l)\n",
    "group_A_map_df.loc[:,'col'] = pd.Series(ll, index=group_A_map_df.index)"
   ]
  },
  {
   "cell_type": "code",
   "execution_count": 50,
   "metadata": {
    "collapsed": true
   },
   "outputs": [],
   "source": [
    "### Group B1\n",
    "l = []\n",
    "for row, columns in group_B1_map_df.iterrows():\n",
    "    #print(columns['orf_annotation'])\n",
    "    if columns['orf_annotation'] == 'hypothetical protein':\n",
    "        l.append('Gray')\n",
    "    elif 'thermosome' in str(columns['orf_annotation']):\n",
    "        l.append('Red')\n",
    "    elif 'DNA polymerase family B' in str(columns['orf_annotation']):\n",
    "        l.append('Blue')\n",
    "    elif 'DUF' in str(columns['orf_annotation']):\n",
    "        l.append('grey35')\n",
    "    else:\n",
    "        l.append('whitesmoke')\n",
    "        \n",
    "ll = pd.Series(l)\n",
    "group_B1_map_df.loc[:,'col'] = pd.Series(ll, index=group_B1_map_df.index)"
   ]
  },
  {
   "cell_type": "code",
   "execution_count": 51,
   "metadata": {
    "collapsed": true
   },
   "outputs": [],
   "source": [
    "### Group C\n",
    "l = []\n",
    "for row, columns in group_C_map_df.iterrows():\n",
    "    #print(columns['orf_annotation'])\n",
    "    if columns['orf_annotation'] == 'hypothetical protein':\n",
    "        l.append('Gray')\n",
    "    elif 'thermosome' in str(columns['orf_annotation']):\n",
    "        l.append('Red')\n",
    "    elif 'DNA polymerase family B' in str(columns['orf_annotation']):\n",
    "        l.append('Blue')\n",
    "    elif 'DUF' in str(columns['orf_annotation']):\n",
    "        l.append('grey35')\n",
    "    else:\n",
    "        l.append('whitesmoke')\n",
    "        \n",
    "ll = pd.Series(l)\n",
    "group_C_map_df.loc[:,'col'] = pd.Series(ll, index=group_C_map_df.index)"
   ]
  },
  {
   "cell_type": "code",
   "execution_count": 52,
   "metadata": {
    "collapsed": false
   },
   "outputs": [],
   "source": [
    "### Group B2\n",
    "l = []\n",
    "for row, columns in group_B2_map_df.iterrows():\n",
    "    #print(columns['orf_annotation'])\n",
    "    if columns['orf_annotation'] == 'hypothetical protein':\n",
    "        l.append('Gray')\n",
    "    elif 'thermosome' in str(columns['orf_annotation']):\n",
    "        l.append('Red')\n",
    "    elif 'DNA polymerase family B' in str(columns['orf_annotation']):\n",
    "        l.append('Blue')\n",
    "    elif 'DUF' in str(columns['orf_annotation']):\n",
    "        l.append('grey35')\n",
    "    else:\n",
    "        l.append('whitesmoke')\n",
    "        \n",
    "ll = pd.Series(l)\n",
    "group_B2_map_df.loc[:,'col'] = pd.Series(ll, index=group_B2_map_df.index)"
   ]
  },
  {
   "cell_type": "markdown",
   "metadata": {},
   "source": [
    "### add further plotting parameters columns"
   ]
  },
  {
   "cell_type": "code",
   "execution_count": 53,
   "metadata": {
    "collapsed": false
   },
   "outputs": [],
   "source": [
    "## group A\n",
    "group_A_map_df['gene_type'] = 'arrows'\n",
    "group_A_map_df['cex'] = 1 #number indicating the amount by which plotting text and symbols should be scaled relative to the default. \n",
    "                          #1=default, 1.5 is 50% larger, 0.5 is 50% smaller, etc.\n",
    "group_A_map_df['lty'] = 1 #line type 1-> solid\n",
    "group_A_map_df['lwd'] = 1 #line width relative to the default (default=1). 2 is twice as wide.\n",
    "group_A_map_df['pch'] = 8\n"
   ]
  },
  {
   "cell_type": "code",
   "execution_count": 54,
   "metadata": {
    "collapsed": true
   },
   "outputs": [],
   "source": [
    "## group B\n",
    "group_B1_map_df['gene_type'] = 'arrows'\n",
    "group_B1_map_df['cex'] = 1 #number indicating the amount by which plotting text and symbols should be scaled relative to the default. \n",
    "                          #1=default, 1.5 is 50% larger, 0.5 is 50% smaller, etc.\n",
    "group_B1_map_df['lty'] = 1 #line type 1-> solid\n",
    "group_B1_map_df['lwd'] = 1 #line width relative to the default (default=1). 2 is twice as wide.\n",
    "group_B1_map_df['pch'] = 8"
   ]
  },
  {
   "cell_type": "code",
   "execution_count": 55,
   "metadata": {
    "collapsed": true
   },
   "outputs": [],
   "source": [
    "## group C\n",
    "group_C_map_df['gene_type'] = 'arrows'\n",
    "group_C_map_df['cex'] = 1 #number indicating the amount by which plotting text and symbols should be scaled relative to the default. \n",
    "                          #1=default, 1.5 is 50% larger, 0.5 is 50% smaller, etc.\n",
    "group_C_map_df['lty'] = 1 #line type 1-> solid\n",
    "group_C_map_df['lwd'] = 1 #line width relative to the default (default=1). 2 is twice as wide.\n",
    "group_C_map_df['pch'] = 8"
   ]
  },
  {
   "cell_type": "code",
   "execution_count": 56,
   "metadata": {
    "collapsed": true
   },
   "outputs": [],
   "source": [
    "## group X\n",
    "group_B2_map_df['gene_type'] = 'arrows'\n",
    "group_B2_map_df['cex'] = 1 #number indicating the amount by which plotting text and symbols should be scaled relative to the default. \n",
    "                          #1=default, 1.5 is 50% larger, 0.5 is 50% smaller, etc.\n",
    "group_B2_map_df['lty'] = 1 #line type 1-> solid\n",
    "group_B2_map_df['lwd'] = 1 #line width relative to the default (default=1). 2 is twice as wide.\n",
    "group_B2_map_df['pch'] = 8"
   ]
  },
  {
   "cell_type": "code",
   "execution_count": 57,
   "metadata": {
    "collapsed": true
   },
   "outputs": [],
   "source": [
    "contig_156409_group_A_annotation = group_A_map_df[group_A_map_df['chr'] == 'contig_156409']\n",
    "contig_154566_group_A_annotation = group_A_map_df[group_A_map_df['chr'] == 'contig_154566']\n",
    "contig_155688_group_A_annotation = group_A_map_df[group_A_map_df['chr'] == 'contig_155688']\n",
    "SAMEA2621085_65_group_A_annotation = group_A_map_df[group_A_map_df['chr'] == 'SAMEA2621085_65']\n",
    "SAMEA2619923_17_group_A_annotation = group_A_map_df[group_A_map_df['chr'] == 'SAMEA2619923_17']\n",
    "SAMEA2621151_40_group_A_annotation = group_A_map_df[group_A_map_df['chr'] == 'SAMEA2621151_40']\n",
    "\n"
   ]
  },
  {
   "cell_type": "code",
   "execution_count": 58,
   "metadata": {
    "collapsed": false
   },
   "outputs": [],
   "source": [
    "complete_871648617_group_B1_annotation = group_B1_map_df[group_B1_map_df['chr'] == '871648617_complete']\n",
    "contig_154592_group_B1_annotation = group_B1_map_df[group_B1_map_df['chr'] == 'contig_154592']\n",
    "contig_154676_group_B1_annotation = group_B1_map_df[group_B1_map_df['chr'] == 'contig_154676']\n",
    "ext_777660975_group_B1_annotation = group_B1_map_df[group_B1_map_df['chr'] == '777660975_ext']\n",
    "ext_786803042_group_B1_annotation = group_B1_map_df[group_B1_map_df['chr'] == '786803042']\n",
    "ext_837327169_group_B1_annotation = group_B1_map_df[group_B1_map_df['chr'] == '837327169_ext']\n",
    "contig_154680_group_B1_annotation = group_B1_map_df[group_B1_map_df['chr'] == 'contig_154680']"
   ]
  },
  {
   "cell_type": "code",
   "execution_count": 59,
   "metadata": {
    "collapsed": true
   },
   "outputs": [],
   "source": [
    "contig_155057_group_C_annotation = group_C_map_df[group_C_map_df['chr'] == 'contig_155057']\n",
    "contig_172037_group_C_annotation = group_C_map_df[group_C_map_df['chr'] == 'contig_172037']\n",
    "ext_766270197_group_C_annotation = group_C_map_df[group_C_map_df['chr'] == '766270197_ext']\n",
    "ext_775118401_group_C_annotation = group_C_map_df[group_C_map_df['chr'] == '775118401_ext']\n",
    "ext_778722464_group_C_annotation = group_C_map_df[group_C_map_df['chr'] == '778722464']\n",
    "ext_786772955_group_C_annotation = group_C_map_df[group_C_map_df['chr'] == '786772955']\n",
    "contig_154940_group_C_annotation = group_C_map_df[group_C_map_df['chr'] == 'contig_154940']"
   ]
  },
  {
   "cell_type": "code",
   "execution_count": 60,
   "metadata": {
    "collapsed": true
   },
   "outputs": [],
   "source": [
    "contig_155773_group_B2_annotation = group_B2_map_df[group_B2_map_df['chr'] == 'contig_155773']\n",
    "SAMEA2620879_23_group_B2_annotation = group_B2_map_df[group_B2_map_df['chr'] == 'SAMEA2620879_23']\n",
    "SAMEA2620078_38_group_B2_annotation = group_B2_map_df[group_B2_map_df['chr'] == 'SAMEA2620078_38']\n",
    "SAMEA2621151_104_ext_group_B2_annotation = group_B2_map_df[group_B2_map_df['chr'] == 'SAMEA2621151_104_ext']\n"
   ]
  },
  {
   "cell_type": "markdown",
   "metadata": {},
   "source": [
    "### rearrange columns\n",
    "\n",
    "#### Group A"
   ]
  },
  {
   "cell_type": "code",
   "execution_count": 61,
   "metadata": {
    "collapsed": false
   },
   "outputs": [],
   "source": [
    "cols = contig_156409_group_A_annotation.columns.tolist()\n",
    "\n",
    "cols = cols[1:4] + cols[5:6] + cols[6:] + cols[0:1]\n",
    "\n",
    "contig_156409_group_A_annotation = contig_156409_group_A_annotation[cols]\n",
    "contig_154566_group_A_annotation = contig_154566_group_A_annotation[cols]\n",
    "contig_155688_group_A_annotation = contig_155688_group_A_annotation[cols]\n",
    "SAMEA2621085_65_group_A_annotation = SAMEA2621085_65_group_A_annotation[cols]\n",
    "SAMEA2619923_17_group_A_annotation = SAMEA2619923_17_group_A_annotation[cols]\n",
    "SAMEA2621151_40_group_A_annotation = SAMEA2621151_40_group_A_annotation[cols]"
   ]
  },
  {
   "cell_type": "markdown",
   "metadata": {},
   "source": [
    "#### save "
   ]
  },
  {
   "cell_type": "code",
   "execution_count": 62,
   "metadata": {
    "collapsed": false
   },
   "outputs": [],
   "source": [
    "contig_156409_group_A_annotation.to_csv(path + '/DataFrames/contig_156409_group_A_annotation.csv', index = None)\n",
    "contig_154566_group_A_annotation.to_csv(path + '/DataFrames/contig_154566_group_A_annotation.csv', index = None)\n",
    "contig_155688_group_A_annotation.to_csv(path + '/DataFrames/contig_155688_group_A_annotation.csv', index = None)\n",
    "\n",
    "SAMEA2621085_65_group_A_annotation.to_csv(path + '/DataFrames/SAMEA2621085_65_group_A_annotation.csv', index = None)\n",
    "SAMEA2619923_17_group_A_annotation.to_csv(path + '/DataFrames/SAMEA2619923_17_group_A_annotation.csv', index = None)\n",
    "SAMEA2621151_40_group_A_annotation.to_csv(path + '/DataFrames/SAMEA2621151_40_group_A_annotation.csv', index = None)"
   ]
  },
  {
   "cell_type": "markdown",
   "metadata": {},
   "source": [
    "### Group B"
   ]
  },
  {
   "cell_type": "code",
   "execution_count": 63,
   "metadata": {
    "collapsed": false
   },
   "outputs": [],
   "source": [
    "cols = contig_154592_group_B1_annotation.columns.tolist()\n",
    "\n",
    "cols = cols[1:4] + cols[5:6] + cols[6:] + cols[0:1]\n",
    "\n",
    "complete_871648617_group_B1_annotation = complete_871648617_group_B1_annotation[cols]\n",
    "contig_154592_group_B1_annotation = contig_154592_group_B1_annotation[cols]\n",
    "contig_154676_group_B1_annotation = contig_154676_group_B1_annotation[cols]\n",
    "ext_777660975_group_B1_annotation = ext_777660975_group_B1_annotation[cols]\n",
    "ext_786803042_group_B1_annotation = ext_786803042_group_B1_annotation[cols]\n",
    "ext_837327169_group_B1_annotation = ext_837327169_group_B1_annotation[cols]\n",
    "contig_154680_group_B1_annotation = contig_154680_group_B1_annotation[cols]"
   ]
  },
  {
   "cell_type": "markdown",
   "metadata": {},
   "source": [
    "#### save"
   ]
  },
  {
   "cell_type": "code",
   "execution_count": 64,
   "metadata": {
    "collapsed": true
   },
   "outputs": [],
   "source": [
    "complete_871648617_group_B1_annotation.to_csv(path + '/DataFrames/complete_871648617_group_B1_annotation.csv', index = None)\n",
    "contig_154592_group_B1_annotation.to_csv(path + '/DataFrames/contig_154592_group_B1_annotation.csv', index = None)\n",
    "contig_154676_group_B1_annotation.to_csv(path + '/DataFrames/contig_154676_group_B1_annotation.csv', index = None)\n",
    "\n",
    "ext_777660975_group_B1_annotation.to_csv(path + '/DataFrames/ext_777660975_group_B1_annotation.csv', index = None)\n",
    "ext_786803042_group_B1_annotation.to_csv(path + '/DataFrames/ext_786803042_group_B1_annotation.csv', index = None)\n",
    "ext_837327169_group_B1_annotation.to_csv(path + '/DataFrames/ext_837327169_group_B1_annotation.csv', index = None)\n",
    "contig_154680_group_B1_annotation.to_csv(path + '/DataFrames/contig_154680_group_B1_annotation.csv', index = None)\n",
    "\n"
   ]
  },
  {
   "cell_type": "markdown",
   "metadata": {},
   "source": [
    "### Group C"
   ]
  },
  {
   "cell_type": "code",
   "execution_count": 65,
   "metadata": {
    "collapsed": true
   },
   "outputs": [],
   "source": [
    "cols = contig_155057_group_C_annotation.columns.tolist()\n",
    "\n",
    "cols = cols[1:4] + cols[5:6] + cols[6:] + cols[0:1]\n",
    "\n",
    "contig_155057_group_C_annotation = contig_155057_group_C_annotation[cols]\n",
    "contig_172037_group_C_annotation = contig_172037_group_C_annotation[cols]\n",
    "ext_766270197_group_C_annotation = ext_766270197_group_C_annotation[cols]\n",
    "ext_775118401_group_C_annotation = ext_775118401_group_C_annotation[cols]\n",
    "ext_778722464_group_C_annotation = ext_778722464_group_C_annotation[cols]\n",
    "ext_786772955_group_C_annotation = ext_786772955_group_C_annotation[cols]\n",
    "contig_154940_group_C_annotation = contig_154940_group_C_annotation[cols]"
   ]
  },
  {
   "cell_type": "markdown",
   "metadata": {},
   "source": [
    "##### Save"
   ]
  },
  {
   "cell_type": "code",
   "execution_count": 66,
   "metadata": {
    "collapsed": true
   },
   "outputs": [],
   "source": [
    "contig_155057_group_C_annotation.to_csv(path + '/DataFrames/contig_155057_group_C_annotation.csv', index = None)\n",
    "contig_172037_group_C_annotation.to_csv(path + '/DataFrames/contig_172037_group_C_annotation.csv', index = None)\n",
    "contig_172037_group_C_annotation.to_csv(path + '/DataFrames/contig_172037_group_C_annotation.csv', index = None)\n",
    "\n",
    "ext_775118401_group_C_annotation.to_csv(path + '/DataFrames/ext_775118401_group_C_annotation.csv', index = None)\n",
    "ext_778722464_group_C_annotation.to_csv(path + '/DataFrames/ext_778722464_group_C_annotation.csv', index = None)\n",
    "ext_786772955_group_C_annotation.to_csv(path + '/DataFrames/ext_786772955_group_C_annotation.csv', index = None)\n",
    "contig_154940_group_C_annotation.to_csv(path + '/DataFrames/contig_154940_group_C_annotation.csv', index = None)\n",
    "\n",
    "\n"
   ]
  },
  {
   "cell_type": "markdown",
   "metadata": {},
   "source": [
    "### Group B2"
   ]
  },
  {
   "cell_type": "code",
   "execution_count": 67,
   "metadata": {
    "collapsed": true
   },
   "outputs": [],
   "source": [
    "cols = contig_155773_group_B2_annotation.columns.tolist()\n",
    "\n",
    "cols = cols[1:4] + cols[5:6] + cols[6:] + cols[0:1]\n",
    "\n",
    "contig_155773_group_B2_annotation = contig_155773_group_B2_annotation[cols]\n",
    "SAMEA2620879_23_group_B2_annotation = SAMEA2620879_23_group_B2_annotation[cols]\n",
    "SAMEA2620078_38_group_B2_annotation = SAMEA2620078_38_group_B2_annotation[cols]\n",
    "SAMEA2621151_104_ext_group_B2_annotation = SAMEA2621151_104_ext_group_B2_annotation[cols]\n"
   ]
  },
  {
   "cell_type": "markdown",
   "metadata": {},
   "source": [
    "##### Save"
   ]
  },
  {
   "cell_type": "code",
   "execution_count": 68,
   "metadata": {
    "collapsed": true
   },
   "outputs": [],
   "source": [
    "contig_155773_group_B2_annotation.to_csv(path + '/DataFrames/contig_155773_groupB2X_annotation.csv', index = None)\n",
    "SAMEA2620879_23_group_B2_annotation.to_csv(path + '/DataFrames/SAMEA2620879_23_group_B2_annotation.csv', index = None)\n",
    "SAMEA2620078_38_group_B2_annotation.to_csv(path + '/DataFrames/SAMEA2620078_38_group_B2_annotation.csv', index = None)\n",
    "SAMEA2621151_104_ext_group_B2_annotation.to_csv(path + '/DataFrames/SAMEA2621151_104_ext_group_B2_annotation.csv', index = None)\n"
   ]
  },
  {
   "cell_type": "markdown",
   "metadata": {},
   "source": [
    "\n",
    "## blastp all orf vs all results"
   ]
  },
  {
   "cell_type": "markdown",
   "metadata": {
    "collapsed": true
   },
   "source": [
    "\n",
    "\n",
    "### group A all contigs"
   ]
  },
  {
   "cell_type": "code",
   "execution_count": 69,
   "metadata": {
    "collapsed": false
   },
   "outputs": [],
   "source": [
    "all_v_all_blastp_results_groupA_blast = all_v_all_blastp_results[(all_v_all_blastp_results['qseqid'].str.contains('contig_156409') |\n",
    "                         all_v_all_blastp_results['qseqid'].str.contains('contig_155688') |\n",
    "                         all_v_all_blastp_results['qseqid'].str.contains('contig_154566') |\n",
    "                         all_v_all_blastp_results['qseqid'].str.contains('SAMEA2621061_122') |\n",
    "                         all_v_all_blastp_results['qseqid'].str.contains('SAMEA2619923_17')  |\n",
    "                         all_v_all_blastp_results['qseqid'].str.contains('SAMEA2621085_65')  |\n",
    "                         all_v_all_blastp_results['qseqid'].str.contains('SAMEA2621151_40')) &\n",
    "                         (all_v_all_blastp_results['sseqid'].str.contains('contig_154566') |\n",
    "                         all_v_all_blastp_results['sseqid'].str.contains('contig_155688') |\n",
    "                         all_v_all_blastp_results['sseqid'].str.contains('contig_156409') |\n",
    "                         all_v_all_blastp_results['sseqid'].str.contains('SAMEA2621061_122') |\n",
    "                         all_v_all_blastp_results['sseqid'].str.contains('SAMEA2619923_17')  |\n",
    "                         all_v_all_blastp_results['sseqid'].str.contains('SAMEA2621085_65')  |\n",
    "                         all_v_all_blastp_results['sseqid'].str.contains('SAMEA2621151_40'))]\n",
    "   \n",
    "\n",
    "\n",
    "\n",
    "all_v_all_blastp_results_groupA_blast =  all_v_all_blastp_results_groupA_blast[\n",
    "    (all_v_all_blastp_results_groupA_blast['qseqid'] != all_v_all_blastp_results_groupA_blast['sseqid']) &\n",
    "                        (all_v_all_blastp_results_groupA_blast['pident'] >= 50.0) &\n",
    "    (all_v_all_blastp_results_groupA_blast['bitscore'] >= 80.0)]"
   ]
  },
  {
   "cell_type": "markdown",
   "metadata": {},
   "source": [
    "### group B1 all contigs"
   ]
  },
  {
   "cell_type": "code",
   "execution_count": 70,
   "metadata": {
    "collapsed": true
   },
   "outputs": [],
   "source": [
    "all_v_all_blastp_results_groupB1_blast = all_v_all_blastp_results[(all_v_all_blastp_results['qseqid'].str.contains('871648617_complete') |\n",
    "                         all_v_all_blastp_results['qseqid'].str.contains('contig_154592') |\n",
    "                         all_v_all_blastp_results['qseqid'].str.contains('contig_154676') |\n",
    "                         all_v_all_blastp_results['qseqid'].str.contains('777660975_ext') |\n",
    "                         all_v_all_blastp_results['qseqid'].str.contains('786803042')  |\n",
    "                         all_v_all_blastp_results['qseqid'].str.contains('837327169_ext')  |\n",
    "                         all_v_all_blastp_results['qseqid'].str.contains('contig_154680')) &\n",
    "                         (all_v_all_blastp_results['sseqid'].str.contains('871648617_complete') |\n",
    "                         all_v_all_blastp_results['sseqid'].str.contains('contig_154592') |\n",
    "                         all_v_all_blastp_results['sseqid'].str.contains('contig_154676') |\n",
    "                         all_v_all_blastp_results['sseqid'].str.contains('777660975_ext') |\n",
    "                         all_v_all_blastp_results['sseqid'].str.contains('786803042')  |\n",
    "                         all_v_all_blastp_results['sseqid'].str.contains('837327169_ext')  |\n",
    "                         all_v_all_blastp_results['sseqid'].str.contains('contig_154680'))]\n",
    "   \n",
    "\n",
    "\n",
    "\n",
    "all_v_all_blastp_results_groupB1_blast =  all_v_all_blastp_results_groupB1_blast[\n",
    "    (all_v_all_blastp_results_groupB1_blast['qseqid'] != all_v_all_blastp_results_groupB1_blast['sseqid']) &\n",
    "                        (all_v_all_blastp_results_groupB1_blast['pident'] >= 50.0) &\n",
    "    (all_v_all_blastp_results_groupB1_blast['bitscore'] >= 80.0)]"
   ]
  },
  {
   "cell_type": "markdown",
   "metadata": {},
   "source": [
    "## Group C"
   ]
  },
  {
   "cell_type": "code",
   "execution_count": 71,
   "metadata": {
    "collapsed": true
   },
   "outputs": [],
   "source": [
    "all_v_all_blastp_results_groupC_blast = all_v_all_blastp_results[(all_v_all_blastp_results['qseqid'].str.contains('contig_155057') |\n",
    "                         all_v_all_blastp_results['qseqid'].str.contains('contig_172037') |\n",
    "                         all_v_all_blastp_results['qseqid'].str.contains('766270197_ext') |\n",
    "                         all_v_all_blastp_results['qseqid'].str.contains('775118401_ext') |\n",
    "                         all_v_all_blastp_results['qseqid'].str.contains('778722464')  |\n",
    "                         all_v_all_blastp_results['qseqid'].str.contains('786772955')  |\n",
    "                         all_v_all_blastp_results['qseqid'].str.contains('contig_154940')) &\n",
    "                         (all_v_all_blastp_results['sseqid'].str.contains('contig_155057') |\n",
    "                         all_v_all_blastp_results['sseqid'].str.contains('contig_172037') |\n",
    "                         all_v_all_blastp_results['sseqid'].str.contains('766270197_ext') |\n",
    "                         all_v_all_blastp_results['sseqid'].str.contains('775118401_ext') |\n",
    "                         all_v_all_blastp_results['sseqid'].str.contains('778722464')  |\n",
    "                         all_v_all_blastp_results['sseqid'].str.contains('786772955')  |\n",
    "                         all_v_all_blastp_results['sseqid'].str.contains('contig_154940'))]\n",
    "   \n",
    "\n",
    "\n",
    "\n",
    "all_v_all_blastp_results_groupC_blast =  all_v_all_blastp_results_groupC_blast[\n",
    "    (all_v_all_blastp_results_groupC_blast['qseqid'] != all_v_all_blastp_results_groupC_blast['sseqid']) &\n",
    "                        (all_v_all_blastp_results_groupC_blast['pident'] >= 50.0) &\n",
    "    (all_v_all_blastp_results_groupC_blast['bitscore'] >= 80.0)]"
   ]
  },
  {
   "cell_type": "markdown",
   "metadata": {},
   "source": [
    "## Group B2\n"
   ]
  },
  {
   "cell_type": "code",
   "execution_count": 72,
   "metadata": {
    "collapsed": true
   },
   "outputs": [],
   "source": [
    "all_v_all_blastp_results_groupB2_blast = all_v_all_blastp_results[(all_v_all_blastp_results['qseqid'].str.contains('contig_155773') |\n",
    "                         all_v_all_blastp_results['qseqid'].str.contains('SAMEA2620879_23') |\n",
    "                         all_v_all_blastp_results['qseqid'].str.contains('SAMEA2620078_38') |\n",
    "                         all_v_all_blastp_results['qseqid'].str.contains('SAMEA2621151_104_ext')) &\n",
    "                         (all_v_all_blastp_results['sseqid'].str.contains('contig_155773') |\n",
    "                         all_v_all_blastp_results['sseqid'].str.contains('SAMEA2620879_23') |\n",
    "                         all_v_all_blastp_results['sseqid'].str.contains('SAMEA2620078_38') |\n",
    "                         all_v_all_blastp_results['sseqid'].str.contains('SAMEA2621151_104_ext'))]\n",
    "   \n",
    "\n",
    "\n",
    "\n",
    "all_v_all_blastp_results_groupB2_blast =  all_v_all_blastp_results_groupB2_blast[\n",
    "    (all_v_all_blastp_results_groupB2_blast['qseqid'] != all_v_all_blastp_results_groupB2_blast['sseqid']) &\n",
    "                        (all_v_all_blastp_results_groupB2_blast['pident'] >= 50.0) &\n",
    "    (all_v_all_blastp_results_groupB2_blast['bitscore'] >= 80.0)]"
   ]
  },
  {
   "cell_type": "markdown",
   "metadata": {},
   "source": [
    "## All Group B"
   ]
  },
  {
   "cell_type": "code",
   "execution_count": 73,
   "metadata": {
    "collapsed": false
   },
   "outputs": [
    {
     "name": "stderr",
     "output_type": "stream",
     "text": [
      "/usr/local/lib/python2.7/site-packages/ipykernel/__main__.py:29: UserWarning: Boolean Series key will be reindexed to match DataFrame index.\n"
     ]
    }
   ],
   "source": [
    "all_v_all_blastp_results_all_groupB_blast = all_v_all_blastp_results[(all_v_all_blastp_results['qseqid'].str.contains('871648617_complete') |\n",
    "                         all_v_all_blastp_results['qseqid'].str.contains('contig_154592') |\n",
    "                         all_v_all_blastp_results['qseqid'].str.contains('contig_154676') |\n",
    "                         all_v_all_blastp_results['qseqid'].str.contains('777660975_ext') |\n",
    "                         all_v_all_blastp_results['qseqid'].str.contains('786803042')  |\n",
    "                         all_v_all_blastp_results['qseqid'].str.contains('837327169_ext')  |\n",
    "                         all_v_all_blastp_results['qseqid'].str.contains('contig_154680')  |\n",
    "                         all_v_all_blastp_results['qseqid'].str.contains('contig_155773') |\n",
    "                         all_v_all_blastp_results['qseqid'].str.contains('SAMEA2620879_23') |\n",
    "                         all_v_all_blastp_results['qseqid'].str.contains('SAMEA2620078_38') |\n",
    "                         all_v_all_blastp_results['qseqid'].str.contains('SAMEA2621151_104_ext')) &\n",
    "                         (all_v_all_blastp_results['sseqid'].str.contains('871648617_complete') |\n",
    "                         all_v_all_blastp_results['sseqid'].str.contains('contig_154592') |\n",
    "                         all_v_all_blastp_results['sseqid'].str.contains('contig_154676') |\n",
    "                         all_v_all_blastp_results['sseqid'].str.contains('777660975_ext') |\n",
    "                         all_v_all_blastp_results['sseqid'].str.contains('786803042')  |\n",
    "                         all_v_all_blastp_results['sseqid'].str.contains('837327169_ext')  |\n",
    "                         all_v_all_blastp_results['sseqid'].str.contains('contig_154680')  |\n",
    "                         all_v_all_blastp_results['sseqid'].str.contains('contig_155773') |\n",
    "                         all_v_all_blastp_results['sseqid'].str.contains('SAMEA2620879_23') |\n",
    "                         all_v_all_blastp_results['sseqid'].str.contains('SAMEA2620078_38') |\n",
    "                         all_v_all_blastp_results['sseqid'].str.contains('SAMEA2621151_104_ext'))]\n",
    "\n",
    "\n",
    "\n",
    "all_v_all_blastp_results_all_groupB_blast =  all_v_all_blastp_results_groupB1_blast[\n",
    "    (all_v_all_blastp_results_all_groupB_blast['qseqid'] != all_v_all_blastp_results_all_groupB_blast['sseqid']) &\n",
    "                        (all_v_all_blastp_results_all_groupB_blast['pident'] >= 50.0) &\n",
    "    (all_v_all_blastp_results_all_groupB_blast['bitscore'] >= 80.0)]"
   ]
  },
  {
   "cell_type": "markdown",
   "metadata": {},
   "source": [
    "#### save"
   ]
  },
  {
   "cell_type": "code",
   "execution_count": 74,
   "metadata": {
    "collapsed": false
   },
   "outputs": [],
   "source": [
    "#all_v_all_blastp_results_groupA_blast_eilat.to_csv(path + '/data/annotations/DataFrames/all_v_all_blastp_results_groupA_blast_eilat.csv', sep='\\t')\n",
    "all_v_all_blastp_results_groupA_blast.to_csv(path + '/DataFrames/all_v_all_blastp_results_groupA_blast_all.csv', sep='\\t')"
   ]
  },
  {
   "cell_type": "markdown",
   "metadata": {},
   "source": [
    "#### create a pairwise comparison tab files between contigs\n"
   ]
  },
  {
   "cell_type": "markdown",
   "metadata": {},
   "source": [
    "### rename query and subject columns\n",
    "\n",
    "#### GroupA\n"
   ]
  },
  {
   "cell_type": "code",
   "execution_count": 75,
   "metadata": {
    "collapsed": false
   },
   "outputs": [],
   "source": [
    "all_v_all_blastp_results_groupA_blast['query_start'] = [int(group_A_map_df.loc[group_A_map_df['name'] == x]['start']) for x in all_v_all_blastp_results_groupA_blast.qseqid.values \\\n",
    "     if x in group_A_map_df.name.values]\n",
    "all_v_all_blastp_results_groupA_blast['query_end'] = [int(group_A_map_df.loc[group_A_map_df['name'] == x]['end']) for x in all_v_all_blastp_results_groupA_blast.qseqid.values \\\n",
    "     if x in group_A_map_df.name.values]\n",
    "\n",
    "all_v_all_blastp_results_groupA_blast['subject_start'] = [int(group_A_map_df.loc[group_A_map_df['name'] == x]['start']) for x in all_v_all_blastp_results_groupA_blast.sseqid.values \\\n",
    "     if x in group_A_map_df.name.values ]\n",
    "all_v_all_blastp_results_groupA_blast['subject_end'] = [int(group_A_map_df.loc[group_A_map_df['name'] == x]['end']) for x in all_v_all_blastp_results_groupA_blast.sseqid.values \\\n",
    "     if x in group_A_map_df.name.values ]\n",
    "all_v_all_blastp_results_groupA_blast['query_contig'] = ['_'.join(x.split('_')[2:])   for x in all_v_all_blastp_results_groupA_blast['qseqid']]\n",
    "all_v_all_blastp_results_groupA_blast['subject_contig'] = ['_'.join(x.split('_')[2:])  for x in all_v_all_blastp_results_groupA_blast['sseqid']]"
   ]
  },
  {
   "cell_type": "markdown",
   "metadata": {},
   "source": [
    "#### GroupB1"
   ]
  },
  {
   "cell_type": "code",
   "execution_count": 76,
   "metadata": {
    "collapsed": false
   },
   "outputs": [],
   "source": [
    "all_v_all_blastp_results_groupB1_blast['query_start'] = [int(group_B1_map_df.loc[group_B1_map_df['name'] == x]['start']) for x in all_v_all_blastp_results_groupB1_blast.qseqid.values \\\n",
    "     if x in group_B1_map_df.name.values]\n",
    "all_v_all_blastp_results_groupB1_blast['query_end'] = [int(group_B1_map_df.loc[group_B1_map_df['name'] == x]['end']) for x in all_v_all_blastp_results_groupB1_blast.qseqid.values \\\n",
    "     if x in group_B1_map_df.name.values]\n",
    "\n",
    "all_v_all_blastp_results_groupB1_blast['subject_start'] = [int(group_B1_map_df.loc[group_B1_map_df['name'] == x]['start']) for x in all_v_all_blastp_results_groupB1_blast.sseqid.values \\\n",
    "     if x in group_B1_map_df.name.values ]\n",
    "all_v_all_blastp_results_groupB1_blast['subject_end'] = [int(group_B1_map_df.loc[group_B1_map_df['name'] == x]['end']) for x in all_v_all_blastp_results_groupB1_blast.sseqid.values \\\n",
    "     if x in group_B1_map_df.name.values ]\n",
    "\n",
    "all_v_all_blastp_results_groupB1_blast['query_contig'] = ['_'.join(x.split('_')[2:])  for x in all_v_all_blastp_results_groupB1_blast['qseqid']]\n",
    "all_v_all_blastp_results_groupB1_blast['subject_contig'] = ['_'.join(x.split('_')[2:]) for x in all_v_all_blastp_results_groupB1_blast['sseqid']]"
   ]
  },
  {
   "cell_type": "markdown",
   "metadata": {},
   "source": [
    "### Group B2"
   ]
  },
  {
   "cell_type": "code",
   "execution_count": 77,
   "metadata": {
    "collapsed": false
   },
   "outputs": [],
   "source": [
    "all_v_all_blastp_results_groupB2_blast['query_start'] = [int(group_B2_map_df.loc[group_B2_map_df['name'] == x]['start']) for x in all_v_all_blastp_results_groupB2_blast.qseqid.values \\\n",
    "     if x in group_B2_map_df.name.values]\n",
    "all_v_all_blastp_results_groupB2_blast['query_end'] = [int(group_B2_map_df.loc[group_B2_map_df['name'] == x]['end']) for x in all_v_all_blastp_results_groupB2_blast.qseqid.values \\\n",
    "     if x in group_B2_map_df.name.values]\n",
    "\n",
    "all_v_all_blastp_results_groupB2_blast['subject_start'] = [int(group_B2_map_df.loc[group_B2_map_df['name'] == x]['start']) for x in all_v_all_blastp_results_groupB2_blast.sseqid.values \\\n",
    "     if x in group_B2_map_df.name.values ]\n",
    "all_v_all_blastp_results_groupB2_blast['subject_end'] = [int(group_B2_map_df.loc[group_B2_map_df['name'] == x]['end']) for x in all_v_all_blastp_results_groupB2_blast.sseqid.values \\\n",
    "     if x in group_B2_map_df.name.values ]\n",
    "all_v_all_blastp_results_groupB2_blast['query_contig'] = ['_'.join(x.split('_')[2:])   for x in all_v_all_blastp_results_groupB2_blast['qseqid']]\n",
    "all_v_all_blastp_results_groupB2_blast['subject_contig'] = ['_'.join(x.split('_')[2:])  for x in all_v_all_blastp_results_groupB2_blast['sseqid']]"
   ]
  },
  {
   "cell_type": "markdown",
   "metadata": {},
   "source": [
    "#### group C"
   ]
  },
  {
   "cell_type": "code",
   "execution_count": 78,
   "metadata": {
    "collapsed": false
   },
   "outputs": [],
   "source": [
    "all_v_all_blastp_results_groupC_blast['query_start'] = [int(group_C_map_df.loc[group_C_map_df['name'] == x]['start']) for x in all_v_all_blastp_results_groupC_blast.qseqid.values \\\n",
    "     if x in group_C_map_df.name.values]\n",
    "all_v_all_blastp_results_groupC_blast['query_end'] = [int(group_C_map_df.loc[group_C_map_df['name'] == x]['end']) for x in all_v_all_blastp_results_groupC_blast.qseqid.values \\\n",
    "     if x in group_C_map_df.name.values]\n",
    "\n",
    "all_v_all_blastp_results_groupC_blast['subject_start'] = [int(group_C_map_df.loc[group_C_map_df['name'] == x]['start']) for x in all_v_all_blastp_results_groupC_blast.sseqid.values \\\n",
    "     if x in group_C_map_df.name.values ]\n",
    "all_v_all_blastp_results_groupC_blast['subject_end'] = [int(group_C_map_df.loc[group_C_map_df['name'] == x]['end']) for x in all_v_all_blastp_results_groupC_blast.sseqid.values \\\n",
    "     if x in group_C_map_df.name.values ]\n",
    "all_v_all_blastp_results_groupC_blast['query_contig'] = ['_'.join(x.split('_')[2:])  for x in all_v_all_blastp_results_groupC_blast['qseqid']]\n",
    "all_v_all_blastp_results_groupC_blast['subject_contig'] = ['_'.join(x.split('_')[2:])  for x in all_v_all_blastp_results_groupC_blast['sseqid']]"
   ]
  },
  {
   "cell_type": "code",
   "execution_count": null,
   "metadata": {
    "collapsed": true
   },
   "outputs": [],
   "source": []
  },
  {
   "cell_type": "code",
   "execution_count": null,
   "metadata": {
    "collapsed": true
   },
   "outputs": [],
   "source": []
  },
  {
   "cell_type": "code",
   "execution_count": 80,
   "metadata": {
    "collapsed": false
   },
   "outputs": [],
   "source": [
    "\n",
    "\n",
    "\n",
    "#all_v_all_plus_annotation.to_csv(path +\n",
    " #   '/all_v_all_plus_annotation_start_end.tsv', sep='\\t', index = None)\n",
    "\n",
    "\n",
    "all_v_all_blastp_results_groupA_blast.to_csv(path +\n",
    "    '/all_v_all_blastp_results_groupA_blast.tsv', sep='\\t', index = None)\n",
    "\n",
    "\n",
    "all_v_all_blastp_results_groupB1_blast.to_csv(path +\n",
    "    '/all_v_all_blastp_results_groupB1_blast.tsv', sep='\\t', index = None)\n",
    "\n",
    "\n",
    "all_v_all_blastp_results_groupB2_blast.to_csv(path +\n",
    "    '/all_v_all_blastp_results_groupB2_blast.tsv', sep='\\t', index = None)\n",
    "\n",
    "all_v_all_blastp_results_groupC_blast.to_csv(path +\n",
    "    '/all_v_all_blastp_results_groupC_blast.tsv', sep='\\t', index = None)\n"
   ]
  },
  {
   "cell_type": "code",
   "execution_count": null,
   "metadata": {
    "collapsed": true
   },
   "outputs": [],
   "source": []
  },
  {
   "cell_type": "markdown",
   "metadata": {},
   "source": [
    "## Genome Maps"
   ]
  },
  {
   "cell_type": "code",
   "execution_count": 111,
   "metadata": {
    "collapsed": false
   },
   "outputs": [],
   "source": [
    "Category_dict = pd.read_csv(path +  '/ORF_annotation_cat.tsv', delimiter ='\\t', comment='#', header=0)#, index_col='annotation')\n",
    "\n",
    "Category_dict  = dict(zip(Category_dict.annotation, Category_dict.category)) #pd.DataFrame.to_dict(Category_dict, orient='series')#"
   ]
  },
  {
   "cell_type": "code",
   "execution_count": 112,
   "metadata": {
    "collapsed": false
   },
   "outputs": [],
   "source": [
    "#Category_dict"
   ]
  },
  {
   "cell_type": "code",
   "execution_count": 113,
   "metadata": {
    "collapsed": true
   },
   "outputs": [],
   "source": [
    "Category_color_dict = {'Coenzyme transport and metabolism' : '#117A65',\n",
    " 'DNA packaging' : '#F5B7B1',\n",
    " 'Nucleotide and amino acid metabolism' : '#C39BD3',\n",
    " 'Replication, recombination and repair' : '#E74C3C',\n",
    " 'Structural protein' : '#5DADE2',\n",
    " 'Translation, ribosomal structure and biogenesis' : '#F5B7B1',\n",
    " 'hypothetical protein' : '#BDC3C7',\n",
    " 'Conserved protein' : '#839192',\n",
    " 'chaperonin' : '#27AE60',\n",
    " 'Translation, ribosomal structure and biogenesis' : '#C39BD3'}"
   ]
  },
  {
   "cell_type": "markdown",
   "metadata": {},
   "source": [
    "### HVTV-1"
   ]
  },
  {
   "cell_type": "code",
   "execution_count": 114,
   "metadata": {
    "collapsed": false
   },
   "outputs": [],
   "source": [
    "HVTV1 = pd.read_csv(path + '/Halo_Viruses/Halovirus_HVTV-1.gff3', delimiter ='\\t', comment='#', header=None)\n",
    "\n",
    "HVTV1 = HVTV1.rename(columns = {0:'Accession', 1:'Source', 2:'Type', 3:'Start', 4:'End', 5:'Score', \n",
    "                             6:'Strand', 7:'Phase', 8:'Description'})\n",
    "HVTV1 = HVTV1[HVTV1['Type'] == 'CDS']\n",
    "product_list = [[''.join(y.split('=')[1]) for y in x.split(';') if 'product' in y] for x in HVTV1.Description]\n",
    "HVTV1['Product'] = [''.join(x) for x in product_list]\n",
    "\n",
    "gene_list = [[''.join(y.split('=')[1]) for y in x.split(';') if 'gene=' in y] for x in HVTV1.Description]\n",
    "HVTV1['Gene'] = [''.join(x) for x in gene_list]\n",
    "\n",
    "HVTV1_feature_set = GenomeDiagram.FeatureSet()\n",
    "HVTV1_gd = GenomeDiagram.Diagram('HVTV1')\n",
    "HVTV1_gd_features = HVTV1_gd.new_track(1, greytrack=0, name='', scale_ticks=0.1 ,scale_smalltick_lables=1, scale_smalltick_interval=10000, scale_smallticks=-0.3)\n",
    "HVTV1_gd_features = HVTV1_gd_features.new_set()"
   ]
  },
  {
   "cell_type": "code",
   "execution_count": 115,
   "metadata": {
    "collapsed": false
   },
   "outputs": [],
   "source": [
    "##ARROW\n",
    "for index, row in HVTV1.iterrows():\n",
    "        l = len(row)\n",
    "        Category = Category_dict[row['Product']]\n",
    "        gene_num = row['Gene']\n",
    "        fr = row['Strand']\n",
    "        if fr == '+':\n",
    "            fr = +1\n",
    "            lb =45\n",
    "        elif fr == '-':\n",
    "            fr = -1\n",
    "            lb = -225\n",
    "        else:\n",
    "            fr = 0\n",
    "        start = int(row['Start'])\n",
    "        end = int(row['End'])\n",
    "        col = Category_color_dict[Category]\n",
    "        feature = SeqFeature(FeatureLocation(start, end), strand=fr)\n",
    "        HVTV1_gd_features.add_feature(feature, label=True, color=col, lable_size=3, label_angle=lb, sigil=\"ARROW\",arrowshaft_height=0.5, \n",
    "                                 tracklines=0, label_position=\"middle\", name=row['Product'] + ' ' +gene_num, arrowhead_length=0.5,)\n",
    "                                \n",
    "        HVTV1_gd.draw(format='circular', circular=True, pagesize=('A4'), start=0, end=102319,  circle_core=0.7)\n",
    "        HVTV1_gd.write(path + '/figuers/HVTV1_circ_arrows_gene_name.pdf','pdf')\n",
    "    "
   ]
  },
  {
   "cell_type": "markdown",
   "metadata": {},
   "source": [
    "##### no labels"
   ]
  },
  {
   "cell_type": "code",
   "execution_count": 116,
   "metadata": {
    "collapsed": true
   },
   "outputs": [],
   "source": [
    "HVTV1_feature_set = GenomeDiagram.FeatureSet()\n",
    "HVTV1_gd = GenomeDiagram.Diagram('HVTV1')\n",
    "HVTV1_gd_features = HVTV1_gd.new_track(1, greytrack=0, name='', scale_ticks=0.1 ,scale_smalltick_lables=1, scale_smalltick_interval=10000, scale_smallticks=-0.3)\n",
    "HVTV1_gd_features = HVTV1_gd_features.new_set()"
   ]
  },
  {
   "cell_type": "code",
   "execution_count": 117,
   "metadata": {
    "collapsed": true
   },
   "outputs": [],
   "source": [
    "##ARROW\n",
    "for index, row in HVTV1.iterrows():\n",
    "        l = len(row)\n",
    "        Category = Category_dict[row['Product']]\n",
    "        gene_num = row['Gene']\n",
    "        fr = row['Strand']\n",
    "        if fr == '+':\n",
    "            fr = +1\n",
    "            lb =45\n",
    "        elif fr == '-':\n",
    "            fr = -1\n",
    "            lb = -225\n",
    "        else:\n",
    "            fr = 0\n",
    "        start = int(row['Start'])\n",
    "        end = int(row['End'])\n",
    "        col = Category_color_dict[Category]\n",
    "        feature = SeqFeature(FeatureLocation(start, end), strand=fr)\n",
    "        HVTV1_gd_features.add_feature(feature, label=False, color=col, lable_size=3, label_angle=lb, sigil=\"ARROW\",arrowshaft_height=0.5, \n",
    "                                 tracklines=0, label_position=\"middle\", name=gene_num, arrowhead_length=0.5,)\n",
    "                                \n",
    "        HVTV1_gd.draw(format='circular', circular=True, pagesize=('A4'), start=0, end=103000,  circle_core=0.7)\n",
    "        HVTV1_gd.write(path + '/figuers/HVTV1_circ_arrows_no_labs.pdf','pdf')\n",
    "    "
   ]
  },
  {
   "cell_type": "markdown",
   "metadata": {},
   "source": [
    "## HCTV1"
   ]
  },
  {
   "cell_type": "code",
   "execution_count": 118,
   "metadata": {
    "collapsed": true
   },
   "outputs": [],
   "source": [
    "HCTV1 = pd.read_csv(path + '/Halo_Viruses/Halovirus_HCTV-1.gff3', delimiter ='\\t', comment='#', header=None)\n",
    "\n",
    "HCTV1 = HCTV1.rename(columns = {0:'Accession', 1:'Source', 2:'Type', 3:'Start', 4:'End', 5:'Score', \n",
    "                             6:'Strand', 7:'Phase', 8:'Description'})\n",
    "HCTV1 = HCTV1[HCTV1['Type'] == 'CDS']\n",
    "product_list = [[''.join(y.split('=')[1]) for y in x.split(';') if 'product' in y] for x in HCTV1.Description]\n",
    "HCTV1['Product'] = [''.join(x) for x in product_list]\n",
    "\n",
    "gene_list = [[''.join(y.split('=')[1]) for y in x.split(';') if 'gene=' in y] for x in HCTV1.Description]\n",
    "HCTV1['Gene'] = [''.join(x) for x in gene_list]\n",
    "\n",
    "HCTV1_feature_set = GenomeDiagram.FeatureSet()\n",
    "HCTV1_gd = GenomeDiagram.Diagram('HCTV1')\n",
    "HCTV1_gd_features = HCTV1_gd.new_track(1, greytrack=0, name='', scale_ticks=0.1 ,scale_smalltick_lables=1, scale_smalltick_interval=10000, scale_smallticks=-0.3)\n",
    "HCTV1_gd_features = HCTV1_gd_features.new_set()"
   ]
  },
  {
   "cell_type": "markdown",
   "metadata": {},
   "source": [
    "## HCTV5"
   ]
  },
  {
   "cell_type": "code",
   "execution_count": 97,
   "metadata": {
    "collapsed": false
   },
   "outputs": [],
   "source": [
    "HCTV5 = pd.read_csv(path + '/Halo_Viruses/Halovirus_HCTV-5.gff3', delimiter ='\\t', comment='#', header=None)\n",
    "\n",
    "HCTV5 = HCTV5.rename(columns = {0:'Accession', 1:'Source', 2:'Type', 3:'Start', 4:'End', 5:'Score', \n",
    "                             6:'Strand', 7:'Phase', 8:'Description'})\n",
    "HCTV5 = HCTV5[HCTV5['Type'] == 'CDS']\n",
    "product_list = [[''.join(y.split('=')[1]) for y in x.split(';') if 'product' in y] for x in HCTV5.Description]\n",
    "HCTV5['Product'] = [''.join(x) for x in product_list]\n",
    "\n",
    "gene_list = [[''.join(y.split('=')[1]) for y in x.split(';') if 'gene=' in y] for x in HCTV5.Description]\n",
    "HCTV5['Gene'] = [''.join(x) for x in gene_list]\n",
    "\n",
    "HCTV5_feature_set = GenomeDiagram.FeatureSet()\n",
    "HCTV5_gd = GenomeDiagram.Diagram('HCTV5')\n",
    "HCTV5_gd_features = HCTV5_gd.new_track(1, greytrack=0, name='', scale_ticks=0.1 ,scale_smalltick_lables=1, scale_smalltick_interval=10000, scale_smallticks=-0.3)\n",
    "HCTV5_gd_features = HCTV5_gd_features.new_set()"
   ]
  },
  {
   "cell_type": "markdown",
   "metadata": {},
   "source": [
    "### HRTV5"
   ]
  },
  {
   "cell_type": "code",
   "execution_count": 98,
   "metadata": {
    "collapsed": false
   },
   "outputs": [],
   "source": [
    "HRTV5 = pd.read_csv(path + '/Halo_Viruses/HRTV-5.gff3', delimiter ='\\t', comment='#', header=None)\n",
    "\n",
    "HRTV5 = HRTV5.rename(columns = {0:'Accession', 1:'Source', 2:'Type', 3:'Start', 4:'End', 5:'Score', \n",
    "                             6:'Strand', 7:'Phase', 8:'Description'})\n",
    "HRTV5 = HRTV5[HRTV5['Type'] == 'CDS']\n",
    "product_list = [[''.join(y.split('=')[1]) for y in x.split(';') if 'product' in y] for x in HRTV5.Description]\n",
    "HRTV5['Product'] = [''.join(x) for x in product_list]\n",
    "\n",
    "gene_list = [[''.join(y.split('=')[1]) for y in x.split(';') if 'gene=' in y] for x in HRTV5.Description]\n",
    "HRTV5['Gene'] = [''.join(x) for x in gene_list]\n",
    "\n",
    "HRTV5_feature_set = GenomeDiagram.FeatureSet()\n",
    "HRTV5_gd = GenomeDiagram.Diagram('HRTV5')\n",
    "HRTV5_gd_features = HRTV5_gd.new_track(1, greytrack=0, name='', scale_ticks=0.1 ,scale_smalltick_lables=1, scale_smalltick_interval=10000, scale_smallticks=-0.3)\n",
    "HRTV5_gd_features = HRTV5_gd_features.new_set()"
   ]
  },
  {
   "cell_type": "markdown",
   "metadata": {},
   "source": [
    "### HCTV7"
   ]
  },
  {
   "cell_type": "code",
   "execution_count": 99,
   "metadata": {
    "collapsed": false
   },
   "outputs": [],
   "source": [
    "HRTV7 = pd.read_csv(path + '/Halo_Viruses/HRTV-7.gff3', delimiter ='\\t', comment='#', header=None)\n",
    "\n",
    "HRTV7 = HRTV7.rename(columns = {0:'Accession', 1:'Source', 2:'Type', 3:'Start', 4:'End', 5:'Score', \n",
    "                             6:'Strand', 7:'Phase', 8:'Description'})\n",
    "HRTV7 = HRTV7[HRTV7['Type'] == 'CDS']\n",
    "product_list = [[''.join(y.split('=')[1]) for y in x.split(';') if 'product' in y] for x in HRTV7.Description]\n",
    "HRTV7['Product'] = [''.join(x) for x in product_list]\n",
    "\n",
    "gene_list = [[''.join(y.split('=')[1]) for y in x.split(';') if 'gene=' in y] for x in HRTV7.Description]\n",
    "HRTV7['Gene'] = [''.join(x) for x in gene_list]\n",
    "\n",
    "HRTV7_feature_set = GenomeDiagram.FeatureSet()\n",
    "HRTV7_gd = GenomeDiagram.Diagram('HRTV7')\n",
    "HRTV7_gd_features = HRTV7_gd.new_track(1, greytrack=0, name='', scale_ticks=0.1 ,scale_smalltick_lables=1, scale_smalltick_interval=10000, scale_smallticks=-0.3)\n",
    "HRTV7_gd_features = HRTV7_gd_features.new_set()"
   ]
  },
  {
   "cell_type": "code",
   "execution_count": null,
   "metadata": {
    "collapsed": false
   },
   "outputs": [],
   "source": []
  },
  {
   "cell_type": "code",
   "execution_count": 119,
   "metadata": {
    "collapsed": false
   },
   "outputs": [],
   "source": [
    "##ARROW\n",
    "for index, row in HCTV5.iterrows():\n",
    "        l = len(row)\n",
    "        #print row['Product']\n",
    "        Category = Category_dict[row['Product']]\n",
    "        gene_num = row['Gene']\n",
    "        fr = row['Strand']\n",
    "        if fr == '+':\n",
    "            fr = +1\n",
    "            lb =45\n",
    "        elif fr == '-':\n",
    "            fr = -1\n",
    "            lb = -225\n",
    "        else:\n",
    "            fr = 0\n",
    "        start = int(row['Start'])\n",
    "        end = int(row['End'])\n",
    "        col = Category_color_dict[Category]\n",
    "        feature = SeqFeature(FeatureLocation(start, end), strand=fr)\n",
    "        HCTV5_gd_features.add_feature(feature, label=False, color=col, lable_size=3, label_angle=lb, sigil=\"ARROW\",arrowshaft_height=0.5, \n",
    "                                 tracklines=0, label_position=\"middle\", name=gene_num, arrowhead_length=0.5,)\n",
    "                                \n",
    "        HCTV5_gd.draw(format='circular', circular=True, pagesize=('A4'), start=0, end=103000,  circle_core=0.7)\n",
    "        HCTV5_gd.write(path + '/figuers/HCTV5_circ_arrows_no_labs.pdf','pdf')\n",
    "    "
   ]
  },
  {
   "cell_type": "markdown",
   "metadata": {},
   "source": [
    "## Group A\n",
    "#### contig_156409"
   ]
  },
  {
   "cell_type": "code",
   "execution_count": null,
   "metadata": {
    "collapsed": true
   },
   "outputs": [],
   "source": [
    "contig_156409_annotations = group_A_map_df[group_A_map_df['chr'] == 'contig_156409']"
   ]
  },
  {
   "cell_type": "code",
   "execution_count": null,
   "metadata": {
    "collapsed": true
   },
   "outputs": [],
   "source": [
    "contig_156409_feature_set = GenomeDiagram.FeatureSet()\n",
    "contig_156409_gd = GenomeDiagram.Diagram('contig_156409')\n",
    "contig_156409_gd_features = contig_156409_gd.new_track(1, greytrack=0, name='', scale_ticks=0.1 ,scale_smalltick_lables=1, scale_smalltick_interval=10000, scale_smallticks=-0.3)\n",
    "contig_156409_gd_features = contig_156409_gd_features.new_set()"
   ]
  },
  {
   "cell_type": "code",
   "execution_count": null,
   "metadata": {
    "collapsed": false
   },
   "outputs": [],
   "source": [
    "\n",
    "for index, row in contig_156409_annotations.iterrows():\n",
    "        l = len(row)\n",
    "        Category = Category_dict[row['orf_annotation']]\n",
    "        gene_num = row['name'].split('_')[1]\n",
    "        fr = row['strand']\n",
    "        if fr == '+':\n",
    "            fr = +1\n",
    "            lb =45\n",
    "        elif fr == '-':\n",
    "            fr = -1\n",
    "            lb = -225\n",
    "        else:\n",
    "            fr = 0\n",
    "        start = int(row['start'])\n",
    "        end = int(row['end'])\n",
    "        col = Category_color_dict[Category]\n",
    "        feature = SeqFeature(FeatureLocation(start, end), strand=fr)\n",
    "        contig_156409_gd_features.add_feature(feature, label=True, color=col, lable_size=3, label_angle=lb, sigil=\"ARROW\",arrowshaft_height=0.5, \n",
    "                                 tracklines=0, label_position=\"middle\", name=row['orf_annotation'] + ' ' + gene_num, arrowhead_length=0.5,)\n",
    "                                \n",
    "        contig_156409_gd.draw(format='circular', circular=True, pagesize=('A4'),circle_core=0.7, start=0, end=118409)\n",
    "        contig_156409_gd.write(path + '/figuers/contig_156409_circ_arrows_gene.pdf','pdf')\n",
    "        \n",
    "        "
   ]
  },
  {
   "cell_type": "markdown",
   "metadata": {},
   "source": [
    "#### no lables"
   ]
  },
  {
   "cell_type": "code",
   "execution_count": null,
   "metadata": {
    "collapsed": true
   },
   "outputs": [],
   "source": [
    "contig_156409_feature_set = GenomeDiagram.FeatureSet()\n",
    "contig_156409_gd = GenomeDiagram.Diagram('contig_156409')\n",
    "contig_156409_gd_features = contig_156409_gd.new_track(1, greytrack=0, name='', scale_ticks=0.1 ,scale_smalltick_lables=1, scale_smalltick_interval=10000, scale_smallticks=-0.3)\n",
    "contig_156409_gd_features = contig_156409_gd_features.new_set()"
   ]
  },
  {
   "cell_type": "code",
   "execution_count": null,
   "metadata": {
    "collapsed": true
   },
   "outputs": [],
   "source": [
    "for index, row in contig_156409_annotations.iterrows():\n",
    "        l = len(row)\n",
    "        Category = Category_dict[row['orf_annotation']]\n",
    "        gene_num = row['name'].split('_')[1]\n",
    "        fr = row['strand']\n",
    "        if fr == '+':\n",
    "            fr = +1\n",
    "            lb =45\n",
    "        elif fr == '-':\n",
    "            fr = -1\n",
    "            lb = -225\n",
    "        else:\n",
    "            fr = 0\n",
    "        start = int(row['start'])\n",
    "        end = int(row['end'])\n",
    "        col = Category_color_dict[Category]\n",
    "        feature = SeqFeature(FeatureLocation(start, end), strand=fr)\n",
    "        contig_156409_gd_features.add_feature(feature, label=False, color=col, lable_size=3, label_angle=lb, sigil=\"ARROW\",arrowshaft_height=0.5, \n",
    "                                 tracklines=0, label_position=\"middle\", name=gene_num, arrowhead_length=0.5,)\n",
    "                                \n",
    "        contig_156409_gd.draw(format='circular', circular=True, pagesize=('A4'),circle_core=0.7, start=0, end=118409)\n",
    "        contig_156409_gd.write(path + '/figuers/contig_156409_circ_arrows_no_labs.pdf','pdf')\n",
    "    "
   ]
  },
  {
   "cell_type": "markdown",
   "metadata": {},
   "source": [
    "#### linear zoom"
   ]
  },
  {
   "cell_type": "code",
   "execution_count": null,
   "metadata": {
    "collapsed": true
   },
   "outputs": [],
   "source": [
    "contig_156409_feature_set_repli_zoom = GenomeDiagram.FeatureSet()\n",
    "contig_156409_gd_repli_zoom = GenomeDiagram.Diagram('contig_156409_linear')\n",
    "contig_156409_gd_features_repli_zoom = contig_156409_gd_repli_zoom.new_track(1, greytrack=0, name='', scale_fontsize = 12,\n",
    "        scale_ticks=0.1 ,scale_smalltick_lables=1, scale_smalltick_interval=5000, scale_smallticks=0.1,\n",
    "        scale_smalltick_labels=1, scale_largetick_labels=1)\n",
    "contig_156409_gd_features_repli_zoom = contig_156409_gd_features_repli_zoom.new_set()"
   ]
  },
  {
   "cell_type": "code",
   "execution_count": null,
   "metadata": {
    "collapsed": false
   },
   "outputs": [],
   "source": [
    "for index, row in contig_156409_annotations.iterrows():\n",
    "        e = int(contig_156409_annotations[contig_156409_annotations['name'].str.contains('_38_')]['end'])\n",
    "        s = int(contig_156409_annotations[contig_156409_annotations['name'].str.contains('_16_')]['start'])\n",
    "        gene_num = row['name'].split('_')[1]\n",
    "        if int(gene_num) >= 16 and int(gene_num) <= 38:\n",
    "            \n",
    "            Category = Category_dict[row['orf_annotation'].strip()]\n",
    "            \n",
    "            fr = row['strand']\n",
    "            if fr == '+':\n",
    "                fr = +1\n",
    "                lb =45\n",
    "            elif fr == '-':\n",
    "                fr = -1\n",
    "                lb = -225\n",
    "            else:\n",
    "                fr = 0\n",
    "            start = int(row['start'])\n",
    "            end = int(row['end'])\n",
    "            col = Category_color_dict[Category]\n",
    "            feature = SeqFeature(FeatureLocation(start, end), strand=fr)\n",
    "            contig_156409_gd_features_repli_zoom.add_feature(feature, label=True, color=col, label_angle=lb, sigil=\"ARROW\",arrowshaft_height=0.6, \n",
    "                                 tracklines=0, label_position=\"middle\", name=row['orf_annotation'], arrowhead_length=0.2, lable_size=12)\n",
    "                                \n",
    "            contig_156409_gd_repli_zoom.draw(format='linear', pagesize=(600, 250), fragments=1, start=s, end=e)\n",
    "            contig_156409_gd_repli_zoom.write(path + '/figuers/contig_156409_circ_arrows_repi_zoom2.pdf','pdf')\n",
    "            \n",
    "            \n",
    "  \n",
    "    \n",
    "  "
   ]
  },
  {
   "cell_type": "markdown",
   "metadata": {},
   "source": [
    "## Group A\n",
    "#### SAMEA2621061_122"
   ]
  },
  {
   "cell_type": "code",
   "execution_count": 101,
   "metadata": {
    "collapsed": true
   },
   "outputs": [],
   "source": [
    "SAMEA2621061_122_annotations = group_A_map_df[group_A_map_df['chr'] == 'SAMEA2621061_122']"
   ]
  },
  {
   "cell_type": "code",
   "execution_count": 102,
   "metadata": {
    "collapsed": false
   },
   "outputs": [],
   "source": [
    "SAMEA2621061_122_feature_set = GenomeDiagram.FeatureSet()\n",
    "SAMEA2621061_122_gd = GenomeDiagram.Diagram('SAMEA2621061_122_annotations')\n",
    "SAMEA2621061_122_gd_features = SAMEA2621061_122_gd.new_track(1, greytrack=0, name='', scale_ticks=0.1 ,scale_smalltick_lables=1, scale_smalltick_interval=10000, scale_smallticks=-0.3)\n",
    "SAMEA2621061_122_gd_features = SAMEA2621061_122_gd_features.new_set()"
   ]
  },
  {
   "cell_type": "code",
   "execution_count": 120,
   "metadata": {
    "collapsed": false
   },
   "outputs": [],
   "source": [
    "for index, row in SAMEA2621061_122_annotations.iterrows():\n",
    "        l = len(row)\n",
    "        #print row['orf_annotation']\n",
    "        \n",
    "        Category = Category_dict[row['orf_annotation']]\n",
    "        \n",
    "        gene_num = row['name'].split('_')[1]\n",
    "        fr = row['strand']\n",
    "        if fr == '+':\n",
    "            fr = +1\n",
    "            lb =45\n",
    "        elif fr == '-':\n",
    "            fr = -1\n",
    "            lb = -225\n",
    "        else:\n",
    "            fr = 0\n",
    "        start = int(row['start'])\n",
    "        end = int(row['end'])\n",
    "        col = Category_color_dict[Category]\n",
    "        feature = SeqFeature(FeatureLocation(start, end), strand=fr)\n",
    "        SAMEA2621061_122_gd_features.add_feature(feature, label=True, color=col, lable_size=3, label_angle=lb, sigil=\"ARROW\",arrowshaft_height=0.5, \n",
    "                                 tracklines=0, label_position=\"middle\", name=gene_num, arrowhead_length=0.5,)\n",
    "                                \n",
    "        SAMEA2621061_122_gd.draw(format='circular', circular=True, pagesize=('A4'),circle_core=0.7, start=0, end=106637)\n",
    "        SAMEA2621061_122_gd.write(path + '/figuers/SAMEA2621061_122_circ_arrows.pdf','pdf')\n",
    "        \n",
    "        "
   ]
  },
  {
   "cell_type": "code",
   "execution_count": null,
   "metadata": {
    "collapsed": true
   },
   "outputs": [],
   "source": []
  },
  {
   "cell_type": "code",
   "execution_count": null,
   "metadata": {
    "collapsed": true
   },
   "outputs": [],
   "source": []
  },
  {
   "cell_type": "markdown",
   "metadata": {},
   "source": [
    "## Group B1\n",
    "#### 154592"
   ]
  },
  {
   "cell_type": "code",
   "execution_count": 124,
   "metadata": {
    "collapsed": false
   },
   "outputs": [],
   "source": [
    "contig_154592_annotations = group_B1_map_df[group_B1_map_df['chr'] == 'contig_154592']"
   ]
  },
  {
   "cell_type": "code",
   "execution_count": 125,
   "metadata": {
    "collapsed": true
   },
   "outputs": [],
   "source": [
    "contig_154592_feature_set = GenomeDiagram.FeatureSet()\n",
    "contig_154592_gd = GenomeDiagram.Diagram('contig_154592')\n",
    "contig_154592_gd_features = contig_154592_gd.new_track(1, greytrack=0, name='', scale_ticks=0.1 ,scale_smalltick_lables=1, scale_smalltick_interval=10000, scale_smallticks=-0.3)\n",
    "contig_154592_gd_features = contig_154592_gd_features.new_set()"
   ]
  },
  {
   "cell_type": "code",
   "execution_count": 126,
   "metadata": {
    "collapsed": false
   },
   "outputs": [],
   "source": [
    "for index, row in contig_154592_annotations.iterrows():\n",
    "        l = len(row)\n",
    "        Category = Category_dict[row['orf_annotation'].strip()]\n",
    "        gene_num = row['name'].split('_')[1]\n",
    "        fr = row['strand']\n",
    "        if fr == '+':\n",
    "            fr = +1\n",
    "            lb =45\n",
    "        elif fr == '-':\n",
    "            fr = -1\n",
    "            lb = -225\n",
    "        else:\n",
    "            fr = 0\n",
    "        start = int(row['start'])\n",
    "        end = int(row['end'])\n",
    "        col = Category_color_dict[Category]\n",
    "        feature = SeqFeature(FeatureLocation(start, end), strand=fr)\n",
    "        contig_154592_gd_features.add_feature(feature, label=True, color=col, lable_size=3, label_angle=lb, sigil=\"ARROW\",arrowshaft_height=0.5, \n",
    "                                 tracklines=0, label_position=\"middle\", name=gene_num, arrowhead_length=0.5,)\n",
    "                                \n",
    "        contig_154592_gd.draw(format='circular', circular=True, pagesize=('A4'),circle_core=0.7, start=0, end=96096)\n",
    "        contig_154592_gd.write(path + '/figuers/contig_154592_circ_arrows.pdf','pdf')\n",
    "  "
   ]
  },
  {
   "cell_type": "markdown",
   "metadata": {},
   "source": [
    "#### liner zoom 154592\n"
   ]
  },
  {
   "cell_type": "code",
   "execution_count": 127,
   "metadata": {
    "collapsed": false
   },
   "outputs": [],
   "source": [
    "contig_154592_feature_set_repli_zoom = GenomeDiagram.FeatureSet()\n",
    "contig_154592_gd_repli_zoom = GenomeDiagram.Diagram('contig_154592_linear')\n",
    "contig_154592_gd_features_repli_zoom = contig_154592_gd_repli_zoom.new_track(1, greytrack=0, name='', scale_fontsize = 16,\n",
    "        scale_ticks=0.1 ,scale_smalltick_lables=1, scale_smalltick_interval=5000, scale_smallticks=0.1, \n",
    "        scale_smalltick_labels=1, scale_largetick_labels=1)\n",
    "contig_154592_gd_features_repli_zoom = contig_154592_gd_features_repli_zoom.new_set()"
   ]
  },
  {
   "cell_type": "code",
   "execution_count": 128,
   "metadata": {
    "collapsed": false
   },
   "outputs": [],
   "source": [
    "for index, row in contig_154592_annotations.iterrows():\n",
    "        e = int(contig_154592_annotations[contig_154592_annotations['name'].str.contains('_72_')]['end'])\n",
    "        s = int(contig_154592_annotations[contig_154592_annotations['name'].str.contains('_33_')]['start'])\n",
    "        gene_num = row['name'].split('_')[1]\n",
    "        if int(gene_num) >= 33 and int(gene_num) <= 72:\n",
    "            \n",
    "            Category = Category_dict[row['orf_annotation'].strip()]\n",
    "            \n",
    "            fr = row['strand']\n",
    "            if fr == '+':\n",
    "                fr = +1\n",
    "                lb =45\n",
    "            elif fr == '-':\n",
    "                fr = -1\n",
    "                lb = -225\n",
    "            else:\n",
    "                fr = 0\n",
    "            start = int(row['start'])\n",
    "            end = int(row['end'])\n",
    "            col = Category_color_dict[Category]\n",
    "            feature = SeqFeature(FeatureLocation(start, end), strand=fr)\n",
    "            contig_154592_gd_features_repli_zoom.add_feature(feature, label=True, color=col, label_angle=lb, sigil=\"ARROW\",arrowshaft_height=0.6, \n",
    "                                 tracklines=0, label_position=\"middle\", name=row['orf_annotation'], arrowhead_length=0.2, lable_size=12)\n",
    "                                \n",
    "            contig_154592_gd_repli_zoom.draw(format='linear', pagesize=(600, 250), fragments=1, start=s, end=e)\n",
    "            contig_154592_gd_repli_zoom.write(path + '/figuers/contig_154592_circ_arrows_repi_zoom.pdf','pdf')\n",
    "            \n",
    "         "
   ]
  },
  {
   "cell_type": "markdown",
   "metadata": {},
   "source": [
    "## Group B1\n",
    "### contig_154676"
   ]
  },
  {
   "cell_type": "code",
   "execution_count": 129,
   "metadata": {
    "collapsed": true
   },
   "outputs": [],
   "source": [
    "contig_154676_annotations = group_B1_map_df[group_B1_map_df['chr'] == 'contig_154676']"
   ]
  },
  {
   "cell_type": "code",
   "execution_count": 130,
   "metadata": {
    "collapsed": true
   },
   "outputs": [],
   "source": [
    "contig_154676_feature_set = GenomeDiagram.FeatureSet()\n",
    "contig_154676_gd = GenomeDiagram.Diagram('contig_154676')\n",
    "contig_154676_gd_features = contig_154676_gd.new_track(1, greytrack=0, name='', scale_ticks=0.1 ,scale_smalltick_lables=1, scale_smalltick_interval=10000, scale_smallticks=-0.3)\n",
    "contig_154676_gd_features = contig_154676_gd_features.new_set()"
   ]
  },
  {
   "cell_type": "code",
   "execution_count": 131,
   "metadata": {
    "collapsed": false
   },
   "outputs": [],
   "source": [
    "for index, row in contig_154676_annotations.iterrows():\n",
    "        l = len(row)\n",
    "        Category = Category_dict[row['orf_annotation'].strip()]\n",
    "        gene_num = row['name'].split('_')[1]\n",
    "        fr = row['strand']\n",
    "        if fr == '+':\n",
    "            fr = +1\n",
    "            lb =45\n",
    "        elif fr == '-':\n",
    "            fr = -1\n",
    "            lb = -225\n",
    "        else:\n",
    "            fr = 0\n",
    "        start = int(row['start'])\n",
    "        end = int(row['end'])\n",
    "        col = Category_color_dict[Category]\n",
    "        feature = SeqFeature(FeatureLocation(start, end), strand=fr)\n",
    "        contig_154676_gd_features.add_feature(feature, label=True, color=col, lable_size=3, label_angle=lb, sigil=\"ARROW\",arrowshaft_height=0.5, \n",
    "                                 tracklines=0, label_position=\"middle\", name=gene_num, arrowhead_length=0.5,)\n",
    "                                \n",
    "        contig_154676_gd.draw(format='circular', circular=True, pagesize=('A4'),circle_core=0.7, start=0, end=53712\n",
    ")\n",
    "        contig_154676_gd.write(path + '/figuers/contig_154676_circ_arrows.pdf','pdf')\n",
    "  "
   ]
  },
  {
   "cell_type": "markdown",
   "metadata": {},
   "source": [
    "#### liner zoom contig_154676"
   ]
  },
  {
   "cell_type": "code",
   "execution_count": 132,
   "metadata": {
    "collapsed": true
   },
   "outputs": [],
   "source": [
    "contig_154676_feature_set_repli_zoom = GenomeDiagram.FeatureSet()\n",
    "contig_154676_gd_repli_zoom = GenomeDiagram.Diagram('contig_154676_linear')\n",
    "contig_154676_gd_features_repli_zoom = contig_154676_gd_repli_zoom.new_track(1, greytrack=0, name='', scale_fontsize = 16,\n",
    "        scale_ticks=0.1 ,scale_smalltick_lables=1, scale_smalltick_interval=5000, scale_smallticks=0.1, \n",
    "        scale_smalltick_labels=1, scale_largetick_labels=1)\n",
    "contig_154676_gd_features_repli_zoom = contig_154676_gd_features_repli_zoom.new_set()"
   ]
  },
  {
   "cell_type": "code",
   "execution_count": 133,
   "metadata": {
    "collapsed": false
   },
   "outputs": [],
   "source": [
    "for index, row in contig_154676_annotations.iterrows():\n",
    "        e = int(contig_154676_annotations[contig_154676_annotations['name'].str.contains('_33_')]['end'])\n",
    "        s = int(contig_154676_annotations[contig_154676_annotations['name'].str.contains('_71_')]['start'])\n",
    "        gene_num = row['name'].split('_')[1]\n",
    "        if int(gene_num) >= 33 and int(gene_num) <= 71:\n",
    "            \n",
    "            Category = Category_dict[row['orf_annotation'].strip()]\n",
    "            \n",
    "            fr = row['strand']\n",
    "            if fr == '+':\n",
    "                fr = +1\n",
    "                lb =45\n",
    "            elif fr == '-':\n",
    "                fr = -1\n",
    "                lb = -225\n",
    "            else:\n",
    "                fr = 0\n",
    "            start = int(row['start'])\n",
    "            end = int(row['end'])\n",
    "            col = Category_color_dict[Category]\n",
    "            feature = SeqFeature(FeatureLocation(start, end), strand=fr)\n",
    "            contig_154676_gd_features_repli_zoom .add_feature(feature, label=True, color=col, lable_size=3, label_angle=lb, sigil=\"ARROW\",arrowshaft_height=0.6, \n",
    "                                 tracklines=0, label_position=\"middle\", name=gene_num, arrowhead_length=0.2)\n",
    "                                \n",
    "            contig_154676_gd_repli_zoom.draw(format='linear', pagesize=(2500, 1000), fragments=1, start=s, end=e)\n",
    "            contig_154676_gd_repli_zoom.write(path + '/figuers/contig_154676_circ_arrows_repi_zoom2.pdf','pdf')\n",
    "  "
   ]
  },
  {
   "cell_type": "markdown",
   "metadata": {},
   "source": [
    "## Group B1\n",
    "#### 154680"
   ]
  },
  {
   "cell_type": "code",
   "execution_count": 134,
   "metadata": {
    "collapsed": true
   },
   "outputs": [],
   "source": [
    "contig_154680_annotations = group_B1_map_df[group_B1_map_df['chr'] == 'contig_154680']"
   ]
  },
  {
   "cell_type": "code",
   "execution_count": 135,
   "metadata": {
    "collapsed": true
   },
   "outputs": [],
   "source": [
    "contig_154680_feature_set = GenomeDiagram.FeatureSet()\n",
    "contig_154680_gd = GenomeDiagram.Diagram('contig_154680')\n",
    "contig_154680_gd_features = contig_154680_gd.new_track(1, greytrack=0, name='', scale_ticks=0.1 ,scale_smalltick_lables=1, scale_smalltick_interval=10000, scale_smallticks=-0.3)\n",
    "contig_154680_gd_features = contig_154680_gd_features.new_set()"
   ]
  },
  {
   "cell_type": "code",
   "execution_count": 136,
   "metadata": {
    "collapsed": false
   },
   "outputs": [],
   "source": [
    "for index, row in contig_154680_annotations.iterrows():\n",
    "        l = len(row)\n",
    "        Category = Category_dict[row['orf_annotation'].strip()]\n",
    "        gene_num = row['name'].split('_')[1]\n",
    "        fr = row['strand']\n",
    "        if fr == '+':\n",
    "            fr = +1\n",
    "            lb =45\n",
    "        elif fr == '-':\n",
    "            fr = -1\n",
    "            lb = -225\n",
    "        else:\n",
    "            fr = 0\n",
    "        start = int(row['start'])\n",
    "        end = int(row['end'])\n",
    "        col = Category_color_dict[Category]\n",
    "        feature = SeqFeature(FeatureLocation(start, end), strand=fr)\n",
    "        contig_154680_gd_features.add_feature(feature, label=True, color=col, lable_size=3, label_angle=lb, sigil=\"ARROW\",arrowshaft_height=0.5, \n",
    "                                 tracklines=0, label_position=\"middle\", name=gene_num, arrowhead_length=0.5,)\n",
    "                                \n",
    "        contig_154680_gd.draw(format='circular', circular=True, pagesize=('A4'),circle_core=0.7, start=0, end=53712\n",
    ")\n",
    "        contig_154680_gd.write(path + '/figuers/contig_154680_circ_arrows.pdf','pdf')\n",
    "  "
   ]
  },
  {
   "cell_type": "markdown",
   "metadata": {},
   "source": [
    "## Group B1\n",
    "#### 871648617"
   ]
  },
  {
   "cell_type": "code",
   "execution_count": 138,
   "metadata": {
    "collapsed": false
   },
   "outputs": [],
   "source": [
    "complete_871648617_annotations = group_B1_map_df[group_B1_map_df['chr'] == '871648617_complete']"
   ]
  },
  {
   "cell_type": "code",
   "execution_count": 139,
   "metadata": {
    "collapsed": true
   },
   "outputs": [],
   "source": [
    "complete_871648617_feature_set = GenomeDiagram.FeatureSet()\n",
    "complete_871648617_gd = GenomeDiagram.Diagram('complete_871648617')\n",
    "complete_871648617_gd_features = complete_871648617_gd.new_track(1, greytrack=0, name='', scale_ticks=0.1 ,scale_smalltick_lables=1, scale_smalltick_interval=10000, scale_smallticks=-0.3)\n",
    "complete_871648617_gd_features = complete_871648617_gd_features.new_set()"
   ]
  },
  {
   "cell_type": "code",
   "execution_count": 140,
   "metadata": {
    "collapsed": false
   },
   "outputs": [],
   "source": [
    "for index, row in complete_871648617_annotations.iterrows():\n",
    "        l = len(row)\n",
    "        Category = Category_dict[row['orf_annotation'].strip()]\n",
    "        gene_num = row['name'].split('_')[1]\n",
    "        fr = row['strand']\n",
    "        #print Category\n",
    "        if fr == '+':\n",
    "            fr = +1\n",
    "            lb =45\n",
    "        elif fr == '-':\n",
    "            fr = -1\n",
    "            lb = -225\n",
    "        else:\n",
    "            fr = 0\n",
    "        start = int(row['start'])\n",
    "        end = int(row['end'])\n",
    "        col = Category_color_dict[Category]\n",
    "        feature = SeqFeature(FeatureLocation(start, end), strand=fr)\n",
    "        complete_871648617_gd_features.add_feature(feature, label=True, color=col, lable_size=3, label_angle=lb, sigil=\"ARROW\",arrowshaft_height=0.5, \n",
    "                                 tracklines=0, label_position=\"middle\", name=gene_num, arrowhead_length=0.5)\n",
    "                                \n",
    "        complete_871648617_gd.draw(format='circular', circular=True, pagesize=('A4'),circle_core=0.7, start=0, end=100277)\n",
    "        complete_871648617_gd.write(path + '/figuers/complete_871648617_circ_arrows.pdf','pdf')\n",
    "  "
   ]
  },
  {
   "cell_type": "code",
   "execution_count": 928,
   "metadata": {
    "collapsed": false
   },
   "outputs": [],
   "source": [
    "#complete_871648617_annotations"
   ]
  },
  {
   "cell_type": "markdown",
   "metadata": {},
   "source": [
    "## Group B2\n",
    "#### contig_155773"
   ]
  },
  {
   "cell_type": "code",
   "execution_count": 141,
   "metadata": {
    "collapsed": true
   },
   "outputs": [],
   "source": [
    "contig_155773_annotations = group_B2_map_df[group_B2_map_df['chr'] == 'contig_155773']"
   ]
  },
  {
   "cell_type": "code",
   "execution_count": 142,
   "metadata": {
    "collapsed": true
   },
   "outputs": [],
   "source": [
    "contig_155773_feature_set = GenomeDiagram.FeatureSet()\n",
    "contig_155773_gd = GenomeDiagram.Diagram('contig_155773')\n",
    "contig_155773_gd_features = contig_155773_gd.new_track(1, greytrack=0, name='', scale_ticks=0.1 ,scale_smalltick_lables=1, scale_smalltick_interval=10000, scale_smallticks=-0.3)\n",
    "contig_155773_gd_features = contig_155773_gd_features.new_set()"
   ]
  },
  {
   "cell_type": "code",
   "execution_count": 143,
   "metadata": {
    "collapsed": false
   },
   "outputs": [],
   "source": [
    "for index, row in contig_155773_annotations.iterrows():\n",
    "        l = len(row)\n",
    "        Category = Category_dict[row['orf_annotation'].strip()]\n",
    "        gene_num = row['name'].split('_')[1]\n",
    "        fr = row['strand']\n",
    "        if fr == '+':\n",
    "            fr = +1\n",
    "            lb =45\n",
    "        elif fr == '-':\n",
    "            fr = -1\n",
    "            lb = -225\n",
    "        else:\n",
    "            fr = 0\n",
    "        start = int(row['start'])\n",
    "        end = int(row['end'])\n",
    "        col = Category_color_dict[Category]\n",
    "        feature = SeqFeature(FeatureLocation(start, end), strand=fr)\n",
    "        contig_155773_gd_features.add_feature(feature, label=True, color=col, lable_size=3, label_angle=lb, sigil=\"ARROW\",arrowshaft_height=0.5, \n",
    "                                 tracklines=0, label_position=\"middle\", name=gene_num, arrowhead_length=0.5,)\n",
    "                                \n",
    "        contig_155773_gd.draw(format='circular', circular=True, pagesize=('A4'),circle_core=0.7, start=0, end=85000\n",
    ")\n",
    "        contig_155773_gd.write(path + '/figuers/contig_155773_circ_arrows.pdf','pdf')\n",
    "  "
   ]
  },
  {
   "cell_type": "markdown",
   "metadata": {},
   "source": [
    "#### liner zoom contig_contig_155773"
   ]
  },
  {
   "cell_type": "code",
   "execution_count": 144,
   "metadata": {
    "collapsed": true
   },
   "outputs": [],
   "source": [
    "contig_155773_feature_set_repli_zoom = GenomeDiagram.FeatureSet()\n",
    "contig_155773_gd_repli_zoom = GenomeDiagram.Diagram('contig_155773_linear')\n",
    "contig_155773_gd_features_repli_zoom = contig_155773_gd_repli_zoom.new_track(1, greytrack=0, name='', scale_fontsize = 12,\n",
    "        scale_ticks=0.1 ,scale_smalltick_lables=1, scale_smalltick_interval=5000, scale_smallticks=0.1, \n",
    "        scale_smalltick_labels=1, scale_largetick_labels=1)\n",
    "contig_155773_gd_features_repli_zoom = contig_155773_gd_features_repli_zoom.new_set()"
   ]
  },
  {
   "cell_type": "code",
   "execution_count": 145,
   "metadata": {
    "collapsed": false
   },
   "outputs": [],
   "source": [
    "for index, row in contig_155773_annotations.iterrows():\n",
    "        e = int(contig_155773_annotations[contig_155773_annotations['name'].str.contains('_36_')]['end'])\n",
    "        s = int(contig_155773_annotations[contig_155773_annotations['name'].str.contains('_59_')]['start'])\n",
    "        gene_num = row['name'].split('_')[1]\n",
    "        if int(gene_num) >= 36 and int(gene_num) <= 59:\n",
    "            \n",
    "            Category = Category_dict[row['orf_annotation'].strip()]\n",
    "            \n",
    "            fr = row['strand']\n",
    "            if fr == '+':\n",
    "                fr = +1\n",
    "                lb =45\n",
    "            elif fr == '-':\n",
    "                fr = -1\n",
    "                lb = -225\n",
    "            else:\n",
    "                fr = 0\n",
    "            start = int(row['start'])\n",
    "            end = int(row['end'])\n",
    "            col = Category_color_dict[Category]\n",
    "            feature = SeqFeature(FeatureLocation(start, end), strand=fr)\n",
    "            contig_155773_gd_features_repli_zoom.add_feature(feature, label=True, color=col, label_angle=lb, sigil=\"ARROW\",arrowshaft_height=0.6, \n",
    "                                 tracklines=0, label_position=\"middle\", name=row['orf_annotation'], arrowhead_length=0.2, lable_size=12)\n",
    "                                \n",
    "            contig_155773_gd_repli_zoom.draw(format='linear', pagesize=((600.0*0.7), (250*0.7)), fragments=1, start=s, end=e)\n",
    "            contig_155773_gd_repli_zoom.write(path + '/figuers/contig_155773_circ_arrows_repi_zoom2.pdf','pdf')\n",
    "            \n",
    "            \n",
    "            \n",
    "  "
   ]
  },
  {
   "cell_type": "markdown",
   "metadata": {},
   "source": [
    "## Group B2\n",
    "##### SAMEA2620879_23"
   ]
  },
  {
   "cell_type": "code",
   "execution_count": 146,
   "metadata": {
    "collapsed": true
   },
   "outputs": [],
   "source": [
    "SAMEA2620879_23_annotations = group_B2_map_df[group_B2_map_df['chr'] == 'SAMEA2620879_23']"
   ]
  },
  {
   "cell_type": "code",
   "execution_count": 147,
   "metadata": {
    "collapsed": true
   },
   "outputs": [],
   "source": [
    "SAMEA2620879_23_feature_set = GenomeDiagram.FeatureSet()\n",
    "SAMEA2620879_23_gd = GenomeDiagram.Diagram('SAMEA2620879_23')\n",
    "SAMEA2620879_23_gd_features = SAMEA2620879_23_gd.new_track(1, greytrack=0, name='', scale_ticks=0.1 ,scale_smalltick_lables=1, scale_smalltick_interval=10000, scale_smallticks=-0.3)\n",
    "SAMEA2620879_23_gd_features = SAMEA2620879_23_gd_features.new_set()"
   ]
  },
  {
   "cell_type": "code",
   "execution_count": 148,
   "metadata": {
    "collapsed": false
   },
   "outputs": [],
   "source": [
    "for index, row in SAMEA2620879_23_annotations.iterrows():\n",
    "        l = len(row)\n",
    "        Category = Category_dict[row['orf_annotation'].strip()]\n",
    "        gene_num = row['name'].split('_')[1]\n",
    "        fr = row['strand']\n",
    "        if fr == '+':\n",
    "            fr = +1\n",
    "            lb =45\n",
    "        elif fr == '-':\n",
    "            fr = -1\n",
    "            lb = -225\n",
    "        else:\n",
    "            fr = 0\n",
    "        start = int(row['start'])\n",
    "        end = int(row['end'])\n",
    "        col = Category_color_dict[Category]\n",
    "        feature = SeqFeature(FeatureLocation(start, end), strand=fr)\n",
    "        SAMEA2620879_23_gd_features.add_feature(feature, label=True, color=col, lable_size=3, label_angle=lb, sigil=\"ARROW\",arrowshaft_height=0.5, \n",
    "                                 tracklines=0, label_position=\"middle\", name=gene_num, arrowhead_length=0.5,)\n",
    "                                \n",
    "        SAMEA2620879_23_gd.draw(format='circular', circular=True, pagesize=('A4'),circle_core=0.7, start=0, end=93879\n",
    ")\n",
    "        SAMEA2620879_23_gd.write(path + '/figuers/SAMEA2620879_23_circ_arrows.pdf','pdf')\n",
    "  "
   ]
  },
  {
   "cell_type": "code",
   "execution_count": 149,
   "metadata": {
    "collapsed": false
   },
   "outputs": [
    {
     "data": {
      "text/plain": [
       "array(['contig_155773', 'SAMEA2620879_23', 'SAMEA2620078_38',\n",
       "       'SAMEA2621151_104_ext'], dtype=object)"
      ]
     },
     "execution_count": 149,
     "metadata": {},
     "output_type": "execute_result"
    }
   ],
   "source": [
    "group_B2_map_df.chr.unique()"
   ]
  },
  {
   "cell_type": "markdown",
   "metadata": {},
   "source": [
    "## Group C\n",
    "##### contig_155057"
   ]
  },
  {
   "cell_type": "code",
   "execution_count": 150,
   "metadata": {
    "collapsed": false
   },
   "outputs": [],
   "source": [
    "contig_155057_annotations = group_C_map_df[group_C_map_df['chr'] == 'contig_155057']"
   ]
  },
  {
   "cell_type": "code",
   "execution_count": 151,
   "metadata": {
    "collapsed": false
   },
   "outputs": [],
   "source": [
    "contig_155057_feature_set = GenomeDiagram.FeatureSet()\n",
    "contig_155057_gd = GenomeDiagram.Diagram('contig_155057')\n",
    "contig_155057_gd_features = contig_155057_gd.new_track(1, greytrack=0, name='', scale_ticks=0.1 ,scale_smalltick_lables=1, scale_smalltick_interval=10000, scale_smallticks=-0.3)\n",
    "contig_155057_gd_features = contig_155057_gd_features.new_set()"
   ]
  },
  {
   "cell_type": "code",
   "execution_count": 152,
   "metadata": {
    "collapsed": false
   },
   "outputs": [],
   "source": [
    "for index, row in contig_155057_annotations.iterrows():\n",
    "        l = len(row)\n",
    "        Category = Category_dict[row['orf_annotation'].strip()]\n",
    "        gene_num = row['name'].split('_')[1]\n",
    "        fr = row['strand']\n",
    "        if fr == '+':\n",
    "            fr = +1\n",
    "            lb =45\n",
    "        elif fr == '-':\n",
    "            fr = -1\n",
    "            lb = -225\n",
    "        else:\n",
    "            fr = 0\n",
    "        start = int(row['start'])\n",
    "        end = int(row['end'])\n",
    "        col = Category_color_dict[Category]\n",
    "        feature = SeqFeature(FeatureLocation(start, end), strand=fr)\n",
    "        contig_155057_gd_features.add_feature(feature, label=True, color=col, lable_size=3, label_angle=lb, sigil=\"ARROW\",arrowshaft_height=0.5, \n",
    "                                 tracklines=0, label_position=\"middle\", name=gene_num, arrowhead_length=0.5,)\n",
    "                                \n",
    "        contig_155057_gd.draw(format='circular', circular=True, pagesize=('A4'),circle_core=0.7, start=0, end=95089\n",
    ")\n",
    "        contig_155057_gd.write(path + '/figuers/contig_155057_circ_arrows.pdf','pdf')\n",
    "  "
   ]
  },
  {
   "cell_type": "code",
   "execution_count": 153,
   "metadata": {
    "collapsed": false
   },
   "outputs": [],
   "source": [
    "#contig_155057_annotations"
   ]
  },
  {
   "cell_type": "markdown",
   "metadata": {},
   "source": [
    "#### liner zoom contig_contig_155057\n"
   ]
  },
  {
   "cell_type": "code",
   "execution_count": 154,
   "metadata": {
    "collapsed": false
   },
   "outputs": [],
   "source": [
    "contig_155057_feature_set_repli_zoom = GenomeDiagram.FeatureSet()\n",
    "contig_155057_gd_repli_zoom = GenomeDiagram.Diagram('contig_155057_linear')\n",
    "contig_155057_gd_features_repli_zoom = contig_155057_gd_repli_zoom.new_track(1, greytrack=0, name='', scale_fontsize = 12,\n",
    "        scale_ticks=0.1 ,scale_smalltick_lables=1, scale_smalltick_interval=5000, scale_smallticks=0.1,\n",
    "        scale_smalltick_labels=1, scale_largetick_labels=1)\n",
    "contig_155057_gd_features_repli_zoom = contig_155057_gd_features_repli_zoom.new_set()"
   ]
  },
  {
   "cell_type": "code",
   "execution_count": 155,
   "metadata": {
    "collapsed": false
   },
   "outputs": [],
   "source": [
    "for index, row in contig_155057_annotations.iterrows():\n",
    "        e = int(contig_155057_annotations[contig_155057_annotations['name'].str.contains('_22_')]['end'])\n",
    "        s = int(contig_155057_annotations[contig_155057_annotations['name'].str.contains('_6_')]['start'])\n",
    "        gene_num = row['name'].split('_')[1]\n",
    "        if int(gene_num) >= 6 and int(gene_num) <= 22:\n",
    "            \n",
    "            Category = Category_dict[row['orf_annotation'].strip()]\n",
    "            \n",
    "            fr = row['strand']\n",
    "            if fr == '+':\n",
    "                fr = +1\n",
    "                lb =45\n",
    "            elif fr == '-':\n",
    "                fr = -1\n",
    "                lb = -225\n",
    "            else:\n",
    "                fr = 0\n",
    "            start = int(row['start'])\n",
    "            end = int(row['end'])\n",
    "            col = Category_color_dict[Category]\n",
    "            feature = SeqFeature(FeatureLocation(start, end), strand=fr)\n",
    "            if Category != 'hypothetical protein':\n",
    "            \n",
    "                contig_155057_gd_features_repli_zoom.add_feature(feature, label=True, color=col, label_angle=lb, sigil=\"ARROW\",arrowshaft_height=0.6, \n",
    "                                 tracklines=0, label_position=\"middle\", name=row['orf_annotation'], arrowhead_length=0.2, lable_size=12)\n",
    "            else:\n",
    "                contig_155057_gd_features_repli_zoom.add_feature(feature, label=False, color=col, label_angle=lb, sigil=\"ARROW\",arrowshaft_height=0.6, \n",
    "                                 tracklines=0, label_position=\"middle\", name=row['orf_annotation'], arrowhead_length=0.2, lable_size=12)\n",
    "                                \n",
    "            contig_155057_gd_repli_zoom.draw(format='linear', pagesize=((600.0*0.52), (250.0*0.52)), fragments=1, start=s, end=e)\n",
    "            contig_155057_gd_repli_zoom.write(path + '/figuers/contig_155057_circ_arrows_repi_zoom2.pdf','pdf')\n",
    "            \n",
    "         "
   ]
  },
  {
   "cell_type": "markdown",
   "metadata": {},
   "source": [
    "## Group C\n",
    "##### contig_172037"
   ]
  },
  {
   "cell_type": "code",
   "execution_count": 156,
   "metadata": {
    "collapsed": true
   },
   "outputs": [],
   "source": [
    "contig_172037_annotations = group_C_map_df[group_C_map_df['chr'] == 'contig_172037']"
   ]
  },
  {
   "cell_type": "code",
   "execution_count": 157,
   "metadata": {
    "collapsed": true
   },
   "outputs": [],
   "source": [
    "contig_172037_feature_set = GenomeDiagram.FeatureSet()\n",
    "contig_172037_gd = GenomeDiagram.Diagram('contig_172037')\n",
    "contig_172037_gd_features = contig_172037_gd.new_track(1, greytrack=0, name='', scale_ticks=0.1 ,scale_smalltick_lables=1, scale_smalltick_interval=10000, scale_smallticks=-0.3)\n",
    "contig_172037_gd_features = contig_172037_gd_features.new_set()"
   ]
  },
  {
   "cell_type": "code",
   "execution_count": 158,
   "metadata": {
    "collapsed": false
   },
   "outputs": [],
   "source": [
    "for index, row in contig_172037_annotations.iterrows():\n",
    "        l = len(row)\n",
    "        Category = Category_dict[row['orf_annotation'].strip()]\n",
    "        gene_num = row['name'].split('_')[1]\n",
    "        fr = row['strand']\n",
    "        if fr == '+':\n",
    "            fr = +1\n",
    "            lb =45\n",
    "        elif fr == '-':\n",
    "            fr = -1\n",
    "            lb = -225\n",
    "        else:\n",
    "            fr = 0\n",
    "        start = int(row['start'])\n",
    "        end = int(row['end'])\n",
    "        col = Category_color_dict[Category]\n",
    "        feature = SeqFeature(FeatureLocation(start, end), strand=fr)\n",
    "        contig_172037_gd_features.add_feature(feature, label=True, color=col, lable_size=3, label_angle=lb, sigil=\"ARROW\",arrowshaft_height=0.5, \n",
    "                                 tracklines=0, label_position=\"middle\", name=gene_num, arrowhead_length=0.5,)\n",
    "                                \n",
    "        contig_172037_gd.draw(format='circular', circular=True, pagesize=('A4'),circle_core=0.7, start=0, end=61133\n",
    ")\n",
    "        contig_172037_gd.write(path + '/figuers/contig_172037_circ_arrows.pdf','pdf')\n",
    "  "
   ]
  },
  {
   "cell_type": "code",
   "execution_count": null,
   "metadata": {
    "collapsed": true
   },
   "outputs": [],
   "source": []
  },
  {
   "cell_type": "markdown",
   "metadata": {},
   "source": [
    "## all linear zoom"
   ]
  },
  {
   "cell_type": "code",
   "execution_count": 159,
   "metadata": {
    "collapsed": false
   },
   "outputs": [
    {
     "data": {
      "text/plain": [
       "46"
      ]
     },
     "execution_count": 159,
     "metadata": {},
     "output_type": "execute_result"
    }
   ],
   "source": [
    "repli_set = set()\n",
    "for k,v in Category_dict.iteritems():\n",
    "    if v == 'Replication, recombination and repair':\n",
    "        repli_set.add(k)\n",
    "len(repli_set)"
   ]
  },
  {
   "cell_type": "code",
   "execution_count": 160,
   "metadata": {
    "collapsed": false
   },
   "outputs": [],
   "source": [
    "#repli_set"
   ]
  },
  {
   "cell_type": "code",
   "execution_count": 161,
   "metadata": {
    "collapsed": false
   },
   "outputs": [
    {
     "data": {
      "text/plain": [
       "24"
      ]
     },
     "execution_count": 161,
     "metadata": {},
     "output_type": "execute_result"
    }
   ],
   "source": [
    "struct_set = set()\n",
    "for k,v in Category_dict.iteritems():\n",
    "    if v == 'Structural protein':\n",
    "        struct_set.add(k)\n",
    "len(struct_set)"
   ]
  },
  {
   "cell_type": "code",
   "execution_count": 162,
   "metadata": {
    "collapsed": false
   },
   "outputs": [],
   "source": [
    "#struct_set"
   ]
  },
  {
   "cell_type": "code",
   "execution_count": 163,
   "metadata": {
    "collapsed": false
   },
   "outputs": [
    {
     "data": {
      "image/png": "[encoded data removed]",
      "text/plain": [
       "<matplotlib.figure.Figure at 0x1161af110>"
      ]
     },
     "metadata": {},
     "output_type": "display_data"
    }
   ],
   "source": [
    "\n",
    "pal_reds = (sns.color_palette(\"YlOrRd\", n_colors=46))\n",
    "#pal.as_hex()\n",
    "sns.palplot(pal_reds)"
   ]
  },
  {
   "cell_type": "code",
   "execution_count": 164,
   "metadata": {
    "collapsed": false
   },
   "outputs": [
    {
     "data": {
      "image/png": "[encoded data removed]",
      "text/plain": [
       "<matplotlib.figure.Figure at 0x116f31cd0>"
      ]
     },
     "metadata": {},
     "output_type": "display_data"
    }
   ],
   "source": [
    "\n",
    "pal_blues = (sns.color_palette(\"Blues\", n_colors=24))\n",
    "#pal.as_hex()\n",
    "sns.palplot(pal_blues, )"
   ]
  },
  {
   "cell_type": "code",
   "execution_count": 165,
   "metadata": {
    "collapsed": false
   },
   "outputs": [],
   "source": [
    "#pal_reds = pal_reds.as_hex().reverse()"
   ]
  },
  {
   "cell_type": "code",
   "execution_count": 166,
   "metadata": {
    "collapsed": false
   },
   "outputs": [],
   "source": [
    "repli_color_dict = dict(zip(repli_set, pal_reds.as_hex()))\n",
    "struct_color_dict = dict(zip(struct_set, pal_blues.as_hex()))\n",
    "\n"
   ]
  },
  {
   "cell_type": "code",
   "execution_count": 167,
   "metadata": {
    "collapsed": false
   },
   "outputs": [
    {
     "data": {
      "text/plain": [
       "{'ATP dependent DNA ligase',\n",
       " 'ATP-dependent DNA ligase',\n",
       " 'Cas4_I-A_I-B_I-C_I-D_II-B Superfamily, gene24',\n",
       " 'DNA polymerase II small subunit',\n",
       " 'DNA polymerase elongation subunit (family B)',\n",
       " 'DNA polymerase family B',\n",
       " 'DNA polymerase sliding clamp, gene27',\n",
       " 'DNA repair 2C RadA-like protein',\n",
       " 'DNA replicative helicase, gene19',\n",
       " 'DnaJ central domain',\n",
       " \"DnaQ-like 3'-5' exonuclease, gene18\",\n",
       " 'ERCC4-type nuclease',\n",
       " 'ERCC4-type nuclease, gene20',\n",
       " 'HNH domain endonuclease',\n",
       " 'HNH endonuclease',\n",
       " 'HNH protein',\n",
       " 'Hef and HNH endonuclease',\n",
       " 'Hef nuclease',\n",
       " 'LAGLIDADG endonuclease',\n",
       " 'PD-(D/E)XK nuclease',\n",
       " 'Primase AE_Prim_S, gene21',\n",
       " 'Primosomal replication  priC-like protein',\n",
       " 'RNAse HI',\n",
       " 'RNase HI',\n",
       " 'Rad3-related DNA helicase',\n",
       " 'RadA',\n",
       " 'RecB',\n",
       " 'Replication factor C small subunit, gene30',\n",
       " 'Ribonucleotide reductase',\n",
       " 'SNF2 family helicase',\n",
       " 'SNF2 family helicase C-terminal domain',\n",
       " 'SNF2 family helicase N-terminal domain',\n",
       " 'Transcription initiation factor TFIIIB',\n",
       " 'UvrD-like helicase/homing endonuclease',\n",
       " 'UvrD/REP helicase',\n",
       " 'endonuclease',\n",
       " 'integrase',\n",
       " 'putative DNA-binding protein, gene29',\n",
       " 'putative thermostable DNA ligase',\n",
       " 'radB-like recombinase',\n",
       " 'replication factor C large subunit',\n",
       " 'replication factor C small subunit',\n",
       " 'ribonucleoside-triphosphate reductase',\n",
       " 'ribonucleotide reductase',\n",
       " 'ribonucleotide reductase alpha subunit',\n",
       " 'transcription factor TFIIB'}"
      ]
     },
     "execution_count": 167,
     "metadata": {},
     "output_type": "execute_result"
    }
   ],
   "source": [
    "repli_set"
   ]
  },
  {
   "cell_type": "code",
   "execution_count": 168,
   "metadata": {
    "collapsed": false
   },
   "outputs": [],
   "source": [
    "struct_color_dict[' major capsid protein'] = '#0b559f'\n",
    "struct_color_dict['Phage tail assembly chaperone protein'] = '#88b1d4'\n",
    "struct_color_dict['tail assembly chaperone '] =  '#88b1d4'\n",
    "\n",
    "\n",
    "struct_color_dict['portal protein'] =  '#e8e4f0'\n",
    "\n",
    "struct_color_dict['putative phage tail tape measure protein'] =  '#1379b5'\n",
    "struct_color_dict['tape measure'] =  '#1379b5'\n",
    "\n",
    "struct_color_dict['terminase'] = '#08488e'\n",
    "struct_color_dict['baseplate J-like protein'] = '#1764ab'\n"
   ]
  },
  {
   "cell_type": "code",
   "execution_count": 169,
   "metadata": {
    "collapsed": false
   },
   "outputs": [
    {
     "data": {
      "text/plain": [
       "u'#1764ab'"
      ]
     },
     "execution_count": 169,
     "metadata": {},
     "output_type": "execute_result"
    }
   ],
   "source": [
    "struct_color_dict['tail baseplate']"
   ]
  },
  {
   "cell_type": "code",
   "execution_count": 170,
   "metadata": {
    "collapsed": false
   },
   "outputs": [],
   "source": [
    "repli_color_dict['ATP dependent DNA ligase'] = '#db3926'\n",
    "\n",
    "repli_color_dict['endonuclease'] =  '#970026'\n",
    "repli_color_dict['HNH endonuclease'] =  '#970026'\n",
    "repli_color_dict['HNH protein'] =  '#970026'\n",
    "repli_color_dict['Hef and HNH endonuclease'] =  '#970026'\n",
    "repli_color_dict['Hef nuclease'] =  '#970026'\n",
    "repli_color_dict['UvrD-like helicase/homing endonuclease'] =  '#970026'\n",
    "repli_color_dict['LAGLIDADG endonuclease'] =  '#970026'\n",
    "repli_color_dict['UvrD-like helicase/homing endonuclease'] =  '#970026'\n",
    "\n",
    "\n",
    "\n",
    "repli_color_dict['RNase HI']=  '#d7121f'\n",
    "repli_color_dict['ribonucleoside-triphosphate reductase'] =  '#fedb7b'\n",
    "repli_color_dict['ribonucleotide reductase'] =  '#fedb7b'\n",
    "\n",
    "repli_color_dict['DNA polymerase family B']=  '#a20026'\n",
    "repli_color_dict['DNA polymerase elongation subunit (family B)']=  '#a20026'\n",
    "repli_color_dict['DNA polymerase II small subunit']=  '#a20026'\n",
    "\n",
    "repli_color_dict['ERCC4-type nuclease'] = '#fec45f'\n",
    "#',\n",
    " #'ERCC4-type nuclease, gene20"
   ]
  },
  {
   "cell_type": "code",
   "execution_count": 171,
   "metadata": {
    "collapsed": true
   },
   "outputs": [],
   "source": [
    "len_dict = {'contig_156409' : 118409, 'SAMEA2621061_122' : 106637, 'contig_154592' : 96096, 'complete_871648617' : 100277,\n",
    "           'SAMEA2620879_23' : 93879, 'contig_155773' : 85000, 'contig_155057' : 95089, 'contig_172037' : 61133 }"
   ]
  },
  {
   "cell_type": "code",
   "execution_count": 174,
   "metadata": {
    "collapsed": false
   },
   "outputs": [],
   "source": [
    "df_dict = {'contig_156409' : contig_156409_group_A_annotation, 'SAMEA2621061_122' : SAMEA2621061_122_annotations,\n",
    "               'contig_154592' : contig_154592_annotations, 'complete_871648617' : complete_871648617_annotations,\n",
    "               'SAMEA2620879_23' : SAMEA2620879_23_annotations, 'contig_155773' : contig_155773_annotations,\n",
    "               'contig_155057' : contig_155057_annotations, 'contig_172037' : contig_172037_annotations}\n",
    "\n",
    "df_dict_haloviruses = {'HCTV1_1' : HCTV1,  'HCTV1_2' : HCTV1, 'HCTV5_1' : HCTV5,\n",
    "                       'HCTV5_2' : HCTV5, 'HRTV7' : HRTV7, 'HRTV5' : HRTV5, 'HCTV1' : HCTV1, 'HCTV5' : HCTV5}"
   ]
  },
  {
   "cell_type": "code",
   "execution_count": 175,
   "metadata": {
    "collapsed": true
   },
   "outputs": [],
   "source": [
    "coord_dict_replisome = {'contig_156409' : (15, 38), 'SAMEA2621061_122' : (53,74), 'contig_154592' : (33,70),\n",
    "            'complete_871648617' : (90,120),\n",
    "           'SAMEA2620879_23' : (93,123), 'contig_155773' : (36,59), 'contig_155057' : (6,22), 'contig_172037' : (29,48)}\n",
    "\n",
    "coord_dict_struc = {'contig_156409' : (79, 89), 'SAMEA2621061_122' : (24,34), 'contig_154592' : (72,87),\n",
    "            'complete_871648617' : (19,32),\n",
    "           'SAMEA2620879_23' : (17,28), 'contig_155773' : (86,98), 'contig_155057' : (59,81), 'contig_172037' : (6,14)}\n",
    "\n",
    "coord_dict_replisome_haloviruses = {'HCTV1_1' : (26, 38), 'HCTV1_2' : (47,100), 'HCTV5_1' : (22,35),\n",
    "            'HCTV5_2' : (39,98), 'HRTV7' : (39,85), 'HRTV5' : (38,96)} \n",
    "\n",
    "coord_dict_struc_haloviruses = {'HCTV1' : (104, 126),  'HCTV5' : (104,130),'HRTV7' : (7,30), 'HRTV5' : (8,30)}"
   ]
  },
  {
   "cell_type": "markdown",
   "metadata": {},
   "source": [
    "#### plot replisome"
   ]
  },
  {
   "cell_type": "code",
   "execution_count": 176,
   "metadata": {
    "collapsed": false
   },
   "outputs": [],
   "source": [
    "\n",
    "gd_diagram = GenomeDiagram.Diagram('all_replisome_zoom')\n",
    "max_len = 0#max(len_dict.values())\n",
    "\n",
    "\n",
    "\n",
    "for contig, DF in df_dict.iteritems():\n",
    "\n",
    "    \n",
    "    gd_track_for_features = gd_diagram.new_track(1, greytrack=1, name=contig, scale_fontsize = 8,\n",
    "        scale_ticks=0.1 ,scale_smalltick_lables=1, scale_smalltick_interval=5000, scale_smallticks=0.1,\n",
    "        scale_smalltick_labels=1, scale_largetick_labels=0.1)\n",
    "    gd_feature_set = gd_track_for_features.new_set()\n",
    "\n",
    "    ec = coord_dict_replisome[contig][1]\n",
    "    sc = coord_dict_replisome[contig][0]\n",
    "    for index, row in DF.iterrows():\n",
    "        e = int(DF[DF['name'].str.contains('_'+str(ec)+'_')]['end'])\n",
    "        s = int(DF[DF['name'].str.contains('_'+str(sc)+'_')]['start'])\n",
    "        gene_num = row['name'].split('_')[1]\n",
    "        if max_len:\n",
    "            if e > max_len:\n",
    "                mac_len = e\n",
    "        #else:\n",
    "         #   max_len = e\n",
    "        if int(gene_num) >= sc and int(gene_num) <= ec:\n",
    "            \n",
    "            Category = Category_dict[row['orf_annotation'].strip()]\n",
    "            \n",
    "            fr = row['strand']\n",
    "            if fr == '+':\n",
    "                fr = +1\n",
    "                lb =45\n",
    "            elif fr == '-':\n",
    "                fr = -1\n",
    "                lb = -225\n",
    "            else:\n",
    "                fr = 0\n",
    "            start = int(row['start'])\n",
    "            end = int(row['end'])\n",
    "            \n",
    "            feature = SeqFeature(FeatureLocation(end, start), strand=fr)\n",
    "            if Category == 'Replication, recombination and repair':\n",
    "                col = repli_color_dict[row['orf_annotation']]\n",
    "                gd_feature_set.add_feature(feature, label=True, color=col, label_angle=lb, sigil=\"ARROW\",arrowshaft_height=0.6, \n",
    "                                 tracklines=0, label_position=\"middle\", name=row['orf_annotation'], arrowhead_length=0.2, lable_size=12)\n",
    "            elif Category != 'hypothetical protein':\n",
    "                col = Category_color_dict[Category]\n",
    "                gd_feature_set.add_feature(feature, label=True, color=col, label_angle=lb, sigil=\"ARROW\",arrowshaft_height=0.6, \n",
    "                                 tracklines=0, label_position=\"middle\", name=row['orf_annotation'], arrowhead_length=0.2, lable_size=12)\n",
    "                                \n",
    "gd_diagram.draw(format='linear', pagesize='A4', fragments=1)#, start=0, end=max_len)\n",
    "gd_diagram.write(path + '/figuers/all_contigs_replisome_rep_names.pdf','pdf')    \n",
    "    \n",
    "    \n",
    "    \n",
    "   \n",
    "    \n",
    "    \n",
    "    \n",
    "   \n",
    "        \n",
    "  "
   ]
  },
  {
   "cell_type": "markdown",
   "metadata": {},
   "source": [
    "### Plot replisom haloviruses"
   ]
  },
  {
   "cell_type": "code",
   "execution_count": 177,
   "metadata": {
    "collapsed": false
   },
   "outputs": [],
   "source": [
    "\n",
    "gd_diagram = GenomeDiagram.Diagram('all_replisome_zoom_halo')\n",
    "max_len = 0#max(len_dict.values())\n",
    "\n",
    "\n",
    "\n",
    "for contig, DF in df_dict_haloviruses.iteritems():\n",
    "\n",
    "    \n",
    "    gd_track_for_features = gd_diagram.new_track(1, greytrack=1, name=contig, scale_fontsize = 8,\n",
    "        scale_ticks=0.1 ,scale_smalltick_lables=1, scale_smalltick_interval=5000, scale_smallticks=0.1,\n",
    "        scale_smalltick_labels=1, scale_largetick_labels=0.1)\n",
    "    gd_feature_set = gd_track_for_features.new_set()\n",
    "    if contig in coord_dict_replisome_haloviruses:\n",
    "        ec = coord_dict_replisome_haloviruses[contig][1]\n",
    "        sc = coord_dict_replisome_haloviruses[contig][0]\n",
    "        for index, row in DF.iterrows():\n",
    "        #e = int(DF[DF['name'].str.contains('_'+str(ec)+'_')]['end'])\n",
    "        #s = int(DF[DF['name'].str.contains('_'+str(sc)+'_')]['start'])\n",
    "            gene_num = row['Gene']#.split('_')[1]\n",
    "            if max_len:\n",
    "                if e > max_len:\n",
    "                    mac_len = e\n",
    "            #else:\n",
    "             #   max_len = e\n",
    "            if int(gene_num) >= sc and int(gene_num) <= ec:\n",
    "            \n",
    "                Category = Category_dict[row['Product'].strip()]\n",
    "            \n",
    "                fr = row['Strand']\n",
    "                if fr == '+':\n",
    "                    fr = +1\n",
    "                    lb =45\n",
    "                elif fr == '-':\n",
    "                    fr = -1\n",
    "                    lb = -225\n",
    "                else:\n",
    "                    fr = 0\n",
    "                start = int(row['Start'])\n",
    "                end = int(row['End'])\n",
    "            \n",
    "                feature = SeqFeature(FeatureLocation(end, start), strand=fr)\n",
    "                if Category == 'Replication, recombination and repair':\n",
    "                    col = repli_color_dict[row['Product']]\n",
    "                    gd_feature_set.add_feature(feature, label=True, color=col, label_angle=lb, sigil=\"ARROW\",arrowshaft_height=0.6, \n",
    "                            tracklines=0, label_position=\"middle\", name=row['Product'], arrowhead_length=0.2, lable_size=12)\n",
    "                elif Category == 'Structural protein':\n",
    "                    col = struct_color_dict[row['orf_annotation'].strip()]\n",
    "                    gd_feature_set.add_feature(feature, label=True, color=col, label_angle=lb, sigil=\"ARROW\",arrowshaft_height=0.6, \n",
    "                                 tracklines=0, label_position=\"middle\", name=row['Product'], arrowhead_length=0.2, lable_size=12)\n",
    "                elif Category != 'hypothetical protein':\n",
    "                    col = Category_color_dict[Category]\n",
    "                    gd_feature_set.add_feature(feature, label=True, color=col, label_angle=lb, sigil=\"ARROW\",arrowshaft_height=0.6, \n",
    "                                 tracklines=0, label_position=\"middle\", name=row['Product'], arrowhead_length=0.2, lable_size=12)\n",
    "                                \n",
    "gd_diagram.draw(format='linear', pagesize='A4', fragments=1, start=0, end=90000)\n",
    "gd_diagram.write(path + '/figuers/haloviruses_contigs_replisome_rep.pdf','pdf')    \n",
    "    \n",
    "    \n",
    "    \n",
    "   \n",
    "    \n",
    "    \n",
    "    \n",
    "   \n",
    "        \n",
    "  "
   ]
  },
  {
   "cell_type": "markdown",
   "metadata": {},
   "source": [
    "#### strcturals"
   ]
  },
  {
   "cell_type": "code",
   "execution_count": 178,
   "metadata": {
    "collapsed": false
   },
   "outputs": [],
   "source": [
    "\n",
    "gd_diagram = GenomeDiagram.Diagram('all_struct_zoom')\n",
    "max_len = 0#max(len_dict.values())\n",
    "\n",
    "\n",
    "\n",
    "for contig, DF in df_dict.iteritems():\n",
    "\n",
    "    \n",
    "    gd_track_for_features = gd_diagram.new_track(1, greytrack=1, name=contig, scale_fontsize = 8,\n",
    "        scale_ticks=0.1 ,scale_smalltick_lables=1, scale_smalltick_interval=5000, scale_smallticks=0.1,\n",
    "        scale_smalltick_labels=1, scale_largetick_labels=0.1)\n",
    "    gd_feature_set = gd_track_for_features.new_set()\n",
    "\n",
    "    ec = coord_dict_struc[contig][1]\n",
    "    sc = coord_dict_struc[contig][0]\n",
    "    for index, row in DF.iterrows():\n",
    "        e = int(DF[DF['name'].str.contains('_'+str(ec)+'_')]['end'])\n",
    "        s = int(DF[DF['name'].str.contains('_'+str(sc)+'_')]['start'])\n",
    "        gene_num = row['name'].split('_')[1]\n",
    "        if max_len:\n",
    "            if e > max_len:\n",
    "                mac_len = e\n",
    "        #else:\n",
    "         #   max_len = e\n",
    "        if int(gene_num) >= sc and int(gene_num) <= ec:\n",
    "            \n",
    "            Category = Category_dict[row['orf_annotation'].strip()]\n",
    "            \n",
    "            fr = row['strand']\n",
    "            if fr == '+':\n",
    "                fr = +1\n",
    "                lb =45\n",
    "            elif fr == '-':\n",
    "                fr = -1\n",
    "                lb = -225\n",
    "            else:\n",
    "                fr = 0\n",
    "            start = int(row['start'])\n",
    "            end = int(row['end'])\n",
    "            \n",
    "            feature = SeqFeature(FeatureLocation(end, start), strand=fr)\n",
    "            if Category == 'Structural protein':\n",
    "                col = struct_color_dict[row['orf_annotation'].strip()]\n",
    "                gd_feature_set.add_feature(feature, label=True, color=col, label_angle=lb, sigil=\"ARROW\",arrowshaft_height=0.6, \n",
    "                                 tracklines=0, label_position=\"middle\", name=row['orf_annotation'], arrowhead_length=0.2, lable_size=12)\n",
    "            \n",
    "            elif Category == 'Replication, recombination and repair':\n",
    "                    col = repli_color_dict[row['orf_annotation']]\n",
    "                    gd_feature_set.add_feature(feature, label=True, color=col, label_angle=lb, sigil=\"ARROW\",arrowshaft_height=0.6, \n",
    "                                 tracklines=0, label_position=\"middle\", name=row['orf_annotation'], arrowhead_length=0.2, lable_size=12)\n",
    "                \n",
    "                \n",
    "            elif Category != 'hypothetical protein':\n",
    "                col = Category_color_dict[Category]\n",
    "                gd_feature_set.add_feature(feature, label=True, color=col, label_angle=lb, sigil=\"ARROW\",arrowshaft_height=0.6, \n",
    "                                 tracklines=0, label_position=\"middle\", name=row['orf_annotation'], arrowhead_length=0.2, lable_size=12)\n",
    "                                \n",
    "gd_diagram.draw(format='linear', pagesize='A4', fragments=1)#, start=0, end=max_len)\n",
    "gd_diagram.write(path + '/figuers/all_contigs_struct_re.pdf','pdf')    \n",
    "    \n",
    "    \n",
    "    \n",
    "    \n",
    "    \n",
    "    \n",
    "    \n",
    "   \n",
    "        \n",
    "  "
   ]
  },
  {
   "cell_type": "markdown",
   "metadata": {},
   "source": [
    "### Plot struct haloviruses"
   ]
  },
  {
   "cell_type": "code",
   "execution_count": 179,
   "metadata": {
    "collapsed": false
   },
   "outputs": [
    {
     "name": "stdout",
     "output_type": "stream",
     "text": [
      "HCTV1_1\n",
      "HCTV1_2\n",
      "HRTV5\n",
      "HCTV5_1\n",
      "HCTV5_2\n",
      "HCTV5\n",
      "HRTV7\n",
      "HCTV1\n"
     ]
    }
   ],
   "source": [
    "\n",
    "gd_diagram = GenomeDiagram.Diagram('all_struct_zoom_halo')\n",
    "max_len = 0#max(len_dict.values())\n",
    "\n",
    "\n",
    "\n",
    "for contig, DF in df_dict_haloviruses.iteritems():\n",
    "    print contig\n",
    "\n",
    "\n",
    "    if contig in coord_dict_struc_haloviruses.keys():\n",
    "        gd_track_for_features = gd_diagram.new_track(1, greytrack=1, name=contig, scale_fontsize = 8,\n",
    "        scale_ticks=0.1 ,scale_smalltick_lables=1, scale_smalltick_interval=5000, scale_smallticks=0.1,\n",
    "        scale_smalltick_labels=1, scale_largetick_labels=0.1)\n",
    "        gd_feature_set = gd_track_for_features.new_set()\n",
    "\n",
    "        ec = coord_dict_struc_haloviruses[contig][1]\n",
    "        sc = coord_dict_struc_haloviruses[contig][0]\n",
    "        for index, row in DF.iterrows():\n",
    "            #e = int(DF[DF['name'].str.contains('_'+str(ec)+'_')]['end'])\n",
    "            #s = int(DF[DF['name'].str.contains('_'+str(sc)+'_')]['start'])\n",
    "            gene_num = row['Gene']#.split('_')[1]\n",
    "            if max_len:\n",
    "                if e > max_len:\n",
    "                    mac_len = e\n",
    "            #else:\n",
    "             #   max_len = e\n",
    "            if int(gene_num) >= sc and int(gene_num) <= ec:\n",
    "                \n",
    "                Category = Category_dict[row['Product'].strip()]\n",
    "            \n",
    "                fr = row['Strand']\n",
    "                if fr == '+':\n",
    "                    fr = +1\n",
    "                    lb =45\n",
    "                elif fr == '-':\n",
    "                    fr = -1\n",
    "                    lb = -225\n",
    "                else:\n",
    "                    fr = 0\n",
    "                start = int(row['Start'])\n",
    "                end = int(row['End'])\n",
    "            \n",
    "                feature = SeqFeature(FeatureLocation(end, start), strand=fr)\n",
    "                if Category == 'Replication, recombination and repair':\n",
    "                    col = repli_color_dict[row['Product']]\n",
    "                    gd_feature_set.add_feature(feature, label=True, color=col, label_angle=lb, sigil=\"ARROW\",arrowshaft_height=0.6, \n",
    "                                 tracklines=0, label_position=\"middle\", name=row['Product'], arrowhead_length=0.2, lable_size=12)\n",
    "                elif Category == 'Structural protein':\n",
    "                    col = struct_color_dict[row['Product'].strip()]\n",
    "                    gd_feature_set.add_feature(feature, label=True, color=col, label_angle=lb, sigil=\"ARROW\",arrowshaft_height=0.6, \n",
    "                                 tracklines=0, label_position=\"middle\", name=row['Product'], arrowhead_length=0.2, lable_size=12)\n",
    "                elif Category != 'hypothetical protein':\n",
    "                    col = Category_color_dict[Category]\n",
    "                    gd_feature_set.add_feature(feature, label=True, color=col, label_angle=lb, sigil=\"ARROW\",arrowshaft_height=0.6, \n",
    "                                 tracklines=0, label_position=\"middle\", name=row['Product'], arrowhead_length=0.2, lable_size=12)\n",
    "                                \n",
    "gd_diagram.draw(format='linear', pagesize='A4', fragments=1, start=0, end=90000)\n",
    "gd_diagram.write(path + '/figuers/haloviruses_contigs_struct_rep.pdf','pdf')    \n",
    "    \n",
    "    \n",
    "    \n",
    "   \n",
    "    \n",
    "    \n",
    "    \n",
    "   \n",
    "        \n",
    "  "
   ]
  },
  {
   "cell_type": "markdown",
   "metadata": {
    "collapsed": true
   },
   "source": [
    "#### contig_156409 circular new colors"
   ]
  },
  {
   "cell_type": "code",
   "execution_count": 181,
   "metadata": {
    "collapsed": false
   },
   "outputs": [],
   "source": [
    "\n",
    "contig_156409_feature_set = GenomeDiagram.FeatureSet()\n",
    "contig_156409_gd = GenomeDiagram.Diagram('contig_156409')\n",
    "contig_156409_gd_features = contig_156409_gd.new_track(1, greytrack=0, name='contig_156409', scale_ticks=0.1 ,scale_smalltick_lables=1, scale_smalltick_interval=10000, scale_smallticks=-0.3)\n",
    "contig_156409_gd_features = contig_156409_gd_features.new_set()\n",
    "for index, row in contig_156409_group_A_annotation.iterrows():\n",
    "        l = len(row)\n",
    "        Category = Category_dict[row['orf_annotation']]\n",
    "        gene_num = row['name'].split('_')[1]\n",
    "        fr = row['strand']\n",
    "        if fr == '+':\n",
    "            fr = +1\n",
    "            lb =45\n",
    "        elif fr == '-':\n",
    "            fr = -1\n",
    "            lb = -225\n",
    "        else:\n",
    "            fr = 0\n",
    "        start = int(row['start'])\n",
    "        end = int(row['end'])\n",
    "        #col = Category_color_dict[Category]\n",
    "        feature = SeqFeature(FeatureLocation(start, end), strand=fr)\n",
    "        if Category == 'Structural protein':\n",
    "            col = struct_color_dict[row['orf_annotation'].strip()]\n",
    "            contig_156409_gd_features.add_feature(feature, label=False, color=col, lable_size=3, label_angle=lb, sigil=\"ARROW\",arrowshaft_height=0.5, \n",
    "                                 tracklines=0, label_position=\"middle\", name=gene_num, arrowhead_length=0.5,)\n",
    "        \n",
    "        \n",
    "        elif Category == 'Replication, recombination and repair':\n",
    "            col = repli_color_dict[row['orf_annotation'].strip()]\n",
    "            contig_156409_gd_features.add_feature(feature, label=False, color=col, lable_size=3, label_angle=lb, sigil=\"ARROW\",arrowshaft_height=0.5, \n",
    "                                 tracklines=0, label_position=\"middle\", name=gene_num, arrowhead_length=0.5,)\n",
    "            #contig_156409_gd.draw(format='circular', circular=True, pagesize=('A4'),circle_core=0.7, start=0, end=118409)\n",
    "            #contig_156409_gd.write(path + '/figuers/contig_156409_circ_arrows_new_colors.pdf','pdf')\n",
    "        \n",
    "        else:\n",
    "            col = Category_color_dict[Category]\n",
    "            contig_156409_gd_features.add_feature(feature, label=False, color=col, lable_size=3, label_angle=lb, sigil=\"ARROW\",arrowshaft_height=0.5, \n",
    "                                 tracklines=0, label_position=\"middle\", name=gene_num, arrowhead_length=0.5,)\n",
    "            \n",
    "contig_156409_gd.draw(format='circular', circular=True, pagesize=('A4'),circle_core=0.7)#, start=0, end=118409)\n",
    "contig_156409_gd.write(path + '/figuers/contig_156409_circ_arrows_no_labs_new_colors.pdf','pdf')"
   ]
  },
  {
   "cell_type": "markdown",
   "metadata": {},
   "source": [
    "#### complete_871648617 circular new colors"
   ]
  },
  {
   "cell_type": "code",
   "execution_count": 182,
   "metadata": {
    "collapsed": false
   },
   "outputs": [],
   "source": [
    "\n",
    "complete_871648617_feature_set = GenomeDiagram.FeatureSet()\n",
    "complete_871648617_gd = GenomeDiagram.Diagram('complete_871648617')\n",
    "complete_871648617_gd_features = complete_871648617_gd.new_track(1, greytrack=0, name='complete_871648617', scale_ticks=0.1 ,scale_smalltick_lables=1, scale_smalltick_interval=10000, scale_smallticks=-0.3)\n",
    "complete_871648617_gd_features = complete_871648617_gd_features.new_set()\n",
    "for index, row in complete_871648617_annotations.iterrows():\n",
    "        l = len(row)\n",
    "        Category = Category_dict[row['orf_annotation'].strip()]\n",
    "        gene_num = row['name'].split('_')[1]\n",
    "        fr = row['strand']\n",
    "        if fr == '+':\n",
    "            fr = +1\n",
    "            lb =45\n",
    "        elif fr == '-':\n",
    "            fr = -1\n",
    "            lb = -225\n",
    "        else:\n",
    "            fr = 0\n",
    "        start = int(row['start'])\n",
    "        end = int(row['end'])\n",
    "        #col = Category_color_dict[Category]\n",
    "        feature = SeqFeature(FeatureLocation(start, end), strand=fr)\n",
    "        if Category == 'Structural protein':\n",
    "            col = struct_color_dict[row['orf_annotation'].strip()]\n",
    "            complete_871648617_gd_features.add_feature(feature, label=False, color=col, lable_size=3, label_angle=lb, sigil=\"ARROW\",arrowshaft_height=0.5, \n",
    "                                 tracklines=0, label_position=\"middle\", name=gene_num, arrowhead_length=0.5,)\n",
    "        \n",
    "        \n",
    "        elif Category == 'Replication, recombination and repair':\n",
    "            col = repli_color_dict[row['orf_annotation'].strip()]\n",
    "            #print feature\n",
    "            complete_871648617_gd_features.add_feature(feature, label=False, color=col, lable_size=3, label_angle=lb, sigil=\"ARROW\",arrowshaft_height=0.5, \n",
    "                                 tracklines=0, label_position=\"middle\", name=gene_num, arrowhead_length=0.5,)\n",
    "            #contig_156409_gd.draw(format='circular', circular=True, pagesize=('A4'),circle_core=0.7, start=0, end=118409)\n",
    "            #contig_156409_gd.write(path + '/figuers/contig_156409_circ_arrows_new_colors.pdf','pdf')\n",
    "        \n",
    "        else:\n",
    "            col = Category_color_dict[Category]\n",
    "            \n",
    "            complete_871648617_gd_features.add_feature(feature, label=False, color=col, lable_size=3, label_angle=lb, sigil=\"ARROW\",arrowshaft_height=0.5, \n",
    "                                 tracklines=0, label_position=\"middle\", name=gene_num, arrowhead_length=0.5)\n",
    "            \n",
    "complete_871648617_gd.draw(format='circular', circular=True, pagesize=('A4'),circle_core=0.7)#, start=0, end=100277)\n",
    "complete_871648617_gd.write(path + '/figuers/complete_871648617_circ_arrows_no_labs_new_colors.pdf','pdf')"
   ]
  },
  {
   "cell_type": "markdown",
   "metadata": {},
   "source": [
    "### SAMEA2620879_23 circular new colors"
   ]
  },
  {
   "cell_type": "code",
   "execution_count": 183,
   "metadata": {
    "collapsed": false
   },
   "outputs": [],
   "source": [
    "\n",
    "SAMEA2620879_23_feature_set = GenomeDiagram.FeatureSet()\n",
    "SAMEA2620879_23_gd = GenomeDiagram.Diagram('SAMEA2620879_23SAMEA2620879_23')\n",
    "SAMEA2620879_23_gd_features = SAMEA2620879_23_gd.new_track(1, greytrack=0, name='SAMEA2620879_23', scale_ticks=0.1 ,scale_smalltick_lables=1, scale_smalltick_interval=10000, scale_smallticks=-0.3)\n",
    "SAMEA2620879_23_gd_features = SAMEA2620879_23_gd_features.new_set()\n",
    "for index, row in SAMEA2620879_23_annotations.iterrows():\n",
    "        l = len(row)\n",
    "        Category = Category_dict[row['orf_annotation'].strip()]\n",
    "        gene_num = row['name'].split('_')[1]\n",
    "        fr = row['strand']\n",
    "        if fr == '+':\n",
    "            fr = +1\n",
    "            lb =45\n",
    "        elif fr == '-':\n",
    "            fr = -1\n",
    "            lb = -225\n",
    "        else:\n",
    "            fr = 0\n",
    "        start = int(row['start'])\n",
    "        end = int(row['end'])\n",
    "        #col = Category_color_dict[Category]\n",
    "        feature = SeqFeature(FeatureLocation(start, end), strand=fr)\n",
    "        if Category == 'Structural protein':\n",
    "            col = struct_color_dict[row['orf_annotation'].strip()]\n",
    "            SAMEA2620879_23_gd_features.add_feature(feature, label=False, color=col, lable_size=3, label_angle=lb, sigil=\"ARROW\",arrowshaft_height=0.5, \n",
    "                                 tracklines=0, label_position=\"middle\", name=gene_num, arrowhead_length=0.5,)\n",
    "        \n",
    "        \n",
    "        elif Category == 'Replication, recombination and repair':\n",
    "            col = repli_color_dict[row['orf_annotation'].strip()]\n",
    "            #print feature\n",
    "            SAMEA2620879_23_gd_features.add_feature(feature, label=False, color=col, lable_size=3, label_angle=lb, sigil=\"ARROW\",arrowshaft_height=0.5, \n",
    "                                 tracklines=0, label_position=\"middle\", name=gene_num, arrowhead_length=0.5,)\n",
    "            #contig_156409_gd.draw(format='circular', circular=True, pagesize=('A4'),circle_core=0.7, start=0, end=118409)\n",
    "            #contig_156409_gd.write(path + '/figuers/contig_156409_circ_arrows_new_colors.pdf','pdf')\n",
    "        \n",
    "        else:\n",
    "            col = Category_color_dict[Category]\n",
    "            \n",
    "            SAMEA2620879_23_gd_features.add_feature(feature, label=False, color=col, lable_size=3, label_angle=lb, sigil=\"ARROW\",arrowshaft_height=0.5, \n",
    "                                 tracklines=0, label_position=\"middle\", name=gene_num, arrowhead_length=0.5)\n",
    "            \n",
    "SAMEA2620879_23_gd.draw(format='circular', circular=True, pagesize=('A4'),circle_core=0.7)#, start=0, end=100277)\n",
    "SAMEA2620879_23_gd.write(path + '/figuers/SAMEA2620879_23_circ_arrows_no_labs_new_colors.pdf','pdf')"
   ]
  },
  {
   "cell_type": "code",
   "execution_count": null,
   "metadata": {
    "collapsed": true
   },
   "outputs": [],
   "source": []
  },
  {
   "cell_type": "markdown",
   "metadata": {
    "collapsed": true
   },
   "source": [
    "### contig_155057 circular new colors"
   ]
  },
  {
   "cell_type": "code",
   "execution_count": 184,
   "metadata": {
    "collapsed": false
   },
   "outputs": [],
   "source": [
    "\n",
    "contig_155057_feature_set = GenomeDiagram.FeatureSet()\n",
    "contig_155057_gd = GenomeDiagram.Diagram('contig_155057')\n",
    "contig_155057_gd_features = contig_155057_gd.new_track(1, greytrack=0, name='contig_155057', scale_ticks=0.1 ,scale_smalltick_lables=1, scale_smalltick_interval=10000, scale_smallticks=-0.3)\n",
    "contig_155057_gd_features = contig_155057_gd_features.new_set()\n",
    "for index, row in contig_155057_annotations.iterrows():\n",
    "        l = len(row)\n",
    "        Category = Category_dict[row['orf_annotation'].strip()]\n",
    "        gene_num = row['name'].split('_')[1]\n",
    "        fr = row['strand']\n",
    "        if fr == '+':\n",
    "            fr = +1\n",
    "            lb =45\n",
    "        elif fr == '-':\n",
    "            fr = -1\n",
    "            lb = -225\n",
    "        else:\n",
    "            fr = 0\n",
    "        start = int(row['start'])\n",
    "        end = int(row['end'])\n",
    "        #col = Category_color_dict[Category]\n",
    "        feature = SeqFeature(FeatureLocation(start, end), strand=fr)\n",
    "        if Category == 'Structural protein':\n",
    "            col = struct_color_dict[row['orf_annotation'].strip()]\n",
    "            contig_155057_gd_features.add_feature(feature, label=False, color=col, lable_size=3, label_angle=lb, sigil=\"ARROW\",arrowshaft_height=0.5, \n",
    "                                 tracklines=0, label_position=\"middle\", name=gene_num, arrowhead_length=0.5,)\n",
    "        \n",
    "        \n",
    "        elif Category == 'Replication, recombination and repair':\n",
    "            col = repli_color_dict[row['orf_annotation'].strip()]\n",
    "            #print feature\n",
    "            contig_155057_gd_features.add_feature(feature, label=False, color=col, lable_size=3, label_angle=lb, sigil=\"ARROW\",arrowshaft_height=0.5, \n",
    "                                 tracklines=0, label_position=\"middle\", name=gene_num, arrowhead_length=0.5,)\n",
    "            #contig_156409_gd.draw(format='circular', circular=True, pagesize=('A4'),circle_core=0.7, start=0, end=118409)\n",
    "            #contig_156409_gd.write(path + '/figuers/contig_156409_circ_arrows_new_colors.pdf','pdf')\n",
    "        \n",
    "        else:\n",
    "            col = Category_color_dict[Category]\n",
    "            \n",
    "            contig_155057_gd_features.add_feature(feature, label=False, color=col, lable_size=3, label_angle=lb, sigil=\"ARROW\",arrowshaft_height=0.5, \n",
    "                                 tracklines=0, label_position=\"middle\", name=gene_num, arrowhead_length=0.5)\n",
    "            \n",
    "contig_155057_gd.draw(format='circular', circular=True, pagesize=('A4'),circle_core=0.7)#, start=0, end=100277)\n",
    "contig_155057_gd.write(path + '/figuers/contig_155057_circ_arrows_no_labs_new_colors.pdf','pdf')"
   ]
  },
  {
   "cell_type": "markdown",
   "metadata": {
    "collapsed": false
   },
   "source": [
    "### HCTV5 circular new colors "
   ]
  },
  {
   "cell_type": "code",
   "execution_count": 185,
   "metadata": {
    "collapsed": false
   },
   "outputs": [],
   "source": [
    "\n",
    "HCTV5_feature_set = GenomeDiagram.FeatureSet()\n",
    "HCTV5_gd = GenomeDiagram.Diagram('HCTV5')\n",
    "HCTV5_gd_features = HCTV5_gd.new_track(1, greytrack=0, name='HCTV5', scale_ticks=0.1 ,scale_smalltick_lables=1, scale_smalltick_interval=10000, scale_smallticks=-0.3)\n",
    "HCTV5_gd_features = HCTV5_gd_features.new_set()\n",
    "for index, row in HCTV5.iterrows():\n",
    "        l = len(row)\n",
    "        Category = Category_dict[row['Product']]\n",
    "        gene_num = row['Gene']\n",
    "        fr = row['Strand']\n",
    "        if fr == '+':\n",
    "            fr = +1\n",
    "            lb =45\n",
    "        elif fr == '-':\n",
    "            fr = -1\n",
    "            lb = -225\n",
    "        else:\n",
    "            fr = 0\n",
    "        start = int(row['Start'])\n",
    "        end = int(row['End'])\n",
    "\n",
    "        #col = Category_color_dict[Category]\n",
    "        feature = SeqFeature(FeatureLocation(start, end), strand=fr)\n",
    "        if Category == 'Structural protein':\n",
    "            col = struct_color_dict[row['Product'].strip()]\n",
    "            HCTV5_gd_features.add_feature(feature, label=True, color=col, lable_size=3, label_angle=lb, sigil=\"ARROW\",arrowshaft_height=0.5, \n",
    "                                 tracklines=0, label_position=\"middle\", name=row['Product'] + ' ' + gene_num, arrowhead_length=0.5,)\n",
    "        \n",
    "        \n",
    "        elif Category == 'Replication, recombination and repair':\n",
    "            col = repli_color_dict[row['Product'].strip()]\n",
    "            #print feature\n",
    "            HCTV5_gd_features.add_feature(feature, label=True, color=col, lable_size=3, label_angle=lb, sigil=\"ARROW\",arrowshaft_height=0.5, \n",
    "                                 tracklines=0, label_position=\"middle\", name=row['Product'] + ' ' + gene_num, arrowhead_length=0.5,)\n",
    "            #contig_156409_gd.draw(format='circular', circular=True, pagesize=('A4'),circle_core=0.7, start=0, end=118409)\n",
    "            #contig_156409_gd.write(path + '/figuers/contig_156409_circ_arrows_new_colors.pdf','pdf')\n",
    "        \n",
    "        else:\n",
    "            col = Category_color_dict[Category]\n",
    "            \n",
    "            HCTV5_gd_features.add_feature(feature, label=True, color=col, lable_size=3, label_angle=lb, sigil=\"ARROW\",arrowshaft_height=0.5, \n",
    "                                 tracklines=0, label_position=\"middle\", name=row['Product'] + ' ' + gene_num, arrowhead_length=0.5)\n",
    "            \n",
    "HCTV5_gd.draw(format='circular', circular=True, pagesize=('A4'),circle_core=0.7)#, start=0, end=100277)\n",
    "HCTV5_gd.write(path + '/figuers/HCTV5_circ_arrows_no_labs_new_colors_labs.pdf','pdf')"
   ]
  },
  {
   "cell_type": "markdown",
   "metadata": {},
   "source": [
    "### HVTV1 circular new colors "
   ]
  },
  {
   "cell_type": "code",
   "execution_count": 186,
   "metadata": {
    "collapsed": false
   },
   "outputs": [],
   "source": [
    "\n",
    "HVTV1_feature_set = GenomeDiagram.FeatureSet()\n",
    "HVTV1_gd = GenomeDiagram.Diagram('HVTV1')\n",
    "HVTV1_gd_features = HVTV1_gd.new_track(1, greytrack=0, name='HVTV1', scale_ticks=0.1 ,scale_smalltick_lables=1, scale_smalltick_interval=10000, scale_smallticks=-0.3)\n",
    "HVTV1_gd_features = HVTV1_gd_features.new_set()\n",
    "for index, row in HVTV1.iterrows():\n",
    "        l = len(row)\n",
    "        Category = Category_dict[row['Product']]\n",
    "        gene_num = row['Gene']\n",
    "        fr = row['Strand']\n",
    "        if fr == '+':\n",
    "            fr = +1\n",
    "            lb =45\n",
    "        elif fr == '-':\n",
    "            fr = -1\n",
    "            lb = -225\n",
    "        else:\n",
    "            fr = 0\n",
    "        start = int(row['Start'])\n",
    "        end = int(row['End'])\n",
    "\n",
    "        #col = Category_color_dict[Category]\n",
    "        feature = SeqFeature(FeatureLocation(start, end), strand=fr)\n",
    "        if Category == 'Structural protein':\n",
    "            col = struct_color_dict[row['Product'].strip()]\n",
    "            HVTV1_gd_features.add_feature(feature, label=False, color=col, lable_size=3, label_angle=lb, sigil=\"ARROW\",arrowshaft_height=0.5, \n",
    "                                 tracklines=0, label_position=\"middle\", name=gene_num, arrowhead_length=0.5,)\n",
    "        \n",
    "        \n",
    "        elif Category == 'Replication, recombination and repair':\n",
    "            col = repli_color_dict[row['Product'].strip()]\n",
    "            #print feature\n",
    "            HVTV1_gd_features.add_feature(feature, label=False, color=col, lable_size=3, label_angle=lb, sigil=\"ARROW\",arrowshaft_height=0.5, \n",
    "                                 tracklines=0, label_position=\"middle\", name=gene_num, arrowhead_length=0.5,)\n",
    "            #contig_156409_gd.draw(format='circular', circular=True, pagesize=('A4'),circle_core=0.7, start=0, end=118409)\n",
    "            #contig_156409_gd.write(path + '/figuers/contig_156409_circ_arrows_new_colors.pdf','pdf')\n",
    "        \n",
    "        else:\n",
    "            col = Category_color_dict[Category]\n",
    "            \n",
    "            HVTV1_gd_features.add_feature(feature, label=False, color=col, lable_size=3, label_angle=lb, sigil=\"ARROW\",arrowshaft_height=0.5, \n",
    "                                 tracklines=0, label_position=\"middle\", name=gene_num, arrowhead_length=0.5)\n",
    "            \n",
    "HVTV1_gd.draw(format='circular', circular=True, pagesize=('A4'),circle_core=0.7)#, start=0, end=100277)\n",
    "HVTV1_gd.write(path + '/figuers/HVTV1_circ_arrows_no_labs_new_colors.pdf','pdf')"
   ]
  },
  {
   "cell_type": "markdown",
   "metadata": {},
   "source": [
    "### HCTV1 circular new colors "
   ]
  },
  {
   "cell_type": "code",
   "execution_count": 187,
   "metadata": {
    "collapsed": false
   },
   "outputs": [],
   "source": [
    "\n",
    "HCTV1_feature_set = GenomeDiagram.FeatureSet()\n",
    "HCTV1_gd = GenomeDiagram.Diagram('HCTV1')\n",
    "HCTV1_gd_features = HCTV1_gd.new_track(1, greytrack=0, name='HCTV1', scale_ticks=0.1 ,scale_smalltick_lables=1, scale_smalltick_interval=10000, scale_smallticks=-0.3)\n",
    "HCTV1_gd_features = HCTV1_gd_features.new_set()\n",
    "for index, row in HCTV1.iterrows():\n",
    "        l = len(row)\n",
    "        Category = Category_dict[row['Product']]\n",
    "        gene_num = row['Gene']\n",
    "        fr = row['Strand']\n",
    "        if fr == '+':\n",
    "            fr = +1\n",
    "            lb =45\n",
    "        elif fr == '-':\n",
    "            fr = -1\n",
    "            lb = -225\n",
    "        else:\n",
    "            fr = 0\n",
    "        start = int(row['Start'])\n",
    "        end = int(row['End'])\n",
    "\n",
    "        #col = Category_color_dict[Category]\n",
    "        feature = SeqFeature(FeatureLocation(start, end), strand=fr)\n",
    "        if Category == 'Structural protein':\n",
    "            col = struct_color_dict[row['Product'].strip()]\n",
    "            HCTV1_gd_features.add_feature(feature, label=True, color=col, lable_size=3, label_angle=lb, sigil=\"ARROW\",arrowshaft_height=0.5, \n",
    "                                 tracklines=0, label_position=\"middle\", name=row['Product'] + ' ' + gene_num, arrowhead_length=0.5,)\n",
    "        \n",
    "        \n",
    "        elif Category == 'Replication, recombination and repair':\n",
    "            col = repli_color_dict[row['Product'].strip()]\n",
    "            #print feature\n",
    "            HCTV1_gd_features.add_feature(feature, label=True, color=col, lable_size=3, label_angle=lb, sigil=\"ARROW\",arrowshaft_height=0.5, \n",
    "                                 tracklines=0, label_position=\"middle\", name=row['Product'] + ' ' + gene_num, arrowhead_length=0.5,)\n",
    "            #contig_156409_gd.draw(format='circular', circular=True, pagesize=('A4'),circle_core=0.7, start=0, end=118409)\n",
    "            #contig_156409_gd.write(path + '/figuers/contig_156409_circ_arrows_new_colors.pdf','pdf')\n",
    "        \n",
    "        else:\n",
    "            col = Category_color_dict[Category]\n",
    "            \n",
    "            HCTV1_gd_features.add_feature(feature, label=True, color=col, lable_size=3, label_angle=lb, sigil=\"ARROW\",arrowshaft_height=0.5, \n",
    "                                 tracklines=0, label_position=\"middle\", name=row['Product'] + ' ' + gene_num, arrowhead_length=0.5)\n",
    "            \n",
    "HCTV1_gd.draw(format='circular', circular=True, pagesize=('A4'),circle_core=0.7)#, start=0, end=100277)\n",
    "HCTV1_gd.write(path + '/figuers/HCTV1_circ_arrows_no_labs_new_colors_labs.pdf','pdf')"
   ]
  },
  {
   "cell_type": "markdown",
   "metadata": {},
   "source": [
    "### HRTV5 circular new colors"
   ]
  },
  {
   "cell_type": "code",
   "execution_count": 188,
   "metadata": {
    "collapsed": false
   },
   "outputs": [],
   "source": [
    "\n",
    "HRTV5_feature_set = GenomeDiagram.FeatureSet()\n",
    "HRTV5_gd = GenomeDiagram.Diagram('HRTV5')\n",
    "HRTV5_gd_features = HRTV5_gd.new_track(1, greytrack=0, name='HRTV5', scale_ticks=0.1 ,scale_smalltick_lables=1, scale_smalltick_interval=10000, scale_smallticks=-0.3)\n",
    "HRTV5_gd_features = HRTV5_gd_features.new_set()\n",
    "for index, row in HRTV5.iterrows():\n",
    "        l = len(row)\n",
    "        Category = Category_dict[row['Product']]\n",
    "        gene_num = row['Gene']\n",
    "        fr = row['Strand']\n",
    "        if fr == '+':\n",
    "            fr = +1\n",
    "            lb =45\n",
    "        elif fr == '-':\n",
    "            fr = -1\n",
    "            lb = -225\n",
    "        else:\n",
    "            fr = 0\n",
    "        start = int(row['Start'])\n",
    "        end = int(row['End'])\n",
    "\n",
    "        #col = Category_color_dict[Category]\n",
    "        feature = SeqFeature(FeatureLocation(start, end), strand=fr)\n",
    "        if Category == 'Structural protein':\n",
    "            col = struct_color_dict[row['Product'].strip()]\n",
    "            HRTV5_gd_features.add_feature(feature, label=True, color=col, lable_size=3, label_angle=lb, sigil=\"ARROW\",arrowshaft_height=0.5, \n",
    "                                 tracklines=0, label_position=\"middle\", name=row['Product'] + ' ' + gene_num, arrowhead_length=0.5,)\n",
    "        \n",
    "        \n",
    "        elif Category == 'Replication, recombination and repair':\n",
    "            col = repli_color_dict[row['Product'].strip()]\n",
    "            #print feature\n",
    "            HRTV5_gd_features.add_feature(feature, label=True, color=col, lable_size=3, label_angle=lb, sigil=\"ARROW\",arrowshaft_height=0.5, \n",
    "                                 tracklines=0, label_position=\"middle\", name=row['Product'] + ' ' + gene_num, arrowhead_length=0.5,)\n",
    "            #contig_156409_gd.draw(format='circular', circular=True, pagesize=('A4'),circle_core=0.7, start=0, end=118409)\n",
    "            #contig_156409_gd.write(path + '/figuers/contig_156409_circ_arrows_new_colors.pdf','pdf')\n",
    "        \n",
    "        else:\n",
    "            col = Category_color_dict[Category]\n",
    "            \n",
    "            HRTV5_gd_features.add_feature(feature, label=False, color=col, lable_size=3, label_angle=lb, sigil=\"ARROW\",arrowshaft_height=0.5, \n",
    "                                 tracklines=0, label_position=\"middle\", name=gene_num, arrowhead_length=0.5)\n",
    "            \n",
    "HRTV5_gd.draw(format='circular', circular=True, pagesize=('A4'),circle_core=0.7)#, start=0, end=100277)\n",
    "HRTV5_gd.write(path + '/figuers/HRTV5_circ_arrows_no_labs_new_colors_labs.pdf','pdf')"
   ]
  },
  {
   "cell_type": "code",
   "execution_count": null,
   "metadata": {
    "collapsed": true
   },
   "outputs": [],
   "source": []
  },
  {
   "cell_type": "markdown",
   "metadata": {},
   "source": [
    "### HRTV7 circular new colors"
   ]
  },
  {
   "cell_type": "code",
   "execution_count": 189,
   "metadata": {
    "collapsed": false
   },
   "outputs": [],
   "source": [
    "\n",
    "HRTV7_feature_set = GenomeDiagram.FeatureSet()\n",
    "HRTV7_gd = GenomeDiagram.Diagram('HRTV7')\n",
    "HRTV7_gd_features = HRTV7_gd.new_track(1, greytrack=0, name='HRTV7', scale_ticks=0.1 ,scale_smalltick_lables=1, scale_smalltick_interval=10000, scale_smallticks=-0.3)\n",
    "HRTV7_gd_features = HRTV7_gd_features.new_set()\n",
    "for index, row in HRTV7.iterrows():\n",
    "        l = len(row)\n",
    "        Category = Category_dict[row['Product']]\n",
    "        gene_num = row['Gene']\n",
    "        fr = row['Strand']\n",
    "        if fr == '+':\n",
    "            fr = +1\n",
    "            lb =45\n",
    "        elif fr == '-':\n",
    "            fr = -1\n",
    "            lb = -225\n",
    "        else:\n",
    "            fr = 0\n",
    "        start = int(row['Start'])\n",
    "        end = int(row['End'])\n",
    "\n",
    "        #col = Category_color_dict[Category]\n",
    "        feature = SeqFeature(FeatureLocation(start, end), strand=fr)\n",
    "        if Category == 'Structural protein':\n",
    "            col = struct_color_dict[row['Product'].strip()]\n",
    "            HRTV7_gd_features.add_feature(feature, label=True, color=col, lable_size=3, label_angle=lb, sigil=\"ARROW\",arrowshaft_height=0.5, \n",
    "                                 tracklines=0, label_position=\"middle\", name= row['Product'] + ' ' + gene_num, arrowhead_length=0.5,)\n",
    "        \n",
    "        \n",
    "        elif Category == 'Replication, recombination and repair':\n",
    "            col = repli_color_dict[row['Product'].strip()]\n",
    "            #print feature\n",
    "            HRTV7_gd_features.add_feature(feature, label=True, color=col, lable_size=3, label_angle=lb, sigil=\"ARROW\",arrowshaft_height=0.5, \n",
    "                                 tracklines=0, label_position=\"middle\", name= row['Product'] + ' ' +gene_num, arrowhead_length=0.5,)\n",
    "            #contig_156409_gd.draw(format='circular', circular=True, pagesize=('A4'),circle_core=0.7, start=0, end=118409)\n",
    "            #contig_156409_gd.write(path + '/figuers/contig_156409_circ_arrows_new_colors.pdf','pdf')\n",
    "        \n",
    "        else:\n",
    "            col = Category_color_dict[Category]\n",
    "            \n",
    "            HRTV7_gd_features.add_feature(feature, label=False, color=col, lable_size=3, label_angle=lb, sigil=\"ARROW\",arrowshaft_height=0.5, \n",
    "                                 tracklines=0, label_position=\"middle\", name=gene_num, arrowhead_length=0.5)\n",
    "            \n",
    "HRTV7_gd.draw(format='circular', circular=True, pagesize=('A4'),circle_core=0.7)#, start=0, end=100277)\n",
    "HRTV7_gd.write(path + '/figuers/HRTV7_circ_arrows_no_labs_new_colors_labs.pdf','pdf')"
   ]
  },
  {
   "cell_type": "code",
   "execution_count": null,
   "metadata": {
    "collapsed": true
   },
   "outputs": [],
   "source": []
  }
 ],
 "metadata": {
  "kernelspec": {
   "display_name": "Python 2",
   "language": "python",
   "name": "python2"
  },
  "language_info": {
   "codemirror_mode": {
    "name": "ipython",
    "version": 2
   },
   "file_extension": ".py",
   "mimetype": "text/x-python",
   "name": "python",
   "nbconvert_exporter": "python",
   "pygments_lexer": "ipython2",
   "version": "2.7.12"
  }
 },
 "nbformat": 4,
 "nbformat_minor": 0
}
