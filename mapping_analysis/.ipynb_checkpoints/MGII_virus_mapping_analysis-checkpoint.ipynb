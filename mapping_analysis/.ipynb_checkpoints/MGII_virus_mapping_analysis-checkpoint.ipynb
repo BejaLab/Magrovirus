{
 "cells": [
  {
   "cell_type": "code",
   "execution_count": 1,
   "metadata": {
    "collapsed": false
   },
   "outputs": [],
   "source": [
    "import pandas as pd\n",
    "import os\n",
    "import numpy as np\n",
    "from collections import OrderedDict\n",
    "import matplotlib as mpl\n",
    "mpl.use('Agg')\n",
    "import matplotlib.ticker as ticker\n",
    "import matplotlib.pyplot as plt\n",
    "import seaborn as sns\n",
    "import csv\n",
    "import os\n",
    "from reportlab.lib import colors\n",
    "from reportlab.lib.units import cm\n",
    "from Bio.Graphics import GenomeDiagram\n",
    "from Bio.SeqFeature import SeqFeature, FeatureLocation\n",
    "import csv\n",
    "#sns.use('Agg')\n",
    "from numpy import outer\n",
    "#pd.set_option('display.max_columns', None)\n",
    "#pd.set_option('display.max_rows', 240 )\n",
    "\n",
    "%matplotlib inline\n",
    "\n"
   ]
  },
  {
   "cell_type": "code",
   "execution_count": 7,
   "metadata": {
    "collapsed": true
   },
   "outputs": [],
   "source": [
    "path = os.getcwd()\n"
   ]
  },
  {
   "cell_type": "code",
   "execution_count": 11,
   "metadata": {
    "collapsed": false
   },
   "outputs": [],
   "source": [
    "#!ls -alhtr $path\n",
    "#'/data/mapping_results'\n",
    "#'/data/20170111/data/TARA_metadata.csv'\n",
    "#'/data'##/meta'"
   ]
  },
  {
   "cell_type": "code",
   "execution_count": 12,
   "metadata": {
    "collapsed": false
   },
   "outputs": [],
   "source": [
    "#eilat[eilat['genome_group'] == 'MGII_virus']#[['genome_size', 'genome_name']].unique()"
   ]
  },
  {
   "cell_type": "markdown",
   "metadata": {},
   "source": [
    "### Load Data"
   ]
  },
  {
   "cell_type": "code",
   "execution_count": 14,
   "metadata": {
    "collapsed": false
   },
   "outputs": [],
   "source": [
    "tara  =  pd.read_csv(path + '/counts_normalization/normalized_reads.tara.20170115.tsv', delimiter='\\t',low_memory=False)\n",
    "\n",
    "eilat =  pd.read_csv(path + '/counts_normalization/normalized_reads.eilat.20170115.tsv', delimiter='\\t',low_memory=False)\n",
    "\n",
    "tara_meta =  pd.read_csv(path + '/meta/TARA_metadata.csv', delimiter=',',low_memory=False)\n",
    "eilat_meta =  pd.read_csv(path + '/meta/eilat_metadata.20170111.tsv', delimiter=',',low_memory=False)\n",
    "\n",
    "\n",
    "tara = tara.rename(columns = {'dataset':'RUN'})\n",
    "\n",
    "eilat = eilat.rename(columns = {'dataset':'RUN'})\n",
    "\n",
    "##Make Eilat DF compatible to the TARA one\n",
    "eilat['Station'] = 'Station A'\n",
    "#eilat['Depth'] = 5\n",
    "eilat['Protocol Label'] = 'Na'\n",
    "#eilat['Fraction'] = 'Na'\n",
    "#eilat['LONGITUDE'] = 29.53\n",
    "#eilat['LATITUDE'] = 34.97\n",
    "\n",
    "tara_meta = tara_meta.rename(columns = {'ENA-RUN':'RUN'})\n",
    "meta_run_region = tara_meta[['RUN', 'Region']]\n",
    "\n",
    "##Add region column to the Eilat DF\n",
    "eilat_region = pd.DataFrame({'Region': ['RS', 'RS', 'RS', 'RS','RS', 'RS',\n",
    "                            'RS', 'RS','RS','RS','RS','RS','RS','RS','RS','RS'], 'RUN' : ['ER06',\n",
    "                            'ER12','ER18','ER24','EG06','EG12',\n",
    "                            'EG18', 'EG24', 'EV06', 'EV12','EV18','EV24', \n",
    "                            'Eilat_A_6', 'Eilat_A_12', 'Eilat_A_18', 'Eilat_A_24']})\n",
    "eilat_region.index.rename('RUN', inplace=True)\n",
    "\n",
    "eilat_ENA_sample = pd.DataFrame({'ENA-SAMPLE': ['Eilat_A_6', 'Eilat_A_12', 'Eilat_A_18', 'Eilat_A_24',\n",
    "                                           'Eilat_A_6', 'Eilat_A_12', 'Eilat_A_18', 'Eilat_A_24',\n",
    "                                           'Eilat_A_6', 'Eilat_A_12', 'Eilat_A_18', 'Eilat_A_24'], 'RUN' : ['ER06',\n",
    "                            'ER12','ER18','ER24','EG06','EG12',\n",
    "                            'EG18', 'EG24', 'EV06', 'EV12','EV18','EV24']})\n",
    "eilat_ENA_sample.index.rename('RUN', inplace=True)\n",
    "\n",
    "## Define groups\n",
    "GroupA = ['contig__156409', 'contig__154566', 'contig__155688']\n",
    "GroupB1 = ['contig__154592', 'contig__154680', 'contig__154676']\n",
    "GroupB2 = ['contig__155773']\n",
    "GroupC = ['contig__172037', 'contig__154940', 'contig__155057']\n",
    "GroupA_TARA= ['SAMEA2621151_40', 'SAMEA2621061_122', 'SAMEA2621085_65', 'SAMEA2619923_17']\n",
    "GroupB2_TARA= ['SAMEA2621151_104', 'SAMEA2620879_23', 'SAMEA2620078_38']\n",
    "GroupZ = ['Z1']\n",
    "\n",
    "\n",
    "\n",
    "\n",
    "correct_names = {'X_contig__155773 DNApol similar to the split but is not a split' : 'contig__155773',\n",
    "                 'contig__154676 Group B? Split DNA pol  Candidate tRNA Predictions in BED format:' : 'contig__154676',\n",
    "                 'contig__175897 Group A? Thermosome, DNApol' : 'contig__175897', 'contig__154564 thermosome' : 'contig__154564'}\n",
    "\n",
    "diel_stations = {'ER06':'Eilat_RNA_6','ER12':'Eilat_RNA_12','ER18':'Eilat_RNA_18','ER24' :'Eilat_RNA_24',\n",
    "                'EG06' : 'Eilat_gDNA_6','EG12' : 'Eilat_gDNA_12','EG18' : 'Eilat_gDNA_18', 'EG24' : 'Eilat_gDNA_24' ,\n",
    "                'EV06' : 'Eilat_vDNA_6', 'EV12' : 'Eilat_vDNA_12','EV18' : 'Eilat_vDNA_18','EV24' : 'Eilat_vDNA_24', \n",
    "                            }\n",
    "\n",
    "###now  correct these names in the DFs\n",
    "\n",
    "for k, v in correct_names.iteritems():\n",
    "    eilat.loc[eilat.genome_name == k, 'genome_name'] = v\n",
    "    tara.loc[tara.genome_name == k, 'genome_name'] = v\n",
    "    \n",
    "    \n",
    "## get just the coulmn we need   \n",
    "tara = tara[['RUN','genome_group', 'genome_hash', 'n_count',\n",
    "       'Fraction', 'Station',\n",
    "       'Protocol Label', 'genome_name',\n",
    "       'genome_size']]\n",
    "eilat = eilat[['RUN', 'Depth', 'genome_group', 'genome_hash', 'n_count',\n",
    "       'Fraction', 'Station',\n",
    "       'Protocol Label', 'genome_name',\n",
    "       'genome_size']]"
   ]
  },
  {
   "cell_type": "markdown",
   "metadata": {},
   "source": [
    "### Load Meta Data"
   ]
  },
  {
   "cell_type": "code",
   "execution_count": 15,
   "metadata": {
    "collapsed": false
   },
   "outputs": [],
   "source": [
    "tara_meta_  =  pd.read_csv(path + '/meta/TARA_metadata_less_columns.csv', delimiter=',',low_memory=False)\n",
    "tara_chem_meta  =  pd.read_csv(path + '/meta/TARA_chem_metadata_less_columns.csv', delimiter=',',low_memory=False)\n",
    "eilat_chem_meta  =  pd.read_csv(path + '/meta/Eilat_station_A_surface_chem_data.csv', delimiter=',',low_memory=False)\n"
   ]
  },
  {
   "cell_type": "code",
   "execution_count": 16,
   "metadata": {
    "collapsed": true
   },
   "outputs": [],
   "source": [
    "eilat_chem_meta['Region'] = 'RS'"
   ]
  },
  {
   "cell_type": "markdown",
   "metadata": {},
   "source": [
    "#### Add Eilat meta data to TARA region data and merge them\n"
   ]
  },
  {
   "cell_type": "code",
   "execution_count": 17,
   "metadata": {
    "collapsed": false
   },
   "outputs": [],
   "source": [
    "meta_col = ['Station', 'LONGITUDE', 'LATITUDE', 'Depth', 'Protocol Label',\n",
    "       'Fraction', 'Region', 'ENA-SAMPLE']"
   ]
  },
  {
   "cell_type": "code",
   "execution_count": 18,
   "metadata": {
    "collapsed": true
   },
   "outputs": [],
   "source": [
    "tara_ = pd.merge(tara, tara_meta_, \n",
    "                         left_on='RUN', right_on='RUN',  how='left', suffixes = ('_tara', '_mete_tara'))\n",
    "eilat_ = pd.merge(eilat, eilat_ENA_sample, \n",
    "                         left_on='RUN', right_on='RUN',  how='inner')\n",
    "meta_run_region_plus_eilat =  pd.concat([eilat_region, meta_run_region], axis=0,  join='outer')\n",
    "\n",
    "tara_meta_ENA_SAMPLE = tara_meta_[['RUN', 'ENA-SAMPLE']]\n",
    "\n",
    "tara_.set_index('RUN', inplace=True)\n",
    "tara.set_index('RUN', inplace=True)\n",
    "\n",
    "#eilat.set_index('RUN', inplace=True)\n",
    "eilat_.set_index('RUN', inplace=True)\n",
    "#meta_run_region_plus_eilat.set_index('RUN', inplace=True)\n",
    "eilat_ENA_sample.set_index('RUN', inplace=True)"
   ]
  },
  {
   "cell_type": "code",
   "execution_count": 19,
   "metadata": {
    "collapsed": false
   },
   "outputs": [],
   "source": [
    "##conacternate eilat and TARA\n",
    "mapping_counts = pd.concat([eilat_, tara_], axis=0,  join='outer')\n"
   ]
  },
  {
   "cell_type": "code",
   "execution_count": 25,
   "metadata": {
    "collapsed": false
   },
   "outputs": [],
   "source": [
    "mapping_counts_normalized = pd.merge(mapping_counts, meta_run_region_plus_eilat,# axis=1,  join='inner')\n",
    "                          left_index=True, right_on='RUN',  how='inner')"
   ]
  },
  {
   "cell_type": "code",
   "execution_count": 26,
   "metadata": {
    "collapsed": false
   },
   "outputs": [
    {
     "data": {
      "text/html": [
       "<div>\n",
       "<table border=\"1\" class=\"dataframe\">\n",
       "  <thead>\n",
       "    <tr style=\"text-align: right;\">\n",
       "      <th></th>\n",
       "      <th>Chlorophyll</th>\n",
       "      <th>Depth</th>\n",
       "      <th>ENA-SAMPLE</th>\n",
       "      <th>Environment (Feature)</th>\n",
       "      <th>Fraction</th>\n",
       "      <th>Nitrate Sensor</th>\n",
       "      <th>Oxygen Sensor</th>\n",
       "      <th>Protocol Label</th>\n",
       "      <th>Salinity Sensor</th>\n",
       "      <th>Sampling Station</th>\n",
       "      <th>Station</th>\n",
       "      <th>Temperature</th>\n",
       "      <th>genome_group</th>\n",
       "      <th>genome_hash</th>\n",
       "      <th>genome_name</th>\n",
       "      <th>genome_size</th>\n",
       "      <th>n_count</th>\n",
       "    </tr>\n",
       "    <tr>\n",
       "      <th>RUN</th>\n",
       "      <th></th>\n",
       "      <th></th>\n",
       "      <th></th>\n",
       "      <th></th>\n",
       "      <th></th>\n",
       "      <th></th>\n",
       "      <th></th>\n",
       "      <th></th>\n",
       "      <th></th>\n",
       "      <th></th>\n",
       "      <th></th>\n",
       "      <th></th>\n",
       "      <th></th>\n",
       "      <th></th>\n",
       "      <th></th>\n",
       "      <th></th>\n",
       "      <th></th>\n",
       "    </tr>\n",
       "  </thead>\n",
       "  <tbody>\n",
       "  </tbody>\n",
       "</table>\n",
       "</div>"
      ],
      "text/plain": [
       "Empty DataFrame\n",
       "Columns: [Chlorophyll, Depth, ENA-SAMPLE, Environment (Feature), Fraction, Nitrate Sensor, Oxygen Sensor, Protocol Label, Salinity Sensor, Sampling Station, Station, Temperature, genome_group, genome_hash, genome_name, genome_size, n_count]\n",
       "Index: []"
      ]
     },
     "execution_count": 26,
     "metadata": {},
     "output_type": "execute_result"
    }
   ],
   "source": [
    "mapping_counts[mapping_counts['genome_name'] == 'SAMEA2621085_75_2']"
   ]
  },
  {
   "cell_type": "code",
   "execution_count": 27,
   "metadata": {
    "collapsed": false
   },
   "outputs": [
    {
     "data": {
      "text/plain": [
       "105627"
      ]
     },
     "execution_count": 27,
     "metadata": {},
     "output_type": "execute_result"
    }
   ],
   "source": [
    "len(mapping_counts_normalized)"
   ]
  },
  {
   "cell_type": "markdown",
   "metadata": {},
   "source": [
    "### save"
   ]
  },
  {
   "cell_type": "code",
   "execution_count": 28,
   "metadata": {
    "collapsed": false
   },
   "outputs": [],
   "source": [
    "#pd.DataFrame(mapping_counts_normalized.columns).to_csv(path + 'columns.csv')\n",
    "pd.DataFrame(mapping_counts_normalized).to_csv(path + '/DataFrames/mapping_counts_normalized_not_melted.csv')\n"
   ]
  },
  {
   "cell_type": "markdown",
   "metadata": {},
   "source": [
    "### create sublist of stations, diveide into three lists\n",
    "will be later used for plotting"
   ]
  },
  {
   "cell_type": "code",
   "execution_count": 29,
   "metadata": {
    "collapsed": false
   },
   "outputs": [],
   "source": [
    "### divide the eilat stations\n",
    "for k, v in diel_stations.iteritems():\n",
    "    #print k,v\n",
    "    mapping_counts_normalized.loc[mapping_counts_normalized.RUN == k, 'Station'] = v"
   ]
  },
  {
   "cell_type": "code",
   "execution_count": 30,
   "metadata": {
    "collapsed": true
   },
   "outputs": [],
   "source": [
    "###Make group Z virus a group of its own"
   ]
  },
  {
   "cell_type": "code",
   "execution_count": 31,
   "metadata": {
    "collapsed": false
   },
   "outputs": [],
   "source": [
    "mapping_counts_normalized.loc[mapping_counts_normalized.genome_name == 'Z1', 'genome_group'] = 'Group_D'"
   ]
  },
  {
   "cell_type": "code",
   "execution_count": 32,
   "metadata": {
    "collapsed": false
   },
   "outputs": [
    {
     "data": {
      "text/plain": [
       "81"
      ]
     },
     "execution_count": 32,
     "metadata": {},
     "output_type": "execute_result"
    }
   ],
   "source": [
    "len(mapping_counts_normalized.Station.unique())"
   ]
  },
  {
   "cell_type": "code",
   "execution_count": 33,
   "metadata": {
    "collapsed": false
   },
   "outputs": [],
   "source": [
    "list_of_stations = list(OrderedDict.fromkeys(mapping_counts_normalized.Station).keys())\n",
    "#list_of_stations.remove(np.nan)\n",
    "sorted(list_of_stations, key=str)#.sort()\n",
    "# devide them evenly into 3 lists\n",
    "list_of_Station_lists = [list_of_stations[i:i+27] for i in range(0, len(list_of_stations), 27)]"
   ]
  },
  {
   "cell_type": "code",
   "execution_count": 34,
   "metadata": {
    "collapsed": false
   },
   "outputs": [
    {
     "data": {
      "text/plain": [
       "81"
      ]
     },
     "execution_count": 34,
     "metadata": {},
     "output_type": "execute_result"
    }
   ],
   "source": [
    "len(list_of_stations)"
   ]
  },
  {
   "cell_type": "code",
   "execution_count": 35,
   "metadata": {
    "collapsed": false
   },
   "outputs": [],
   "source": [
    "Station_list_1 = list_of_Station_lists[0]\n",
    "Station_list_2 = list_of_Station_lists[1]\n",
    "Station_list_3 = list_of_Station_lists[2]\n"
   ]
  },
  {
   "cell_type": "markdown",
   "metadata": {
    "collapsed": false
   },
   "source": [
    "### Melt the dataframe"
   ]
  },
  {
   "cell_type": "code",
   "execution_count": 36,
   "metadata": {
    "collapsed": false
   },
   "outputs": [
    {
     "data": {
      "text/html": [
       "<div>\n",
       "<table border=\"1\" class=\"dataframe\">\n",
       "  <thead>\n",
       "    <tr style=\"text-align: right;\">\n",
       "      <th></th>\n",
       "      <th>Chlorophyll</th>\n",
       "      <th>Depth</th>\n",
       "      <th>ENA-SAMPLE</th>\n",
       "      <th>Environment (Feature)</th>\n",
       "      <th>Fraction</th>\n",
       "      <th>Nitrate Sensor</th>\n",
       "      <th>Oxygen Sensor</th>\n",
       "      <th>Protocol Label</th>\n",
       "      <th>Salinity Sensor</th>\n",
       "      <th>Sampling Station</th>\n",
       "      <th>Station</th>\n",
       "      <th>Temperature</th>\n",
       "      <th>genome_group</th>\n",
       "      <th>genome_hash</th>\n",
       "      <th>genome_name</th>\n",
       "      <th>genome_size</th>\n",
       "      <th>n_count</th>\n",
       "      <th>RUN</th>\n",
       "      <th>Region</th>\n",
       "    </tr>\n",
       "  </thead>\n",
       "  <tbody>\n",
       "    <tr>\n",
       "      <th>4</th>\n",
       "      <td>NaN</td>\n",
       "      <td>5.0</td>\n",
       "      <td>Eilat_A_6</td>\n",
       "      <td>NaN</td>\n",
       "      <td>BACT</td>\n",
       "      <td>NaN</td>\n",
       "      <td>NaN</td>\n",
       "      <td>Na</td>\n",
       "      <td>NaN</td>\n",
       "      <td>NaN</td>\n",
       "      <td>Eilat_gDNA_6</td>\n",
       "      <td>NaN</td>\n",
       "      <td>Cyanophage</td>\n",
       "      <td>c84cc511d5c752080560170a686fbd8d</td>\n",
       "      <td>gi|326783659|ref|NC_015287.1| Synechococcus ph...</td>\n",
       "      <td>232878</td>\n",
       "      <td>2.040508</td>\n",
       "      <td>EG06</td>\n",
       "      <td>RS</td>\n",
       "    </tr>\n",
       "  </tbody>\n",
       "</table>\n",
       "</div>"
      ],
      "text/plain": [
       "   Chlorophyll  Depth ENA-SAMPLE Environment (Feature) Fraction  \\\n",
       "4          NaN    5.0  Eilat_A_6                   NaN     BACT   \n",
       "\n",
       "   Nitrate Sensor  Oxygen Sensor Protocol Label  Salinity Sensor  \\\n",
       "4             NaN            NaN             Na              NaN   \n",
       "\n",
       "  Sampling Station       Station  Temperature genome_group  \\\n",
       "4              NaN  Eilat_gDNA_6          NaN   Cyanophage   \n",
       "\n",
       "                        genome_hash  \\\n",
       "4  c84cc511d5c752080560170a686fbd8d   \n",
       "\n",
       "                                         genome_name  genome_size   n_count  \\\n",
       "4  gi|326783659|ref|NC_015287.1| Synechococcus ph...       232878  2.040508   \n",
       "\n",
       "    RUN Region  \n",
       "4  EG06     RS  "
      ]
     },
     "execution_count": 36,
     "metadata": {},
     "output_type": "execute_result"
    }
   ],
   "source": [
    "mapping_counts_normalized.head(n=1)"
   ]
  },
  {
   "cell_type": "code",
   "execution_count": 37,
   "metadata": {
    "collapsed": false
   },
   "outputs": [],
   "source": [
    "col_list = list(mapping_counts_normalized.columns) \n",
    "#col_list = [x for x in col_list if x not in ['Station', 'LONGITUDE', 'LATITUDE', 'Depth',\n",
    "#            'Protocol Label','Fraction', 'RUN', 'Region', 'ENA-SAMPLE']]\n",
    "\n",
    "mapping_counts_normalized_melted = pd.melt(mapping_counts_normalized, id_vars=['Station', 'LONGITUDE', 'LATITUDE', 'Depth',\n",
    "            'Protocol Label','Fraction', 'RUN', 'Region', 'ENA-SAMPLE', 'genome_name', 'genome_group' ], value_vars= 'n_count', value_name='val')"
   ]
  },
  {
   "cell_type": "code",
   "execution_count": 38,
   "metadata": {
    "collapsed": false
   },
   "outputs": [
    {
     "data": {
      "text/html": [
       "<div>\n",
       "<table border=\"1\" class=\"dataframe\">\n",
       "  <thead>\n",
       "    <tr style=\"text-align: right;\">\n",
       "      <th></th>\n",
       "      <th>Station</th>\n",
       "      <th>LONGITUDE</th>\n",
       "      <th>LATITUDE</th>\n",
       "      <th>Depth</th>\n",
       "      <th>Protocol Label</th>\n",
       "      <th>Fraction</th>\n",
       "      <th>RUN</th>\n",
       "      <th>Region</th>\n",
       "      <th>ENA-SAMPLE</th>\n",
       "      <th>genome_name</th>\n",
       "      <th>genome_group</th>\n",
       "      <th>variable</th>\n",
       "      <th>val</th>\n",
       "    </tr>\n",
       "  </thead>\n",
       "  <tbody>\n",
       "    <tr>\n",
       "      <th>0</th>\n",
       "      <td>Eilat_gDNA_6</td>\n",
       "      <td>NaN</td>\n",
       "      <td>NaN</td>\n",
       "      <td>5.0</td>\n",
       "      <td>Na</td>\n",
       "      <td>BACT</td>\n",
       "      <td>EG06</td>\n",
       "      <td>RS</td>\n",
       "      <td>Eilat_A_6</td>\n",
       "      <td>gi|326783659|ref|NC_015287.1| Synechococcus ph...</td>\n",
       "      <td>Cyanophage</td>\n",
       "      <td>n_count</td>\n",
       "      <td>2.040508</td>\n",
       "    </tr>\n",
       "    <tr>\n",
       "      <th>1</th>\n",
       "      <td>Eilat_gDNA_6</td>\n",
       "      <td>NaN</td>\n",
       "      <td>NaN</td>\n",
       "      <td>5.0</td>\n",
       "      <td>Na</td>\n",
       "      <td>BACT</td>\n",
       "      <td>EG06</td>\n",
       "      <td>RS</td>\n",
       "      <td>Eilat_A_6</td>\n",
       "      <td>gi|932822996|dbj|BBBE01000013.1| Thermococcus ...</td>\n",
       "      <td>Euryarchaeota</td>\n",
       "      <td>n_count</td>\n",
       "      <td>0.000000</td>\n",
       "    </tr>\n",
       "    <tr>\n",
       "      <th>2</th>\n",
       "      <td>Eilat_gDNA_6</td>\n",
       "      <td>NaN</td>\n",
       "      <td>NaN</td>\n",
       "      <td>5.0</td>\n",
       "      <td>Na</td>\n",
       "      <td>BACT</td>\n",
       "      <td>EG06</td>\n",
       "      <td>RS</td>\n",
       "      <td>Eilat_A_6</td>\n",
       "      <td>gi|932822980|dbj|BBBE01000029.1| Thermococcus ...</td>\n",
       "      <td>Euryarchaeota</td>\n",
       "      <td>n_count</td>\n",
       "      <td>0.000000</td>\n",
       "    </tr>\n",
       "    <tr>\n",
       "      <th>3</th>\n",
       "      <td>Eilat_gDNA_6</td>\n",
       "      <td>NaN</td>\n",
       "      <td>NaN</td>\n",
       "      <td>5.0</td>\n",
       "      <td>Na</td>\n",
       "      <td>BACT</td>\n",
       "      <td>EG06</td>\n",
       "      <td>RS</td>\n",
       "      <td>Eilat_A_6</td>\n",
       "      <td>contig__157656</td>\n",
       "      <td>MGII</td>\n",
       "      <td>n_count</td>\n",
       "      <td>2.562425</td>\n",
       "    </tr>\n",
       "    <tr>\n",
       "      <th>4</th>\n",
       "      <td>Eilat_gDNA_6</td>\n",
       "      <td>NaN</td>\n",
       "      <td>NaN</td>\n",
       "      <td>5.0</td>\n",
       "      <td>Na</td>\n",
       "      <td>BACT</td>\n",
       "      <td>EG06</td>\n",
       "      <td>RS</td>\n",
       "      <td>Eilat_A_6</td>\n",
       "      <td>gi|472340512|ref|NC_020847.1| Cyanophage MED4-...</td>\n",
       "      <td>Cyanophage</td>\n",
       "      <td>n_count</td>\n",
       "      <td>0.089317</td>\n",
       "    </tr>\n",
       "  </tbody>\n",
       "</table>\n",
       "</div>"
      ],
      "text/plain": [
       "        Station  LONGITUDE  LATITUDE  Depth Protocol Label Fraction   RUN  \\\n",
       "0  Eilat_gDNA_6        NaN       NaN    5.0             Na     BACT  EG06   \n",
       "1  Eilat_gDNA_6        NaN       NaN    5.0             Na     BACT  EG06   \n",
       "2  Eilat_gDNA_6        NaN       NaN    5.0             Na     BACT  EG06   \n",
       "3  Eilat_gDNA_6        NaN       NaN    5.0             Na     BACT  EG06   \n",
       "4  Eilat_gDNA_6        NaN       NaN    5.0             Na     BACT  EG06   \n",
       "\n",
       "  Region ENA-SAMPLE                                        genome_name  \\\n",
       "0     RS  Eilat_A_6  gi|326783659|ref|NC_015287.1| Synechococcus ph...   \n",
       "1     RS  Eilat_A_6  gi|932822996|dbj|BBBE01000013.1| Thermococcus ...   \n",
       "2     RS  Eilat_A_6  gi|932822980|dbj|BBBE01000029.1| Thermococcus ...   \n",
       "3     RS  Eilat_A_6                                     contig__157656   \n",
       "4     RS  Eilat_A_6  gi|472340512|ref|NC_020847.1| Cyanophage MED4-...   \n",
       "\n",
       "    genome_group variable       val  \n",
       "0     Cyanophage  n_count  2.040508  \n",
       "1  Euryarchaeota  n_count  0.000000  \n",
       "2  Euryarchaeota  n_count  0.000000  \n",
       "3           MGII  n_count  2.562425  \n",
       "4     Cyanophage  n_count  0.089317  "
      ]
     },
     "execution_count": 38,
     "metadata": {},
     "output_type": "execute_result"
    }
   ],
   "source": [
    "mapping_counts_normalized_melted.head()"
   ]
  },
  {
   "cell_type": "markdown",
   "metadata": {},
   "source": [
    "##### get unique names of groups make sure we have everything"
   ]
  },
  {
   "cell_type": "code",
   "execution_count": 39,
   "metadata": {
    "collapsed": false
   },
   "outputs": [],
   "source": [
    "k = mapping_counts_normalized_melted.genome_group.values\n",
    "unique_group_list = list(OrderedDict.fromkeys(k))"
   ]
  },
  {
   "cell_type": "markdown",
   "metadata": {},
   "source": [
    "##### for now don't use Unclutured phages and roseobacter in the analysis"
   ]
  },
  {
   "cell_type": "code",
   "execution_count": 40,
   "metadata": {
    "collapsed": false
   },
   "outputs": [],
   "source": [
    "\n",
    "mapping_counts_normalized_melted_with_uncultured_phages = mapping_counts_normalized_melted.copy()\n",
    "mapping_counts_normalized_melted =  mapping_counts_normalized_melted[(mapping_counts_normalized_melted['genome_group'] != 'Uncultured_phage') \n",
    "                                                                 & (mapping_counts_normalized_melted['genome_group'] != 'Roseobacter_phage')]"
   ]
  },
  {
   "cell_type": "markdown",
   "metadata": {},
   "source": [
    "##### subsets column with uncultured phages"
   ]
  },
  {
   "cell_type": "code",
   "execution_count": 41,
   "metadata": {
    "collapsed": false
   },
   "outputs": [],
   "source": [
    "\n",
    "mapping_counts_normalized_melted_with_uncultured_phages_subset_1 = mapping_counts_normalized_melted_with_uncultured_phages[mapping_counts_normalized_melted_with_uncultured_phages['Station'].isin(Station_list_1)]\n",
    "mapping_counts_normalized_melted_with_uncultured_phages_subset_2 = mapping_counts_normalized_melted_with_uncultured_phages[mapping_counts_normalized_melted_with_uncultured_phages['Station'].isin(Station_list_2)]\n",
    "mapping_counts_normalized_melted_with_uncultured_phages_subset_3 = mapping_counts_normalized_melted_with_uncultured_phages[mapping_counts_normalized_melted_with_uncultured_phages['Station'].isin(Station_list_3)]\n",
    "\n"
   ]
  },
  {
   "cell_type": "markdown",
   "metadata": {},
   "source": [
    "##### without uncultured phages\n",
    "\n"
   ]
  },
  {
   "cell_type": "code",
   "execution_count": 42,
   "metadata": {
    "collapsed": false
   },
   "outputs": [],
   "source": [
    "mapping_counts_normalized_melted_subset_1 =  mapping_counts_normalized_melted_with_uncultured_phages_subset_1[(mapping_counts_normalized_melted_with_uncultured_phages_subset_1['genome_group'] != 'Uncultured_phage') \n",
    "                                                                 & (mapping_counts_normalized_melted_with_uncultured_phages_subset_1['genome_group'] != 'Roseobacter_phage')]\n",
    "mapping_counts_normalized_melted_subset_2 =  mapping_counts_normalized_melted_with_uncultured_phages_subset_2[(mapping_counts_normalized_melted_with_uncultured_phages_subset_2['genome_group'] != 'Uncultured_phage') \n",
    "                                                                 & (mapping_counts_normalized_melted_with_uncultured_phages_subset_2['genome_group'] != 'Roseobacter_phage')]\n",
    "mapping_counts_normalized_melted_subset_3 =  mapping_counts_normalized_melted_with_uncultured_phages_subset_3[(mapping_counts_normalized_melted_with_uncultured_phages_subset_3['genome_group'] != 'Uncultured_phage') \n",
    "                                                                 & (mapping_counts_normalized_melted_with_uncultured_phages_subset_3['genome_group'] != 'Roseobacter_phage')]"
   ]
  },
  {
   "cell_type": "markdown",
   "metadata": {},
   "source": [
    "#### Add RNA fraction identifier (VIRUS or BACT) to Eilat samples\n",
    "\n"
   ]
  },
  {
   "cell_type": "code",
   "execution_count": 43,
   "metadata": {
    "collapsed": false
   },
   "outputs": [],
   "source": [
    "mapping_counts_normalized_melted.loc[mapping_counts_normalized_melted.Station.str.contains('Eilat_RNA'), 'Fraction'] = 'RNA'"
   ]
  },
  {
   "cell_type": "code",
   "execution_count": 44,
   "metadata": {
    "collapsed": false
   },
   "outputs": [
    {
     "data": {
      "text/plain": [
       "array(['Cyanophage', 'Euryarchaeota', 'MGII', 'Prochlorococcus',\n",
       "       'MGII_virus', 'SAR11', 'SAR116', 'Synechococcus', 'Crenarchaeota',\n",
       "       'Halovirus', 'SAR116_Phage', 'SAR11_Phage', 'Group_D'], dtype=object)"
      ]
     },
     "execution_count": 44,
     "metadata": {},
     "output_type": "execute_result"
    }
   ],
   "source": [
    "#.head(1)\n",
    "mapping_counts_normalized_melted.genome_group.unique()"
   ]
  },
  {
   "cell_type": "markdown",
   "metadata": {},
   "source": [
    "## Save DFs"
   ]
  },
  {
   "cell_type": "code",
   "execution_count": 45,
   "metadata": {
    "collapsed": true
   },
   "outputs": [],
   "source": [
    "#save\n",
    "mapping_counts_normalized_melted.to_csv(path + '/DataFrames/mapping_counts_normalized_melted.csv')\n",
    "\n",
    "mapping_counts_normalized_melted_subset_1.to_csv(path + '/DataFrames/mapping_counts_normalized_melted_subset_1.csv')\n",
    "mapping_counts_normalized_melted_subset_2.to_csv(path + '/DataFrames/mapping_counts_normalized_melted_subset_2.csv')\n",
    "mapping_counts_normalized_melted_subset_3.to_csv(path + '/DataFrames/mapping_counts_normalized_melted_subset_3.csv')"
   ]
  },
  {
   "cell_type": "code",
   "execution_count": 46,
   "metadata": {
    "collapsed": false
   },
   "outputs": [
    {
     "data": {
      "text/html": [
       "<div>\n",
       "<table border=\"1\" class=\"dataframe\">\n",
       "  <thead>\n",
       "    <tr style=\"text-align: right;\">\n",
       "      <th></th>\n",
       "      <th>Station</th>\n",
       "      <th>LONGITUDE</th>\n",
       "      <th>LATITUDE</th>\n",
       "      <th>Depth</th>\n",
       "      <th>Protocol Label</th>\n",
       "      <th>Fraction</th>\n",
       "      <th>RUN</th>\n",
       "      <th>Region</th>\n",
       "      <th>ENA-SAMPLE</th>\n",
       "      <th>genome_name</th>\n",
       "      <th>genome_group</th>\n",
       "      <th>variable</th>\n",
       "      <th>val</th>\n",
       "    </tr>\n",
       "  </thead>\n",
       "  <tbody>\n",
       "  </tbody>\n",
       "</table>\n",
       "</div>"
      ],
      "text/plain": [
       "Empty DataFrame\n",
       "Columns: [Station, LONGITUDE, LATITUDE, Depth, Protocol Label, Fraction, RUN, Region, ENA-SAMPLE, genome_name, genome_group, variable, val]\n",
       "Index: []"
      ]
     },
     "execution_count": 46,
     "metadata": {},
     "output_type": "execute_result"
    }
   ],
   "source": [
    "#make sure no uncultured phages are left in the mapping_counts_normalized_melted DF\n",
    "mapping_counts_normalized_melted[mapping_counts_normalized_melted['genome_group'] == 'uncultured_phage'].head()\n"
   ]
  },
  {
   "cell_type": "markdown",
   "metadata": {},
   "source": [
    "###  Select pairs of host/virus for x/y plots and create DFs"
   ]
  },
  {
   "cell_type": "code",
   "execution_count": 47,
   "metadata": {
    "collapsed": false
   },
   "outputs": [],
   "source": [
    "#'Euryarchaeota', 'MGII', 'Cyanophage', 'MGII_virus', 'SAR116_phage','Prochlorococcus','Synechococcus', 'Uncultured_phage', 'SAR11', 'Crenarchaeota', \n",
    " #'SAR11_Phage', 'Halovirus', 'SAR116', 'Roseobacter_phage']\n",
    "\n",
    "mapping_counts_normalized_melted_MGII_MGII_Virus =  mapping_counts_normalized_melted[(mapping_counts_normalized_melted['genome_group'] == 'MGII_virus') \n",
    "                                                                 | (mapping_counts_normalized_melted['genome_group'] == 'MGII')]\n",
    "mapping_counts_normalized_melted_SAR11_SAR11_phage =  mapping_counts_normalized_melted[(mapping_counts_normalized_melted['genome_group'] == 'SAR11') \n",
    "                                                                 | (mapping_counts_normalized_melted['genome_group'] == 'SAR11_Phage')]\n",
    "mapping_counts_normalized_melted_Cyanobacteria_Cyanophage =  mapping_counts_normalized_melted[(mapping_counts_normalized_melted['genome_group'] == 'Synechococcus') \n",
    "                                                                 | (mapping_counts_normalized_melted['genome_group'] == 'Cyanophage') \n",
    "                                                                | (mapping_counts_normalized_melted['genome_group'] == 'Prochlorococcus')]\n",
    "\n",
    "mapping_counts_normalized_melted_Cyanobacteria_MGII =  mapping_counts_normalized_melted[(mapping_counts_normalized_melted['genome_group'] == 'Synechococcus') \n",
    "                                                                 | (mapping_counts_normalized_melted['genome_group'] == 'MGII') \n",
    "                                                                | (mapping_counts_normalized_melted['genome_group'] == 'Prochlorococcus')]\n",
    "mapping_counts_normalized_melted_Cyanobacteria_SAR11 =  mapping_counts_normalized_melted[(mapping_counts_normalized_melted['genome_group'] == 'Synechococcus') \n",
    "                                                                 | (mapping_counts_normalized_melted['genome_group'] == 'SAR11') \n",
    "                                                                | (mapping_counts_normalized_melted['genome_group'] == 'Prochlorococcus')]"
   ]
  },
  {
   "cell_type": "markdown",
   "metadata": {},
   "source": [
    "#### Save"
   ]
  },
  {
   "cell_type": "code",
   "execution_count": 48,
   "metadata": {
    "collapsed": false
   },
   "outputs": [],
   "source": [
    "\n",
    "mapping_counts_normalized_melted_SAR11_SAR11_phage.to_csv(path + '/DataFrames/mapping_counts_normalized_melted_SAR11_SAR11_phage.csv')\n",
    "mapping_counts_normalized_melted_Cyanobacteria_Cyanophage.to_csv(path + '/DataFrames/mapping_counts_normalized_melted_Cyanobacteria_Cyanophage.csv')\n",
    "mapping_counts_normalized_melted_MGII_MGII_Virus.to_csv(path + '/DataFrames/mapping_counts_normalized_melted_MGII_MGII_Virus.csv')\n",
    "mapping_counts_normalized_melted_Cyanobacteria_SAR11.to_csv(path + '/DataFrames/mapping_counts_normalized_melted_Cyanobacteria_SAR11.csv')\n",
    "mapping_counts_normalized_melted_Cyanobacteria_MGII.to_csv(path + '/DataFrames/mapping_counts_normalized_melted_Cyanobacteria_MGII.csv')"
   ]
  },
  {
   "cell_type": "markdown",
   "metadata": {},
   "source": [
    "#### get unique names of fraction\n"
   ]
  },
  {
   "cell_type": "code",
   "execution_count": 49,
   "metadata": {
    "collapsed": false
   },
   "outputs": [
    {
     "data": {
      "text/plain": [
       "['BACT', 'RNA', 'VIRUS']"
      ]
     },
     "execution_count": 49,
     "metadata": {},
     "output_type": "execute_result"
    }
   ],
   "source": [
    "\n",
    "k = mapping_counts_normalized_melted.Fraction\n",
    "\n",
    "\n",
    "list(OrderedDict.fromkeys(k))"
   ]
  },
  {
   "cell_type": "markdown",
   "metadata": {},
   "source": [
    "### mapping pivoted by phage/host plus station region and fraction.\n",
    "will be used later for x/y plots"
   ]
  },
  {
   "cell_type": "code",
   "execution_count": 50,
   "metadata": {
    "collapsed": false
   },
   "outputs": [],
   "source": [
    "\n",
    "\n",
    "\n",
    "mapping_counts_normalized_melted_MGII_MGII_Virus_plus_fraction =\\\n",
    "        mapping_counts_normalized_melted_MGII_MGII_Virus.pivot_table(values=['val'],\n",
    "        index=['Station', 'Region', 'Fraction'], columns=['genome_group'], aggfunc= np.sum)\n",
    "mapping_counts_normalized_melted_SAR11_SAR11_phage_plus_fraction =\\\n",
    "        mapping_counts_normalized_melted_SAR11_SAR11_phage.pivot_table(values=['val'],\n",
    "        index=['Station', 'Region', 'Fraction'], columns=['genome_group'], aggfunc= np.sum)\n",
    "mapping_counts_normalized_melted_Cyanobacteria_Cyanophage_plus_fraction =\\\n",
    "        mapping_counts_normalized_melted_Cyanobacteria_Cyanophage.pivot_table(values=['val'],\n",
    "        index=['Station', 'Region', 'Fraction'], columns=['genome_group'], aggfunc= np.sum)\n",
    "    \n"
   ]
  },
  {
   "cell_type": "markdown",
   "metadata": {},
   "source": [
    "### mapping pivoted by phage/host plus station and region\n",
    "\n"
   ]
  },
  {
   "cell_type": "code",
   "execution_count": 51,
   "metadata": {
    "collapsed": false
   },
   "outputs": [],
   "source": [
    "mapping_counts_normalized_melted_MGII_MGII_Virus =\\\n",
    "        mapping_counts_normalized_melted_MGII_MGII_Virus.pivot_table(values=['val'],\n",
    "        index=['Station', 'Region'], columns=['genome_group'], aggfunc= np.sum)\n",
    "mapping_counts_normalized_melted_SAR11_SAR11_phage =\\\n",
    "        mapping_counts_normalized_melted_SAR11_SAR11_phage.pivot_table(values=['val'],\n",
    "        index=['Station', 'Region'], columns=['genome_group'], aggfunc= np.sum)\n",
    "mapping_counts_normalized_melted_Cyanobacteria_Cyanophage =\\\n",
    "        mapping_counts_normalized_melted_Cyanobacteria_Cyanophage.pivot_table(values=['val'],\n",
    "        index=['Station', 'Region'], columns=['genome_group'], aggfunc= np.sum)"
   ]
  },
  {
   "cell_type": "markdown",
   "metadata": {},
   "source": [
    "### remove multiindex column"
   ]
  },
  {
   "cell_type": "code",
   "execution_count": 52,
   "metadata": {
    "collapsed": true
   },
   "outputs": [],
   "source": [
    "mapping_counts_normalized_melted_MGII_MGII_Virus.columns = mapping_counts_normalized_melted_MGII_MGII_Virus.columns.get_level_values(1)\n",
    "mapping_counts_normalized_melted_Cyanobacteria_Cyanophage.columns = mapping_counts_normalized_melted_Cyanobacteria_Cyanophage.columns.get_level_values(1)\n",
    "mapping_counts_normalized_melted_SAR11_SAR11_phage.columns = mapping_counts_normalized_melted_SAR11_SAR11_phage.columns.get_level_values(1)\n",
    "\n",
    "mapping_counts_normalized_melted_MGII_MGII_Virus_plus_fraction.columns = mapping_counts_normalized_melted_MGII_MGII_Virus_plus_fraction.columns.get_level_values(1)\n",
    "mapping_counts_normalized_melted_Cyanobacteria_Cyanophage_plus_fraction.columns = mapping_counts_normalized_melted_Cyanobacteria_Cyanophage_plus_fraction.columns.get_level_values(1)\n",
    "mapping_counts_normalized_melted_SAR11_SAR11_phage_plus_fraction.columns = mapping_counts_normalized_melted_SAR11_SAR11_phage_plus_fraction.columns.get_level_values(1)\n"
   ]
  },
  {
   "cell_type": "markdown",
   "metadata": {},
   "source": [
    "### create a cyanobacteria column"
   ]
  },
  {
   "cell_type": "code",
   "execution_count": 53,
   "metadata": {
    "collapsed": false
   },
   "outputs": [],
   "source": [
    "mapping_counts_normalized_melted_Cyanobacteria_Cyanophage_plus_fraction['Cyanobacteria'] = mapping_counts_normalized_melted_Cyanobacteria_Cyanophage_plus_fraction['Prochlorococcus'] +\\\n",
    "mapping_counts_normalized_melted_Cyanobacteria_Cyanophage_plus_fraction['Synechococcus']\n"
   ]
  },
  {
   "cell_type": "markdown",
   "metadata": {},
   "source": [
    "#### save"
   ]
  },
  {
   "cell_type": "code",
   "execution_count": 54,
   "metadata": {
    "collapsed": true
   },
   "outputs": [],
   "source": [
    "\n",
    "mapping_counts_normalized_melted_MGII_MGII_Virus.to_csv(path + '/DataFrames/mapping_counts_normalized_melted_MGII_MGII_Virus.csv')\n",
    "mapping_counts_normalized_melted_Cyanobacteria_Cyanophage.to_csv(path + '/DataFrames/mapping_counts_normalized_melted_Cyanobacteria_Cyanophage.csv')\n",
    "mapping_counts_normalized_melted_SAR11_SAR11_phage.to_csv(path + '/DataFrames/mapping_counts_normalized_melted_SAR11_SAR11_phage.csv')\n",
    "\n",
    "mapping_counts_normalized_melted_MGII_MGII_Virus_plus_fraction.to_csv(path + '/DataFrames/mapping_counts_normalized_melted_MGII_MGII_Virus_plus_fraction.csv')\n",
    "mapping_counts_normalized_melted_Cyanobacteria_Cyanophage_plus_fraction.to_csv(path + '/DataFrames/mapping_counts_normalized_melted_Cyanobacteria_Cyanophage_plus_fraction.csv')\n",
    "mapping_counts_normalized_melted_SAR11_SAR11_phage_plus_fraction.to_csv(path + '/DataFrames/mapping_counts_normalized_melted_SAR11_SAR11_phage_plus_fraction.csv')\n",
    "\n",
    "\n",
    "\n"
   ]
  },
  {
   "cell_type": "markdown",
   "metadata": {},
   "source": [
    "\n",
    "## create a melted DF with now no contigs from tara for the chord diagram \n",
    "circ = circadian (the Eilat project)"
   ]
  },
  {
   "cell_type": "code",
   "execution_count": 55,
   "metadata": {
    "collapsed": false
   },
   "outputs": [],
   "source": [
    "\n",
    "\n",
    "mapping_counts_normalized_melted_MGII_virus_only_circ_contigs = \\\n",
    "                            mapping_counts_normalized_melted[(mapping_counts_normalized_melted['genome_group'] == 'MGII_virus')\n",
    "                            #& (mapping_counts_normalized_melted['genome'].isin(n_contigs))\n",
    "                            & (mapping_counts_normalized_melted['Fraction'] != 'RNA')]\n"
   ]
  },
  {
   "cell_type": "markdown",
   "metadata": {
    "collapsed": false
   },
   "source": [
    "#### reate a groupby datdframe with sum per region and percent of contig in each region\n",
    "\n"
   ]
  },
  {
   "cell_type": "code",
   "execution_count": 56,
   "metadata": {
    "collapsed": false
   },
   "outputs": [],
   "source": [
    "\n",
    "MGII_virus_RS = mapping_counts_normalized_melted_MGII_virus_only_circ_contigs\\\n",
    "[mapping_counts_normalized_melted_MGII_virus_only_circ_contigs['Region']=='RS']\n",
    "#a['p'] = (a['val'] / a.val.sum())* 100\n",
    "MGII_virus_RS_genome_grouped = MGII_virus_RS.groupby('genome_name')\n",
    "MGII_virus_RS_genome_grouped_sumed = MGII_virus_RS_genome_grouped.aggregate(np.sum)\n",
    "\n",
    "MGII_virus_RS_genome_grouped_sumed['percernt'] = MGII_virus_RS_genome_grouped_sumed['val']\\\n",
    "                                    / MGII_virus_RS_genome_grouped_sumed.val.sum() *100"
   ]
  },
  {
   "cell_type": "markdown",
   "metadata": {},
   "source": [
    "## Pivot and SUM\n",
    "\n"
   ]
  },
  {
   "cell_type": "code",
   "execution_count": 57,
   "metadata": {
    "collapsed": false
   },
   "outputs": [],
   "source": [
    "\n",
    "mapping_counts_normalized_melted_MGII_virus_only_circ_contigs_pivoted = mapping_counts_normalized_melted_MGII_virus_only_circ_contigs.pivot_table(index='Station', columns='genome_name', values='val')\n"
   ]
  },
  {
   "cell_type": "code",
   "execution_count": 58,
   "metadata": {
    "collapsed": true
   },
   "outputs": [],
   "source": [
    "mapping_counts_normalized_melted_MGII_virus_only_circ_contigs_pivoted_by_region = mapping_counts_normalized_melted_MGII_virus_only_circ_contigs.pivot_table(index='Region', columns='genome_name', values='val', \n",
    "                                                                              aggfunc='sum')\n",
    "\n",
    "\n"
   ]
  },
  {
   "cell_type": "markdown",
   "metadata": {},
   "source": [
    "### Save"
   ]
  },
  {
   "cell_type": "code",
   "execution_count": 59,
   "metadata": {
    "collapsed": false
   },
   "outputs": [],
   "source": [
    "mapping_counts_normalized_melted_MGII_virus_only_circ_contigs_pivoted_by_region.to_csv(path + '/DataFrames/mapping_counts_normalized_melted_MGII_virus_only_circ_contigs_pivoted_by_region.csv')\n"
   ]
  },
  {
   "cell_type": "code",
   "execution_count": 60,
   "metadata": {
    "collapsed": false
   },
   "outputs": [],
   "source": [
    "mapping_counts_normalized_melted_MGII_virus_only_circ_contigs_pivoted.to_csv(path + '/DataFrames/mapping_counts_normalized_melted_MGII_virus_only_circ_contigs_pivoted.csv')\n"
   ]
  },
  {
   "cell_type": "markdown",
   "metadata": {},
   "source": [
    "### Pivot BY GROUP"
   ]
  },
  {
   "cell_type": "markdown",
   "metadata": {},
   "source": [
    "###### mapping_counts_normalized_melted_MGII_MGII_Virus_raw"
   ]
  },
  {
   "cell_type": "code",
   "execution_count": 61,
   "metadata": {
    "collapsed": false
   },
   "outputs": [],
   "source": [
    "\n",
    "mapping_counts_normalized_melted_MGII_MGII_Virus_raw =  mapping_counts_normalized_melted[(mapping_counts_normalized_melted['genome_group'] == 'MGII_virus') \n",
    "                                                                 & (mapping_counts_normalized_melted['genome_group'] != 'MGII')\n",
    "                                                                 & (mapping_counts_normalized_melted['Fraction'] != 'RNA')\n",
    "                                                                 ]\n",
    "\n",
    "mapping_counts_normalized_melted_MGII_MGII_Virus_pivoted_by_station = mapping_counts_normalized_melted_MGII_MGII_Virus_raw.pivot_table(index='Station', columns='genome_name', values='val', \n",
    "                                                                              aggfunc='sum')\n",
    "\n",
    "\n",
    "\n",
    "## just vDNA\n",
    "\n",
    "mapping_counts_normalized_melted_MGII_MGII_Virus_raw_viral_fraction =  mapping_counts_normalized_melted[(mapping_counts_normalized_melted['genome_group'] == 'MGII_virus') \n",
    "                                                                 & (mapping_counts_normalized_melted['genome_group'] != 'MGII')\n",
    "                                                                 & (mapping_counts_normalized_melted['Fraction'] == 'VIRUS')\n",
    "                                                                 ]\n",
    "\n",
    "mapping_counts_normalized_melted_MGII_MGII_Virus_pivoted_by_station_viral_fraction = mapping_counts_normalized_melted_MGII_MGII_Virus_raw_viral_fraction.pivot_table(index='Station', columns='genome_name', values='val', \n",
    "                                                                              aggfunc='sum')\n",
    "\n",
    "\n",
    "\n",
    "mapping_counts_normalized_melted_MGII_MGII_Virus_pivoted_by_ENA_SAMPLE_viral_fraction = mapping_counts_normalized_melted_MGII_MGII_Virus_raw_viral_fraction.pivot_table(index='ENA-SAMPLE', columns='genome_name', values='val', \n",
    "                                                                              aggfunc='sum')\n",
    "\n"
   ]
  },
  {
   "cell_type": "markdown",
   "metadata": {},
   "source": [
    "### Save"
   ]
  },
  {
   "cell_type": "code",
   "execution_count": 62,
   "metadata": {
    "collapsed": false
   },
   "outputs": [],
   "source": [
    "mapping_counts_normalized_melted_MGII_MGII_Virus_pivoted_by_station.to_csv(path + '/DataFrames/mapping_counts_normalized_melted_MGII_MGII_Virus_pivoted_by_station.csv')\n",
    "\n",
    "mapping_counts_normalized_melted_MGII_MGII_Virus_pivoted_by_station_viral_fraction.to_csv(path + '/DataFrames/mapping_counts_normalized_melted_MGII_MGII_Virus_pivoted_by_station_viral_fraction.csv')\n",
    "\n",
    "mapping_counts_normalized_melted_MGII_MGII_Virus_pivoted_by_ENA_SAMPLE_viral_fraction.to_csv(path + '/DataFrames/mapping_counts_normalized_melted_MGII_MGII_Virus_pivoted_by_ENA_SAMPLE_viral_fraction.csv')\n",
    "\n"
   ]
  },
  {
   "cell_type": "markdown",
   "metadata": {
    "collapsed": false
   },
   "source": [
    "## META Data\n"
   ]
  },
  {
   "cell_type": "markdown",
   "metadata": {},
   "source": [
    "#### chem data"
   ]
  },
  {
   "cell_type": "code",
   "execution_count": 63,
   "metadata": {
    "collapsed": false
   },
   "outputs": [],
   "source": [
    "## there are cells with 99999 as input change that to NaN\n",
    "tara_meta_.replace('99999.0', np.nan, inplace=True)\n",
    "tara_meta_.replace('Na', np.nan, inplace=True)\n",
    "eilat_chem_meta.replace('Na', np.nan, inplace=True)"
   ]
  },
  {
   "cell_type": "code",
   "execution_count": 64,
   "metadata": {
    "collapsed": false
   },
   "outputs": [
    {
     "data": {
      "text/plain": [
       "433"
      ]
     },
     "execution_count": 64,
     "metadata": {},
     "output_type": "execute_result"
    }
   ],
   "source": [
    "len(tara_meta_)#.head(1)"
   ]
  },
  {
   "cell_type": "code",
   "execution_count": 65,
   "metadata": {
    "collapsed": false
   },
   "outputs": [
    {
     "data": {
      "text/plain": [
       "243"
      ]
     },
     "execution_count": 65,
     "metadata": {},
     "output_type": "execute_result"
    }
   ],
   "source": [
    "len(tara_chem_meta)#.head(1)"
   ]
  },
  {
   "cell_type": "code",
   "execution_count": 66,
   "metadata": {
    "collapsed": false
   },
   "outputs": [
    {
     "data": {
      "text/plain": [
       "434"
      ]
     },
     "execution_count": 66,
     "metadata": {},
     "output_type": "execute_result"
    }
   ],
   "source": [
    "#mergae\n",
    "tara_chem_meta_per_run = pd.merge(tara_meta_, tara_chem_meta, on='ENA-SAMPLE', how='outer')\n",
    "\n",
    "len(tara_chem_meta_per_run)#.head()"
   ]
  },
  {
   "cell_type": "markdown",
   "metadata": {},
   "source": [
    "#### get just those runs that we use for the analysis"
   ]
  },
  {
   "cell_type": "code",
   "execution_count": 67,
   "metadata": {
    "collapsed": false
   },
   "outputs": [],
   "source": [
    "## get just those runs that we use for the analysis\n",
    "RUN_list = mapping_counts_normalized.RUN\n",
    "tara_chem_meta_per_run = tara_chem_meta_per_run[tara_chem_meta_per_run['RUN'].isin(mapping_counts_normalized.RUN)]\n"
   ]
  },
  {
   "cell_type": "markdown",
   "metadata": {},
   "source": [
    "### Merge tara_chem_meta_per_run with meta_run_region_plus_eilat"
   ]
  },
  {
   "cell_type": "code",
   "execution_count": 68,
   "metadata": {
    "collapsed": false
   },
   "outputs": [],
   "source": [
    "\n",
    "tara_chem_meta_per_run = pd.merge(tara_chem_meta_per_run,meta_run_region_plus_eilat, left_on='RUN', right_on='RUN')"
   ]
  },
  {
   "cell_type": "markdown",
   "metadata": {},
   "source": [
    "### add all groups and MGII levels to the metadata\n",
    "\n"
   ]
  },
  {
   "cell_type": "code",
   "execution_count": 69,
   "metadata": {
    "collapsed": false
   },
   "outputs": [],
   "source": [
    "mapping_counts_normalized_melted_MGII =  mapping_counts_normalized_melted[mapping_counts_normalized_melted['genome_group'] == 'MGII']\n",
    "\n",
    "mapping_counts_normalized_melted_MGII_pivoted_by_RUN = mapping_counts_normalized_melted_MGII.pivot_table(index='RUN', columns='genome_group', values='val', \n",
    "                                                                              aggfunc='sum')\n",
    "\n",
    "\n",
    "mapping_counts_normalized_melted_MGII =  mapping_counts_normalized_melted[mapping_counts_normalized_melted['genome_group'] == 'MGII']\n",
    "\n",
    "mapping_counts_normalized_melted_MGII_pivoted_by_RUN = mapping_counts_normalized_melted_MGII.pivot_table(index='RUN', columns='genome_group', values='val', \n",
    "                                                                              aggfunc='sum')\n",
    "\n",
    "\n",
    "mapping_counts_normalized_melted_pivoted_by_RUN = mapping_counts_normalized_melted.pivot_table(index='RUN', columns='genome_group', values='val', \n",
    "                                                                              aggfunc='sum')\n",
    "\n",
    "\n",
    "\n",
    "tara_and_eilat_chem_meta_per_run = pd.concat([eilat_chem_meta, tara_chem_meta_per_run], axis=0,  join='outer')\n",
    "\n",
    "tara_and_eilat_chem_meta_per_run.set_index('RUN', inplace=True)\n",
    "\n",
    "\n",
    "tara_and_eilat_chem_meta__plus_MGII_per_run = pd.merge(tara_and_eilat_chem_meta_per_run, mapping_counts_normalized_melted_MGII_pivoted_by_RUN, \n",
    "                                                       left_index=True, right_index=True)\n",
    "tara_and_eilat_chem_meta__plus_group_counts_per_run = pd.merge(tara_and_eilat_chem_meta_per_run, mapping_counts_normalized_melted_pivoted_by_RUN, \n",
    "                                                       left_index=True, right_index=True)"
   ]
  },
  {
   "cell_type": "code",
   "execution_count": 70,
   "metadata": {
    "collapsed": false
   },
   "outputs": [
    {
     "data": {
      "text/html": [
       "<div>\n",
       "<table border=\"1\" class=\"dataframe\">\n",
       "  <thead>\n",
       "    <tr style=\"text-align: right;\">\n",
       "      <th>genome_group</th>\n",
       "      <th>Crenarchaeota</th>\n",
       "      <th>Cyanophage</th>\n",
       "      <th>Euryarchaeota</th>\n",
       "      <th>Group_D</th>\n",
       "      <th>Halovirus</th>\n",
       "      <th>MGII</th>\n",
       "      <th>MGII_virus</th>\n",
       "      <th>Prochlorococcus</th>\n",
       "      <th>SAR11</th>\n",
       "      <th>SAR116</th>\n",
       "      <th>SAR116_Phage</th>\n",
       "      <th>SAR11_Phage</th>\n",
       "      <th>Synechococcus</th>\n",
       "    </tr>\n",
       "    <tr>\n",
       "      <th>RUN</th>\n",
       "      <th></th>\n",
       "      <th></th>\n",
       "      <th></th>\n",
       "      <th></th>\n",
       "      <th></th>\n",
       "      <th></th>\n",
       "      <th></th>\n",
       "      <th></th>\n",
       "      <th></th>\n",
       "      <th></th>\n",
       "      <th></th>\n",
       "      <th></th>\n",
       "      <th></th>\n",
       "    </tr>\n",
       "  </thead>\n",
       "  <tbody>\n",
       "    <tr>\n",
       "      <th>EG06</th>\n",
       "      <td>0.000514</td>\n",
       "      <td>64.572453</td>\n",
       "      <td>0.002337</td>\n",
       "      <td>0.130245</td>\n",
       "      <td>0.0</td>\n",
       "      <td>116.074892</td>\n",
       "      <td>1.535563</td>\n",
       "      <td>89.789823</td>\n",
       "      <td>15.622486</td>\n",
       "      <td>0.471804</td>\n",
       "      <td>0.019670</td>\n",
       "      <td>0.579593</td>\n",
       "      <td>4.074782</td>\n",
       "    </tr>\n",
       "    <tr>\n",
       "      <th>EG12</th>\n",
       "      <td>0.000544</td>\n",
       "      <td>66.105517</td>\n",
       "      <td>0.000132</td>\n",
       "      <td>0.101129</td>\n",
       "      <td>0.0</td>\n",
       "      <td>168.318963</td>\n",
       "      <td>1.106159</td>\n",
       "      <td>73.403964</td>\n",
       "      <td>24.171924</td>\n",
       "      <td>0.278998</td>\n",
       "      <td>0.020450</td>\n",
       "      <td>0.506806</td>\n",
       "      <td>2.441884</td>\n",
       "    </tr>\n",
       "    <tr>\n",
       "      <th>EG18</th>\n",
       "      <td>0.000274</td>\n",
       "      <td>19.933363</td>\n",
       "      <td>0.000434</td>\n",
       "      <td>0.064064</td>\n",
       "      <td>0.0</td>\n",
       "      <td>105.268375</td>\n",
       "      <td>0.875181</td>\n",
       "      <td>107.788522</td>\n",
       "      <td>20.734830</td>\n",
       "      <td>0.272665</td>\n",
       "      <td>0.010593</td>\n",
       "      <td>0.415265</td>\n",
       "      <td>4.580567</td>\n",
       "    </tr>\n",
       "    <tr>\n",
       "      <th>EG24</th>\n",
       "      <td>0.000404</td>\n",
       "      <td>19.685895</td>\n",
       "      <td>0.000973</td>\n",
       "      <td>0.087274</td>\n",
       "      <td>0.0</td>\n",
       "      <td>66.311378</td>\n",
       "      <td>1.361046</td>\n",
       "      <td>141.915302</td>\n",
       "      <td>18.077407</td>\n",
       "      <td>0.175113</td>\n",
       "      <td>0.011160</td>\n",
       "      <td>0.411259</td>\n",
       "      <td>6.837379</td>\n",
       "    </tr>\n",
       "    <tr>\n",
       "      <th>ER06</th>\n",
       "      <td>0.177359</td>\n",
       "      <td>6.231580</td>\n",
       "      <td>0.080563</td>\n",
       "      <td>0.002640</td>\n",
       "      <td>0.0</td>\n",
       "      <td>146.401669</td>\n",
       "      <td>0.016443</td>\n",
       "      <td>110.278631</td>\n",
       "      <td>72.777144</td>\n",
       "      <td>91.181729</td>\n",
       "      <td>0.001318</td>\n",
       "      <td>0.059044</td>\n",
       "      <td>487.231304</td>\n",
       "    </tr>\n",
       "  </tbody>\n",
       "</table>\n",
       "</div>"
      ],
      "text/plain": [
       "genome_group  Crenarchaeota  Cyanophage  Euryarchaeota   Group_D  Halovirus  \\\n",
       "RUN                                                                           \n",
       "EG06               0.000514   64.572453       0.002337  0.130245        0.0   \n",
       "EG12               0.000544   66.105517       0.000132  0.101129        0.0   \n",
       "EG18               0.000274   19.933363       0.000434  0.064064        0.0   \n",
       "EG24               0.000404   19.685895       0.000973  0.087274        0.0   \n",
       "ER06               0.177359    6.231580       0.080563  0.002640        0.0   \n",
       "\n",
       "genome_group        MGII  MGII_virus  Prochlorococcus      SAR11     SAR116  \\\n",
       "RUN                                                                           \n",
       "EG06          116.074892    1.535563        89.789823  15.622486   0.471804   \n",
       "EG12          168.318963    1.106159        73.403964  24.171924   0.278998   \n",
       "EG18          105.268375    0.875181       107.788522  20.734830   0.272665   \n",
       "EG24           66.311378    1.361046       141.915302  18.077407   0.175113   \n",
       "ER06          146.401669    0.016443       110.278631  72.777144  91.181729   \n",
       "\n",
       "genome_group  SAR116_Phage  SAR11_Phage  Synechococcus  \n",
       "RUN                                                     \n",
       "EG06              0.019670     0.579593       4.074782  \n",
       "EG12              0.020450     0.506806       2.441884  \n",
       "EG18              0.010593     0.415265       4.580567  \n",
       "EG24              0.011160     0.411259       6.837379  \n",
       "ER06              0.001318     0.059044     487.231304  "
      ]
     },
     "execution_count": 70,
     "metadata": {},
     "output_type": "execute_result"
    }
   ],
   "source": [
    "mapping_counts_normalized_melted_pivoted_by_RUN.head()#[mapping_counts_normalized_melted_pivoted_by_RUN.Region == 'RS']"
   ]
  },
  {
   "cell_type": "markdown",
   "metadata": {},
   "source": [
    "### save"
   ]
  },
  {
   "cell_type": "code",
   "execution_count": 71,
   "metadata": {
    "collapsed": false
   },
   "outputs": [],
   "source": [
    "##save including MGII\n",
    "tara_and_eilat_chem_meta_per_run.to_csv(path + '/DataFrames/tara_and_eilat_chem_meta__plus_MGII_per_run.csv')\n",
    "\n",
    "### Save all groups\n",
    "tara_and_eilat_chem_meta__plus_group_counts_per_run.to_csv(path + '/DataFrames/tara_and_eilat_chem_meta__plus_group_counts_per_run.csv')\n",
    "\n",
    "\n"
   ]
  },
  {
   "cell_type": "markdown",
   "metadata": {},
   "source": [
    "### GroupBy Sample"
   ]
  },
  {
   "cell_type": "code",
   "execution_count": 72,
   "metadata": {
    "collapsed": false
   },
   "outputs": [],
   "source": [
    "tara_and_eilat_chem_meta__plus_MGII_grouped_by_ENA_SAMPLE = tara_and_eilat_chem_meta__plus_MGII_per_run.groupby('ENA-SAMPLE')\n",
    "tara_and_eilat_chem_meta__plus_groups_grouped_by_ENA_SAMPLE = tara_and_eilat_chem_meta__plus_group_counts_per_run.groupby('ENA-SAMPLE')"
   ]
  },
  {
   "cell_type": "markdown",
   "metadata": {},
   "source": [
    "#### change 'NO2 [umol/L]' column type tot float"
   ]
  },
  {
   "cell_type": "code",
   "execution_count": 73,
   "metadata": {
    "collapsed": false
   },
   "outputs": [],
   "source": [
    "tara_and_eilat_chem_meta__plus_MGII_per_run['NO2 [umol/L]'] = tara_and_eilat_chem_meta__plus_MGII_per_run['NO2 [umol/L]'].astype(float)\n",
    "tara_and_eilat_chem_meta__plus_MGII_per_run['NO2NO3 [umol/L]'] = tara_and_eilat_chem_meta__plus_MGII_per_run['NO2NO3 [umol/L]'].astype(float)\n",
    "\n",
    "\n",
    "tara_and_eilat_chem_meta__plus_group_counts_per_run['NO2 [umol/L]'] = tara_and_eilat_chem_meta__plus_group_counts_per_run['NO2 [umol/L]'].astype(float)\n",
    "tara_and_eilat_chem_meta__plus_group_counts_per_run['NO2NO3 [umol/L]'] = tara_and_eilat_chem_meta__plus_group_counts_per_run['NO2NO3 [umol/L]'].astype(float)\n",
    "\n"
   ]
  },
  {
   "cell_type": "markdown",
   "metadata": {},
   "source": [
    "### Aggregate and calculate means"
   ]
  },
  {
   "cell_type": "code",
   "execution_count": 74,
   "metadata": {
    "collapsed": false
   },
   "outputs": [],
   "source": [
    "tara_and_eilat_chem_meta__plus_MGII_grouped_by_ENA_SAMPLE_sumed = \\\n",
    "tara_and_eilat_chem_meta__plus_MGII_grouped_by_ENA_SAMPLE.aggregate({'MGII': np.sum, 'Chlorophyll' : np.mean, 'Depth': np.mean,\n",
    "                                                                    'NO2 [umol/L]': np.mean, 'NO2NO3 [umol/L]' : np.mean ,\n",
    "                                                                    'Nitrates [umol/L]': np.mean, 'Oxygen [umol/kg]' : np.mean,\n",
    "                                                                   'PO4 [umol/L]' : np.mean,\n",
    "                                                                   'Region' : (lambda x: x[0]), 'Salinity [PSU]' : np.mean,\n",
    "                                                                    'Temperature' : np.mean})\n",
    "\n",
    "tara_and_eilat_chem_meta__plus_groups_grouped_by_ENA_SAMPLE_sumed = \\\n",
    "tara_and_eilat_chem_meta__plus_groups_grouped_by_ENA_SAMPLE.aggregate({'MGII': np.sum, 'Chlorophyll' : np.mean, 'Depth': np.mean,\n",
    "                                                                    'NO2 [umol/L]': np.mean, 'NO2NO3 [umol/L]' : np.mean ,\n",
    "                                                                    'Nitrates [umol/L]': np.mean, 'Oxygen [umol/kg]' : np.mean,\n",
    "                                                                   'PO4 [umol/L]' : np.mean,\n",
    "                                                                   'Region' : (lambda x: x[0]), 'Salinity [PSU]' : np.mean,\n",
    "                                                                    'Temperature' : np.mean, 'SAR11': np.sum,\n",
    "                                                                    'SAR116': np.sum, 'Cyanophage' : np.sum,\n",
    "                                                                     'Crenarchaeota' : np.sum, 'Euryarchaeota' : np.sum,\n",
    "                                                                      'Prochlorococcus' : np.sum, 'Synechococcus' : np.sum,\n",
    "                                                                      'MGII_virus' : np.sum})\n",
    "tara_and_eilat_chem_meta__plus_groups_grouped_by_ENA_SAMPLE_sumed['Cyanobacteria'] = \\\n",
    "tara_and_eilat_chem_meta__plus_groups_grouped_by_ENA_SAMPLE_sumed['Prochlorococcus'] +\\\n",
    "tara_and_eilat_chem_meta__plus_groups_grouped_by_ENA_SAMPLE_sumed['Synechococcus']\n"
   ]
  },
  {
   "cell_type": "markdown",
   "metadata": {},
   "source": [
    "#### Save"
   ]
  },
  {
   "cell_type": "code",
   "execution_count": 75,
   "metadata": {
    "collapsed": false
   },
   "outputs": [],
   "source": [
    "tara_and_eilat_chem_meta__plus_MGII_grouped_by_ENA_SAMPLE_sumed.to_csv(path + '/DataFrames/tara_and_eilat_chem_meta__plus_MGII_grouped_by_ENA_SAMPLE_sumed.csv')\n",
    "tara_and_eilat_chem_meta__plus_groups_grouped_by_ENA_SAMPLE_sumed.to_csv(path + '/DataFrames/tara_and_eilat_chem_meta__plus_groups_grouped_by_ENA_SAMPLE_sumed.csv')\n",
    "\n",
    "\n"
   ]
  },
  {
   "cell_type": "code",
   "execution_count": 76,
   "metadata": {
    "collapsed": false
   },
   "outputs": [
    {
     "data": {
      "text/html": [
       "<div>\n",
       "<table border=\"1\" class=\"dataframe\">\n",
       "  <thead>\n",
       "    <tr style=\"text-align: right;\">\n",
       "      <th></th>\n",
       "      <th>Chlorophyll</th>\n",
       "      <th>Temperature</th>\n",
       "      <th>NO2 [umol/L]</th>\n",
       "      <th>Oxygen [umol/kg]</th>\n",
       "      <th>PO4 [umol/L]</th>\n",
       "      <th>MGII_virus</th>\n",
       "      <th>Cyanophage</th>\n",
       "      <th>Depth</th>\n",
       "      <th>Salinity [PSU]</th>\n",
       "      <th>SAR116</th>\n",
       "      <th>Nitrates [umol/L]</th>\n",
       "      <th>MGII</th>\n",
       "      <th>SAR11</th>\n",
       "      <th>NO2NO3 [umol/L]</th>\n",
       "      <th>Prochlorococcus</th>\n",
       "      <th>Synechococcus</th>\n",
       "      <th>Region</th>\n",
       "      <th>Euryarchaeota</th>\n",
       "      <th>Crenarchaeota</th>\n",
       "      <th>Cyanobacteria</th>\n",
       "    </tr>\n",
       "    <tr>\n",
       "      <th>ENA-SAMPLE</th>\n",
       "      <th></th>\n",
       "      <th></th>\n",
       "      <th></th>\n",
       "      <th></th>\n",
       "      <th></th>\n",
       "      <th></th>\n",
       "      <th></th>\n",
       "      <th></th>\n",
       "      <th></th>\n",
       "      <th></th>\n",
       "      <th></th>\n",
       "      <th></th>\n",
       "      <th></th>\n",
       "      <th></th>\n",
       "      <th></th>\n",
       "      <th></th>\n",
       "      <th></th>\n",
       "      <th></th>\n",
       "      <th></th>\n",
       "      <th></th>\n",
       "    </tr>\n",
       "  </thead>\n",
       "  <tbody>\n",
       "    <tr>\n",
       "      <th>ERS488545</th>\n",
       "      <td>0.048898</td>\n",
       "      <td>25.062100</td>\n",
       "      <td>0.100</td>\n",
       "      <td>179.9</td>\n",
       "      <td>0.590</td>\n",
       "      <td>1.054436</td>\n",
       "      <td>319.635701</td>\n",
       "      <td>5.0</td>\n",
       "      <td>36.1</td>\n",
       "      <td>2.067187</td>\n",
       "      <td>2.30</td>\n",
       "      <td>188.310390</td>\n",
       "      <td>100.443014</td>\n",
       "      <td>2.80</td>\n",
       "      <td>443.083410</td>\n",
       "      <td>22.117887</td>\n",
       "      <td>RS</td>\n",
       "      <td>0.008048</td>\n",
       "      <td>0.012034</td>\n",
       "      <td>465.201296</td>\n",
       "    </tr>\n",
       "    <tr>\n",
       "      <th>ERS488558</th>\n",
       "      <td>0.048898</td>\n",
       "      <td>25.062100</td>\n",
       "      <td>0.100</td>\n",
       "      <td>179.9</td>\n",
       "      <td>0.590</td>\n",
       "      <td>19.312100</td>\n",
       "      <td>502.636386</td>\n",
       "      <td>5.0</td>\n",
       "      <td>36.1</td>\n",
       "      <td>1.027008</td>\n",
       "      <td>2.30</td>\n",
       "      <td>2.290923</td>\n",
       "      <td>3.449219</td>\n",
       "      <td>2.80</td>\n",
       "      <td>2.053602</td>\n",
       "      <td>1.040395</td>\n",
       "      <td>RS</td>\n",
       "      <td>0.001974</td>\n",
       "      <td>0.000105</td>\n",
       "      <td>3.093997</td>\n",
       "    </tr>\n",
       "    <tr>\n",
       "      <th>ERS488569</th>\n",
       "      <td>0.000000</td>\n",
       "      <td>25.824383</td>\n",
       "      <td>0.020</td>\n",
       "      <td>38.1</td>\n",
       "      <td>2.430</td>\n",
       "      <td>0.786729</td>\n",
       "      <td>1104.979957</td>\n",
       "      <td>5.0</td>\n",
       "      <td>34.6</td>\n",
       "      <td>1.926588</td>\n",
       "      <td>42.50</td>\n",
       "      <td>229.422196</td>\n",
       "      <td>164.667086</td>\n",
       "      <td>34.63</td>\n",
       "      <td>628.470519</td>\n",
       "      <td>16.924147</td>\n",
       "      <td>RS</td>\n",
       "      <td>0.006772</td>\n",
       "      <td>0.010431</td>\n",
       "      <td>645.394666</td>\n",
       "    </tr>\n",
       "    <tr>\n",
       "      <th>ERS488589</th>\n",
       "      <td>0.000000</td>\n",
       "      <td>25.824383</td>\n",
       "      <td>0.020</td>\n",
       "      <td>38.1</td>\n",
       "      <td>2.430</td>\n",
       "      <td>11.262284</td>\n",
       "      <td>399.614131</td>\n",
       "      <td>5.0</td>\n",
       "      <td>34.6</td>\n",
       "      <td>0.029397</td>\n",
       "      <td>42.50</td>\n",
       "      <td>0.372121</td>\n",
       "      <td>0.245717</td>\n",
       "      <td>34.63</td>\n",
       "      <td>0.590169</td>\n",
       "      <td>0.104254</td>\n",
       "      <td>RS</td>\n",
       "      <td>0.000000</td>\n",
       "      <td>0.000048</td>\n",
       "      <td>0.694423</td>\n",
       "    </tr>\n",
       "    <tr>\n",
       "      <th>ERS488599</th>\n",
       "      <td>0.224444</td>\n",
       "      <td>26.050367</td>\n",
       "      <td>0.100</td>\n",
       "      <td>179.9</td>\n",
       "      <td>0.590</td>\n",
       "      <td>0.928990</td>\n",
       "      <td>49.052770</td>\n",
       "      <td>80.0</td>\n",
       "      <td>36.1</td>\n",
       "      <td>1.319652</td>\n",
       "      <td>2.30</td>\n",
       "      <td>125.890022</td>\n",
       "      <td>64.280586</td>\n",
       "      <td>2.80</td>\n",
       "      <td>52.870431</td>\n",
       "      <td>4.957826</td>\n",
       "      <td>RS</td>\n",
       "      <td>0.040480</td>\n",
       "      <td>1.102711</td>\n",
       "      <td>57.828257</td>\n",
       "    </tr>\n",
       "    <tr>\n",
       "      <th>ERS488613</th>\n",
       "      <td>0.224444</td>\n",
       "      <td>26.050367</td>\n",
       "      <td>0.020</td>\n",
       "      <td>38.1</td>\n",
       "      <td>2.430</td>\n",
       "      <td>1.138710</td>\n",
       "      <td>10.252227</td>\n",
       "      <td>80.0</td>\n",
       "      <td>34.6</td>\n",
       "      <td>0.643579</td>\n",
       "      <td>42.50</td>\n",
       "      <td>0.719501</td>\n",
       "      <td>2.300096</td>\n",
       "      <td>34.63</td>\n",
       "      <td>5.036611</td>\n",
       "      <td>1.734996</td>\n",
       "      <td>RS</td>\n",
       "      <td>0.001442</td>\n",
       "      <td>0.006383</td>\n",
       "      <td>6.771607</td>\n",
       "    </tr>\n",
       "    <tr>\n",
       "      <th>ERS488621</th>\n",
       "      <td>0.163228</td>\n",
       "      <td>27.329517</td>\n",
       "      <td>0.020</td>\n",
       "      <td>38.1</td>\n",
       "      <td>2.430</td>\n",
       "      <td>0.565288</td>\n",
       "      <td>294.651724</td>\n",
       "      <td>5.0</td>\n",
       "      <td>34.6</td>\n",
       "      <td>5.289339</td>\n",
       "      <td>42.50</td>\n",
       "      <td>123.735710</td>\n",
       "      <td>212.424628</td>\n",
       "      <td>34.63</td>\n",
       "      <td>149.071197</td>\n",
       "      <td>105.207276</td>\n",
       "      <td>RS</td>\n",
       "      <td>0.014949</td>\n",
       "      <td>0.097506</td>\n",
       "      <td>254.278473</td>\n",
       "    </tr>\n",
       "    <tr>\n",
       "      <th>ERS488649</th>\n",
       "      <td>0.186697</td>\n",
       "      <td>27.598650</td>\n",
       "      <td>0.120</td>\n",
       "      <td>186.2</td>\n",
       "      <td>0.570</td>\n",
       "      <td>0.856313</td>\n",
       "      <td>382.135480</td>\n",
       "      <td>5.0</td>\n",
       "      <td>35.4</td>\n",
       "      <td>3.350502</td>\n",
       "      <td>4.00</td>\n",
       "      <td>202.770705</td>\n",
       "      <td>208.338262</td>\n",
       "      <td>5.46</td>\n",
       "      <td>86.081487</td>\n",
       "      <td>63.529908</td>\n",
       "      <td>RS</td>\n",
       "      <td>0.010961</td>\n",
       "      <td>0.132826</td>\n",
       "      <td>149.611395</td>\n",
       "    </tr>\n",
       "    <tr>\n",
       "      <th>ERS488658</th>\n",
       "      <td>0.186697</td>\n",
       "      <td>27.598650</td>\n",
       "      <td>0.120</td>\n",
       "      <td>186.2</td>\n",
       "      <td>0.570</td>\n",
       "      <td>11.841165</td>\n",
       "      <td>551.832676</td>\n",
       "      <td>5.0</td>\n",
       "      <td>35.4</td>\n",
       "      <td>0.073402</td>\n",
       "      <td>4.00</td>\n",
       "      <td>7.786986</td>\n",
       "      <td>7.346537</td>\n",
       "      <td>5.46</td>\n",
       "      <td>2.181902</td>\n",
       "      <td>1.631834</td>\n",
       "      <td>RS</td>\n",
       "      <td>0.002093</td>\n",
       "      <td>0.005690</td>\n",
       "      <td>3.813736</td>\n",
       "    </tr>\n",
       "    <tr>\n",
       "      <th>ERS488673</th>\n",
       "      <td>0.186697</td>\n",
       "      <td>27.598650</td>\n",
       "      <td>0.140</td>\n",
       "      <td>189.8</td>\n",
       "      <td>0.530</td>\n",
       "      <td>31.506058</td>\n",
       "      <td>1064.305688</td>\n",
       "      <td>5.0</td>\n",
       "      <td>35.4</td>\n",
       "      <td>0.519355</td>\n",
       "      <td>3.90</td>\n",
       "      <td>0.242276</td>\n",
       "      <td>0.500326</td>\n",
       "      <td>4.90</td>\n",
       "      <td>0.971477</td>\n",
       "      <td>0.848538</td>\n",
       "      <td>RS</td>\n",
       "      <td>0.000341</td>\n",
       "      <td>0.000117</td>\n",
       "      <td>1.820015</td>\n",
       "    </tr>\n",
       "    <tr>\n",
       "      <th>ERS488685</th>\n",
       "      <td>0.181406</td>\n",
       "      <td>27.589917</td>\n",
       "      <td>0.120</td>\n",
       "      <td>186.2</td>\n",
       "      <td>0.570</td>\n",
       "      <td>0.511260</td>\n",
       "      <td>48.538772</td>\n",
       "      <td>60.0</td>\n",
       "      <td>35.4</td>\n",
       "      <td>0.881054</td>\n",
       "      <td>4.00</td>\n",
       "      <td>19.098993</td>\n",
       "      <td>37.303624</td>\n",
       "      <td>5.46</td>\n",
       "      <td>14.642327</td>\n",
       "      <td>2.168034</td>\n",
       "      <td>RS</td>\n",
       "      <td>0.029300</td>\n",
       "      <td>1.676905</td>\n",
       "      <td>16.810361</td>\n",
       "    </tr>\n",
       "    <tr>\n",
       "      <th>ERS488701</th>\n",
       "      <td>0.181406</td>\n",
       "      <td>27.589917</td>\n",
       "      <td>0.120</td>\n",
       "      <td>186.2</td>\n",
       "      <td>0.570</td>\n",
       "      <td>13.894011</td>\n",
       "      <td>140.500919</td>\n",
       "      <td>60.0</td>\n",
       "      <td>35.4</td>\n",
       "      <td>0.026140</td>\n",
       "      <td>4.00</td>\n",
       "      <td>0.201286</td>\n",
       "      <td>0.189523</td>\n",
       "      <td>5.46</td>\n",
       "      <td>0.183295</td>\n",
       "      <td>0.029426</td>\n",
       "      <td>RS</td>\n",
       "      <td>0.000079</td>\n",
       "      <td>0.000952</td>\n",
       "      <td>0.212721</td>\n",
       "    </tr>\n",
       "    <tr>\n",
       "      <th>Eilat_A_12</th>\n",
       "      <td>0.348000</td>\n",
       "      <td>26.000000</td>\n",
       "      <td>0.055</td>\n",
       "      <td>NaN</td>\n",
       "      <td>0.022</td>\n",
       "      <td>21.270205</td>\n",
       "      <td>104.289268</td>\n",
       "      <td>5.0</td>\n",
       "      <td>NaN</td>\n",
       "      <td>182.508229</td>\n",
       "      <td>0.01</td>\n",
       "      <td>279.702147</td>\n",
       "      <td>175.561942</td>\n",
       "      <td>NaN</td>\n",
       "      <td>475.060626</td>\n",
       "      <td>58.594752</td>\n",
       "      <td>RS</td>\n",
       "      <td>0.203732</td>\n",
       "      <td>0.040405</td>\n",
       "      <td>533.655378</td>\n",
       "    </tr>\n",
       "    <tr>\n",
       "      <th>Eilat_A_18</th>\n",
       "      <td>0.348000</td>\n",
       "      <td>26.000000</td>\n",
       "      <td>0.055</td>\n",
       "      <td>NaN</td>\n",
       "      <td>0.022</td>\n",
       "      <td>36.153654</td>\n",
       "      <td>76.047842</td>\n",
       "      <td>5.0</td>\n",
       "      <td>NaN</td>\n",
       "      <td>22.611079</td>\n",
       "      <td>0.01</td>\n",
       "      <td>213.061162</td>\n",
       "      <td>252.337108</td>\n",
       "      <td>NaN</td>\n",
       "      <td>338.173856</td>\n",
       "      <td>444.499177</td>\n",
       "      <td>RS</td>\n",
       "      <td>2.303488</td>\n",
       "      <td>0.052686</td>\n",
       "      <td>782.673033</td>\n",
       "    </tr>\n",
       "    <tr>\n",
       "      <th>Eilat_A_24</th>\n",
       "      <td>0.348000</td>\n",
       "      <td>26.000000</td>\n",
       "      <td>0.055</td>\n",
       "      <td>NaN</td>\n",
       "      <td>0.022</td>\n",
       "      <td>40.563522</td>\n",
       "      <td>96.701019</td>\n",
       "      <td>5.0</td>\n",
       "      <td>NaN</td>\n",
       "      <td>174.889343</td>\n",
       "      <td>0.01</td>\n",
       "      <td>254.549573</td>\n",
       "      <td>125.374637</td>\n",
       "      <td>NaN</td>\n",
       "      <td>669.499804</td>\n",
       "      <td>43.114601</td>\n",
       "      <td>RS</td>\n",
       "      <td>0.482597</td>\n",
       "      <td>0.148660</td>\n",
       "      <td>712.614405</td>\n",
       "    </tr>\n",
       "    <tr>\n",
       "      <th>Eilat_A_6</th>\n",
       "      <td>0.348000</td>\n",
       "      <td>26.000000</td>\n",
       "      <td>0.055</td>\n",
       "      <td>NaN</td>\n",
       "      <td>0.022</td>\n",
       "      <td>20.177365</td>\n",
       "      <td>104.115180</td>\n",
       "      <td>5.0</td>\n",
       "      <td>NaN</td>\n",
       "      <td>92.057794</td>\n",
       "      <td>0.01</td>\n",
       "      <td>262.794665</td>\n",
       "      <td>88.502821</td>\n",
       "      <td>NaN</td>\n",
       "      <td>200.345177</td>\n",
       "      <td>491.508935</td>\n",
       "      <td>RS</td>\n",
       "      <td>0.083019</td>\n",
       "      <td>0.177912</td>\n",
       "      <td>691.854112</td>\n",
       "    </tr>\n",
       "  </tbody>\n",
       "</table>\n",
       "</div>"
      ],
      "text/plain": [
       "            Chlorophyll  Temperature  NO2 [umol/L]  Oxygen [umol/kg]  \\\n",
       "ENA-SAMPLE                                                             \n",
       "ERS488545      0.048898    25.062100         0.100             179.9   \n",
       "ERS488558      0.048898    25.062100         0.100             179.9   \n",
       "ERS488569      0.000000    25.824383         0.020              38.1   \n",
       "ERS488589      0.000000    25.824383         0.020              38.1   \n",
       "ERS488599      0.224444    26.050367         0.100             179.9   \n",
       "ERS488613      0.224444    26.050367         0.020              38.1   \n",
       "ERS488621      0.163228    27.329517         0.020              38.1   \n",
       "ERS488649      0.186697    27.598650         0.120             186.2   \n",
       "ERS488658      0.186697    27.598650         0.120             186.2   \n",
       "ERS488673      0.186697    27.598650         0.140             189.8   \n",
       "ERS488685      0.181406    27.589917         0.120             186.2   \n",
       "ERS488701      0.181406    27.589917         0.120             186.2   \n",
       "Eilat_A_12     0.348000    26.000000         0.055               NaN   \n",
       "Eilat_A_18     0.348000    26.000000         0.055               NaN   \n",
       "Eilat_A_24     0.348000    26.000000         0.055               NaN   \n",
       "Eilat_A_6      0.348000    26.000000         0.055               NaN   \n",
       "\n",
       "            PO4 [umol/L]  MGII_virus   Cyanophage  Depth  Salinity [PSU]  \\\n",
       "ENA-SAMPLE                                                                 \n",
       "ERS488545          0.590    1.054436   319.635701    5.0            36.1   \n",
       "ERS488558          0.590   19.312100   502.636386    5.0            36.1   \n",
       "ERS488569          2.430    0.786729  1104.979957    5.0            34.6   \n",
       "ERS488589          2.430   11.262284   399.614131    5.0            34.6   \n",
       "ERS488599          0.590    0.928990    49.052770   80.0            36.1   \n",
       "ERS488613          2.430    1.138710    10.252227   80.0            34.6   \n",
       "ERS488621          2.430    0.565288   294.651724    5.0            34.6   \n",
       "ERS488649          0.570    0.856313   382.135480    5.0            35.4   \n",
       "ERS488658          0.570   11.841165   551.832676    5.0            35.4   \n",
       "ERS488673          0.530   31.506058  1064.305688    5.0            35.4   \n",
       "ERS488685          0.570    0.511260    48.538772   60.0            35.4   \n",
       "ERS488701          0.570   13.894011   140.500919   60.0            35.4   \n",
       "Eilat_A_12         0.022   21.270205   104.289268    5.0             NaN   \n",
       "Eilat_A_18         0.022   36.153654    76.047842    5.0             NaN   \n",
       "Eilat_A_24         0.022   40.563522    96.701019    5.0             NaN   \n",
       "Eilat_A_6          0.022   20.177365   104.115180    5.0             NaN   \n",
       "\n",
       "                SAR116  Nitrates [umol/L]        MGII       SAR11  \\\n",
       "ENA-SAMPLE                                                          \n",
       "ERS488545     2.067187               2.30  188.310390  100.443014   \n",
       "ERS488558     1.027008               2.30    2.290923    3.449219   \n",
       "ERS488569     1.926588              42.50  229.422196  164.667086   \n",
       "ERS488589     0.029397              42.50    0.372121    0.245717   \n",
       "ERS488599     1.319652               2.30  125.890022   64.280586   \n",
       "ERS488613     0.643579              42.50    0.719501    2.300096   \n",
       "ERS488621     5.289339              42.50  123.735710  212.424628   \n",
       "ERS488649     3.350502               4.00  202.770705  208.338262   \n",
       "ERS488658     0.073402               4.00    7.786986    7.346537   \n",
       "ERS488673     0.519355               3.90    0.242276    0.500326   \n",
       "ERS488685     0.881054               4.00   19.098993   37.303624   \n",
       "ERS488701     0.026140               4.00    0.201286    0.189523   \n",
       "Eilat_A_12  182.508229               0.01  279.702147  175.561942   \n",
       "Eilat_A_18   22.611079               0.01  213.061162  252.337108   \n",
       "Eilat_A_24  174.889343               0.01  254.549573  125.374637   \n",
       "Eilat_A_6    92.057794               0.01  262.794665   88.502821   \n",
       "\n",
       "            NO2NO3 [umol/L]  Prochlorococcus  Synechococcus Region  \\\n",
       "ENA-SAMPLE                                                           \n",
       "ERS488545              2.80       443.083410      22.117887     RS   \n",
       "ERS488558              2.80         2.053602       1.040395     RS   \n",
       "ERS488569             34.63       628.470519      16.924147     RS   \n",
       "ERS488589             34.63         0.590169       0.104254     RS   \n",
       "ERS488599              2.80        52.870431       4.957826     RS   \n",
       "ERS488613             34.63         5.036611       1.734996     RS   \n",
       "ERS488621             34.63       149.071197     105.207276     RS   \n",
       "ERS488649              5.46        86.081487      63.529908     RS   \n",
       "ERS488658              5.46         2.181902       1.631834     RS   \n",
       "ERS488673              4.90         0.971477       0.848538     RS   \n",
       "ERS488685              5.46        14.642327       2.168034     RS   \n",
       "ERS488701              5.46         0.183295       0.029426     RS   \n",
       "Eilat_A_12              NaN       475.060626      58.594752     RS   \n",
       "Eilat_A_18              NaN       338.173856     444.499177     RS   \n",
       "Eilat_A_24              NaN       669.499804      43.114601     RS   \n",
       "Eilat_A_6               NaN       200.345177     491.508935     RS   \n",
       "\n",
       "            Euryarchaeota  Crenarchaeota  Cyanobacteria  \n",
       "ENA-SAMPLE                                               \n",
       "ERS488545        0.008048       0.012034     465.201296  \n",
       "ERS488558        0.001974       0.000105       3.093997  \n",
       "ERS488569        0.006772       0.010431     645.394666  \n",
       "ERS488589        0.000000       0.000048       0.694423  \n",
       "ERS488599        0.040480       1.102711      57.828257  \n",
       "ERS488613        0.001442       0.006383       6.771607  \n",
       "ERS488621        0.014949       0.097506     254.278473  \n",
       "ERS488649        0.010961       0.132826     149.611395  \n",
       "ERS488658        0.002093       0.005690       3.813736  \n",
       "ERS488673        0.000341       0.000117       1.820015  \n",
       "ERS488685        0.029300       1.676905      16.810361  \n",
       "ERS488701        0.000079       0.000952       0.212721  \n",
       "Eilat_A_12       0.203732       0.040405     533.655378  \n",
       "Eilat_A_18       2.303488       0.052686     782.673033  \n",
       "Eilat_A_24       0.482597       0.148660     712.614405  \n",
       "Eilat_A_6        0.083019       0.177912     691.854112  "
      ]
     },
     "execution_count": 76,
     "metadata": {},
     "output_type": "execute_result"
    }
   ],
   "source": [
    "tara_and_eilat_chem_meta__plus_groups_grouped_by_ENA_SAMPLE_sumed[tara_and_eilat_chem_meta__plus_groups_grouped_by_ENA_SAMPLE_sumed.Region=='RS']"
   ]
  }
 ],
 "metadata": {
  "kernelspec": {
   "display_name": "Python 2",
   "language": "python",
   "name": "python2"
  },
  "language_info": {
   "codemirror_mode": {
    "name": "ipython",
    "version": 2
   },
   "file_extension": ".py",
   "mimetype": "text/x-python",
   "name": "python",
   "nbconvert_exporter": "python",
   "pygments_lexer": "ipython2",
   "version": "2.7.12"
  }
 },
 "nbformat": 4,
 "nbformat_minor": 0
}
