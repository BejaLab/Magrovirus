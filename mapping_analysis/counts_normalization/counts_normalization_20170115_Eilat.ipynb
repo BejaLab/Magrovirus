{
 "cells": [
  {
   "cell_type": "code",
   "execution_count": 1,
   "metadata": {
    "collapsed": true
   },
   "outputs": [],
   "source": [
    "import pandas as pd\n",
    "import os"
   ]
  },
  {
   "cell_type": "code",
   "execution_count": 2,
   "metadata": {
    "collapsed": true
   },
   "outputs": [],
   "source": [
    "counts_folder = './data/counts/eilat/'"
   ]
  },
  {
   "cell_type": "code",
   "execution_count": 3,
   "metadata": {
    "collapsed": false
   },
   "outputs": [],
   "source": [
    "# Load metadata dataframes and renames columns\n",
    "\n",
    "# TARA metadata\n",
    "metadata_file = \"./data/eilat_metadata.20170109.tsv\"\n",
    "metadata_df = pd.read_csv(metadata_file)\n",
    "\n",
    "# Info of the genomes used for mapping\n",
    "genome_info_tsv = './data/genomes_names.20170109.mgii_virus_size_corrected.tsv'\n",
    "genome_info_df = pd.read_csv(genome_info_tsv, sep = '\\t', index_col=0)"
   ]
  },
  {
   "cell_type": "code",
   "execution_count": 4,
   "metadata": {
    "collapsed": false
   },
   "outputs": [],
   "source": [
    "# Concatenates the different tsv files with the counts into a tidy dataframe\n",
    "counts_df = pd.DataFrame()\n",
    "for path, dirs, files in os.walk(counts_folder):\n",
    "    for filename in files:\n",
    "        dataset_name = filename.split('.')[0]\n",
    "        file_path = os.path.join(path, filename)\n",
    "        dataset_df = pd.read_csv(file_path, sep='\\t', names=['genome_hash','count'])#, dtype={'genome_hash':str,'count':pd.np.int})\n",
    "        dataset_df['dataset'] = dataset_name\n",
    "        \n",
    "        counts_df = pd.concat([counts_df, dataset_df])"
   ]
  },
  {
   "cell_type": "code",
   "execution_count": 5,
   "metadata": {
    "collapsed": true
   },
   "outputs": [],
   "source": [
    "# Add metadata columns\n",
    "counts_df = counts_df.merge(metadata_df, on='dataset', how='left')\n",
    "counts_df = counts_df.merge(genome_info_df, on='genome_hash', how='left')"
   ]
  },
  {
   "cell_type": "code",
   "execution_count": 6,
   "metadata": {
    "collapsed": false
   },
   "outputs": [
    {
     "data": {
      "text/html": [
       "<div>\n",
       "<table border=\"1\" class=\"dataframe\">\n",
       "  <thead>\n",
       "    <tr style=\"text-align: right;\">\n",
       "      <th></th>\n",
       "      <th>genome_hash</th>\n",
       "      <th>count</th>\n",
       "      <th>dataset</th>\n",
       "      <th>toal_read_count</th>\n",
       "      <th>PE_read_count</th>\n",
       "      <th>total_base_count</th>\n",
       "      <th>Longitude</th>\n",
       "      <th>Latitude</th>\n",
       "      <th>Fraction</th>\n",
       "      <th>Depth</th>\n",
       "      <th>index</th>\n",
       "      <th>genome_group</th>\n",
       "      <th>genome_name</th>\n",
       "      <th>genome_size</th>\n",
       "    </tr>\n",
       "  </thead>\n",
       "  <tbody>\n",
       "    <tr>\n",
       "      <th>0</th>\n",
       "      <td>c84cc511d5c752080560170a686fbd8d</td>\n",
       "      <td>11799</td>\n",
       "      <td>EG06</td>\n",
       "      <td>49660188.0</td>\n",
       "      <td>24830094.0</td>\n",
       "      <td>2.507839e+09</td>\n",
       "      <td>29.53</td>\n",
       "      <td>34.97</td>\n",
       "      <td>gDNA</td>\n",
       "      <td>5.0</td>\n",
       "      <td>gDNA_6_final</td>\n",
       "      <td>Cyanophage</td>\n",
       "      <td>gi|326783659|ref|NC_015287.1| Synechococcus ph...</td>\n",
       "      <td>232878</td>\n",
       "    </tr>\n",
       "    <tr>\n",
       "      <th>1</th>\n",
       "      <td>790dffecf0995b43d78fa92e5cd1e364</td>\n",
       "      <td>0</td>\n",
       "      <td>EG06</td>\n",
       "      <td>49660188.0</td>\n",
       "      <td>24830094.0</td>\n",
       "      <td>2.507839e+09</td>\n",
       "      <td>29.53</td>\n",
       "      <td>34.97</td>\n",
       "      <td>gDNA</td>\n",
       "      <td>5.0</td>\n",
       "      <td>gDNA_6_final</td>\n",
       "      <td>Euryarchaeota</td>\n",
       "      <td>gi|932822996|dbj|BBBE01000013.1| Thermococcus ...</td>\n",
       "      <td>71728</td>\n",
       "    </tr>\n",
       "    <tr>\n",
       "      <th>2</th>\n",
       "      <td>e3085b25fedc1064bd16b67cc16c723c</td>\n",
       "      <td>0</td>\n",
       "      <td>EG06</td>\n",
       "      <td>49660188.0</td>\n",
       "      <td>24830094.0</td>\n",
       "      <td>2.507839e+09</td>\n",
       "      <td>29.53</td>\n",
       "      <td>34.97</td>\n",
       "      <td>gDNA</td>\n",
       "      <td>5.0</td>\n",
       "      <td>gDNA_6_final</td>\n",
       "      <td>Euryarchaeota</td>\n",
       "      <td>gi|932822980|dbj|BBBE01000029.1| Thermococcus ...</td>\n",
       "      <td>2100</td>\n",
       "    </tr>\n",
       "    <tr>\n",
       "      <th>3</th>\n",
       "      <td>374d112a90d61db8c233e986d45061dd</td>\n",
       "      <td>4322</td>\n",
       "      <td>EG06</td>\n",
       "      <td>49660188.0</td>\n",
       "      <td>24830094.0</td>\n",
       "      <td>2.507839e+09</td>\n",
       "      <td>29.53</td>\n",
       "      <td>34.97</td>\n",
       "      <td>gDNA</td>\n",
       "      <td>5.0</td>\n",
       "      <td>gDNA_6_final</td>\n",
       "      <td>MGII</td>\n",
       "      <td>contig__157656</td>\n",
       "      <td>67929</td>\n",
       "    </tr>\n",
       "    <tr>\n",
       "      <th>4</th>\n",
       "      <td>ec6bc2d0a8055d648d0cde3779f38377</td>\n",
       "      <td>85</td>\n",
       "      <td>EG06</td>\n",
       "      <td>49660188.0</td>\n",
       "      <td>24830094.0</td>\n",
       "      <td>2.507839e+09</td>\n",
       "      <td>29.53</td>\n",
       "      <td>34.97</td>\n",
       "      <td>gDNA</td>\n",
       "      <td>5.0</td>\n",
       "      <td>gDNA_6_final</td>\n",
       "      <td>Cyanophage</td>\n",
       "      <td>gi|472340512|ref|NC_020847.1| Cyanophage MED4-...</td>\n",
       "      <td>38327</td>\n",
       "    </tr>\n",
       "  </tbody>\n",
       "</table>\n",
       "</div>"
      ],
      "text/plain": [
       "                        genome_hash  count dataset  toal_read_count  \\\n",
       "0  c84cc511d5c752080560170a686fbd8d  11799    EG06       49660188.0   \n",
       "1  790dffecf0995b43d78fa92e5cd1e364      0    EG06       49660188.0   \n",
       "2  e3085b25fedc1064bd16b67cc16c723c      0    EG06       49660188.0   \n",
       "3  374d112a90d61db8c233e986d45061dd   4322    EG06       49660188.0   \n",
       "4  ec6bc2d0a8055d648d0cde3779f38377     85    EG06       49660188.0   \n",
       "\n",
       "   PE_read_count  total_base_count  Longitude  Latitude Fraction  Depth  \\\n",
       "0     24830094.0      2.507839e+09      29.53     34.97     gDNA    5.0   \n",
       "1     24830094.0      2.507839e+09      29.53     34.97     gDNA    5.0   \n",
       "2     24830094.0      2.507839e+09      29.53     34.97     gDNA    5.0   \n",
       "3     24830094.0      2.507839e+09      29.53     34.97     gDNA    5.0   \n",
       "4     24830094.0      2.507839e+09      29.53     34.97     gDNA    5.0   \n",
       "\n",
       "          index   genome_group  \\\n",
       "0  gDNA_6_final     Cyanophage   \n",
       "1  gDNA_6_final  Euryarchaeota   \n",
       "2  gDNA_6_final  Euryarchaeota   \n",
       "3  gDNA_6_final           MGII   \n",
       "4  gDNA_6_final     Cyanophage   \n",
       "\n",
       "                                         genome_name  genome_size  \n",
       "0  gi|326783659|ref|NC_015287.1| Synechococcus ph...       232878  \n",
       "1  gi|932822996|dbj|BBBE01000013.1| Thermococcus ...        71728  \n",
       "2  gi|932822980|dbj|BBBE01000029.1| Thermococcus ...         2100  \n",
       "3                                     contig__157656        67929  \n",
       "4  gi|472340512|ref|NC_020847.1| Cyanophage MED4-...        38327  "
      ]
     },
     "execution_count": 6,
     "metadata": {},
     "output_type": "execute_result"
    }
   ],
   "source": [
    "counts_df.head()"
   ]
  },
  {
   "cell_type": "code",
   "execution_count": 7,
   "metadata": {
    "collapsed": false
   },
   "outputs": [],
   "source": [
    "# Count normalization\n",
    "counts_df['n_count'] = counts_df['count']/((counts_df['genome_size']/1000) * (counts_df['PE_read_count']/1000000))"
   ]
  },
  {
   "cell_type": "code",
   "execution_count": 8,
   "metadata": {
    "collapsed": true
   },
   "outputs": [],
   "source": [
    "# Tags viral datasets\n",
    "viral_criterion_fraction = counts_df['dataset'].map(lambda x: x[1] == 'V')"
   ]
  },
  {
   "cell_type": "code",
   "execution_count": 9,
   "metadata": {
    "collapsed": true
   },
   "outputs": [],
   "source": [
    "# Name the Fraction of origin\n",
    "counts_df.loc[viral_criterion_fraction,'Fraction'] = 'VIRUS'\n",
    "counts_df.loc[viral_criterion_fraction == False,'Fraction'] = 'BACT'"
   ]
  },
  {
   "cell_type": "code",
   "execution_count": 10,
   "metadata": {
    "collapsed": true
   },
   "outputs": [],
   "source": [
    "counts_df['Station'] = \"Eilat\""
   ]
  },
  {
   "cell_type": "code",
   "execution_count": 11,
   "metadata": {
    "collapsed": false
   },
   "outputs": [],
   "source": [
    "# List to reorder dataframe\n",
    "column_order = [u'genome_group',u'genome_hash', u'count', u'n_count', u'Fraction', u'dataset', u'Station', u'Latitude',\n",
    "       u'Longitude', u'Depth', u'PE_read_count', u'genome_name',u'genome_size']"
   ]
  },
  {
   "cell_type": "code",
   "execution_count": 12,
   "metadata": {
    "collapsed": false
   },
   "outputs": [],
   "source": [
    "counts_df = counts_df[column_order]"
   ]
  },
  {
   "cell_type": "code",
   "execution_count": 13,
   "metadata": {
    "collapsed": false
   },
   "outputs": [
    {
     "data": {
      "text/html": [
       "<div>\n",
       "<table border=\"1\" class=\"dataframe\">\n",
       "  <thead>\n",
       "    <tr style=\"text-align: right;\">\n",
       "      <th></th>\n",
       "      <th>count</th>\n",
       "      <th>n_count</th>\n",
       "      <th>Latitude</th>\n",
       "      <th>Longitude</th>\n",
       "      <th>Depth</th>\n",
       "      <th>PE_read_count</th>\n",
       "      <th>genome_size</th>\n",
       "    </tr>\n",
       "  </thead>\n",
       "  <tbody>\n",
       "    <tr>\n",
       "      <th>count</th>\n",
       "      <td>3.084000e+03</td>\n",
       "      <td>3084.000000</td>\n",
       "      <td>3.084000e+03</td>\n",
       "      <td>3.084000e+03</td>\n",
       "      <td>3084.0</td>\n",
       "      <td>3.084000e+03</td>\n",
       "      <td>3.084000e+03</td>\n",
       "    </tr>\n",
       "    <tr>\n",
       "      <th>mean</th>\n",
       "      <td>9.308636e+04</td>\n",
       "      <td>1.897679</td>\n",
       "      <td>3.497000e+01</td>\n",
       "      <td>2.953000e+01</td>\n",
       "      <td>5.0</td>\n",
       "      <td>3.350762e+07</td>\n",
       "      <td>3.200314e+05</td>\n",
       "    </tr>\n",
       "    <tr>\n",
       "      <th>std</th>\n",
       "      <td>8.147721e+05</td>\n",
       "      <td>11.271321</td>\n",
       "      <td>7.106580e-15</td>\n",
       "      <td>1.065987e-14</td>\n",
       "      <td>0.0</td>\n",
       "      <td>9.620542e+06</td>\n",
       "      <td>6.640650e+05</td>\n",
       "    </tr>\n",
       "    <tr>\n",
       "      <th>min</th>\n",
       "      <td>0.000000e+00</td>\n",
       "      <td>0.000000</td>\n",
       "      <td>3.497000e+01</td>\n",
       "      <td>2.953000e+01</td>\n",
       "      <td>5.0</td>\n",
       "      <td>2.107071e+07</td>\n",
       "      <td>5.030000e+02</td>\n",
       "    </tr>\n",
       "    <tr>\n",
       "      <th>25%</th>\n",
       "      <td>0.000000e+00</td>\n",
       "      <td>0.000000</td>\n",
       "      <td>3.497000e+01</td>\n",
       "      <td>2.953000e+01</td>\n",
       "      <td>5.0</td>\n",
       "      <td>2.417264e+07</td>\n",
       "      <td>2.561100e+04</td>\n",
       "    </tr>\n",
       "    <tr>\n",
       "      <th>50%</th>\n",
       "      <td>1.700000e+01</td>\n",
       "      <td>0.008332</td>\n",
       "      <td>3.497000e+01</td>\n",
       "      <td>2.953000e+01</td>\n",
       "      <td>5.0</td>\n",
       "      <td>3.413963e+07</td>\n",
       "      <td>7.028500e+04</td>\n",
       "    </tr>\n",
       "    <tr>\n",
       "      <th>75%</th>\n",
       "      <td>1.082000e+03</td>\n",
       "      <td>0.233210</td>\n",
       "      <td>3.497000e+01</td>\n",
       "      <td>2.953000e+01</td>\n",
       "      <td>5.0</td>\n",
       "      <td>4.178902e+07</td>\n",
       "      <td>1.614400e+05</td>\n",
       "    </tr>\n",
       "    <tr>\n",
       "      <th>max</th>\n",
       "      <td>2.299925e+07</td>\n",
       "      <td>233.673538</td>\n",
       "      <td>3.497000e+01</td>\n",
       "      <td>2.953000e+01</td>\n",
       "      <td>5.0</td>\n",
       "      <td>4.677210e+07</td>\n",
       "      <td>3.148033e+06</td>\n",
       "    </tr>\n",
       "  </tbody>\n",
       "</table>\n",
       "</div>"
      ],
      "text/plain": [
       "              count      n_count      Latitude     Longitude   Depth  \\\n",
       "count  3.084000e+03  3084.000000  3.084000e+03  3.084000e+03  3084.0   \n",
       "mean   9.308636e+04     1.897679  3.497000e+01  2.953000e+01     5.0   \n",
       "std    8.147721e+05    11.271321  7.106580e-15  1.065987e-14     0.0   \n",
       "min    0.000000e+00     0.000000  3.497000e+01  2.953000e+01     5.0   \n",
       "25%    0.000000e+00     0.000000  3.497000e+01  2.953000e+01     5.0   \n",
       "50%    1.700000e+01     0.008332  3.497000e+01  2.953000e+01     5.0   \n",
       "75%    1.082000e+03     0.233210  3.497000e+01  2.953000e+01     5.0   \n",
       "max    2.299925e+07   233.673538  3.497000e+01  2.953000e+01     5.0   \n",
       "\n",
       "       PE_read_count   genome_size  \n",
       "count   3.084000e+03  3.084000e+03  \n",
       "mean    3.350762e+07  3.200314e+05  \n",
       "std     9.620542e+06  6.640650e+05  \n",
       "min     2.107071e+07  5.030000e+02  \n",
       "25%     2.417264e+07  2.561100e+04  \n",
       "50%     3.413963e+07  7.028500e+04  \n",
       "75%     4.178902e+07  1.614400e+05  \n",
       "max     4.677210e+07  3.148033e+06  "
      ]
     },
     "execution_count": 13,
     "metadata": {},
     "output_type": "execute_result"
    }
   ],
   "source": [
    "counts_df.describe()"
   ]
  },
  {
   "cell_type": "code",
   "execution_count": 14,
   "metadata": {
    "collapsed": true
   },
   "outputs": [],
   "source": [
    "counts_df.to_csv('normalized_reads.eilat.20170115.tsv', sep='\\t')"
   ]
  },
  {
   "cell_type": "code",
   "execution_count": null,
   "metadata": {
    "collapsed": true
   },
   "outputs": [],
   "source": []
  }
 ],
 "metadata": {
  "kernelspec": {
   "display_name": "Python 2",
   "language": "python",
   "name": "python2"
  },
  "language_info": {
   "codemirror_mode": {
    "name": "ipython",
    "version": 2
   },
   "file_extension": ".py",
   "mimetype": "text/x-python",
   "name": "python",
   "nbconvert_exporter": "python",
   "pygments_lexer": "ipython2",
   "version": "2.7.11"
  }
 },
 "nbformat": 4,
 "nbformat_minor": 0
}
